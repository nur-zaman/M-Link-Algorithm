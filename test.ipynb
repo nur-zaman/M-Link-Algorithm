{
 "cells": [
  {
   "cell_type": "code",
   "execution_count": 32,
   "metadata": {},
   "outputs": [],
   "source": [
    "import networkx as nx\n",
    "import numpy as np\n",
    "import pandas as pd\n",
    "import os"
   ]
  },
  {
   "cell_type": "code",
   "execution_count": 44,
   "metadata": {},
   "outputs": [],
   "source": [
    "dataset = 'test.txt'"
   ]
  },
  {
   "cell_type": "code",
   "execution_count": 46,
   "metadata": {},
   "outputs": [],
   "source": [
    "def get_edge_list(file_name):\n",
    "    # Open the file and read its contents\n",
    "    with open(file_name) as file:\n",
    "        lines = file.readlines()\n",
    "\n",
    "    # Remove lines that are comments (start with \"#\")\n",
    "    lines = [line for line in lines if '#' not in line]\n",
    "\n",
    "    # Convert each line to a pair of integers\n",
    "    edge_list = []\n",
    "    for line in lines:\n",
    "        edge = tuple(map(int, line.strip().split()))\n",
    "        edge_list.append(edge)\n",
    "    \n",
    "    return edge_list\n",
    "\n",
    "def get_undirected_graph_info(file_name):\n",
    "    my_edge_list = get_edge_list(file_name)\n",
    "    undirected_graph = nx.Graph()\n",
    "    undirected_graph.add_edges_from(my_edge_list)\n",
    "    file_info = file_name.split(os.sep)[-1].split('_')[0]\n",
    "    str_list = [file_info, 'nodes num:' + str(undirected_graph.number_of_nodes()), 'edges num:'\n",
    "                + str(undirected_graph.number_of_edges())]\n",
    "    print (' | '.join(str_list))\n",
    "\n",
    "\n",
    "def get_dir_info(dir_name):\n",
    "    my_walk = os.walk(dir_name)\n",
    "    my_root, sub_root_list, file_list = list(my_walk)[0]\n",
    "    path_list = map(lambda ele: my_root + os.sep + ele, file_list)\n",
    "    for my_path in path_list:\n",
    "        get_undirected_graph_info(my_path)\n"
   ]
  },
  {
   "cell_type": "code",
   "execution_count": 47,
   "metadata": {},
   "outputs": [],
   "source": [
    "edgeList = get_edge_list(dataset)\n",
    "graph = nx.Graph()\n",
    "graph.add_edges_from(edgeList)"
   ]
  },
  {
   "cell_type": "code",
   "execution_count": 50,
   "metadata": {},
   "outputs": [
    {
     "name": "stderr",
     "output_type": "stream",
     "text": [
      "C:\\Users\\Nur\\AppData\\Local\\Temp\\ipykernel_18180\\1421598768.py:1: FutureWarning: adjacency_matrix will return a scipy.sparse array instead of a matrix in Networkx 3.0.\n",
      "  Adj = nx.adjacency_matrix(graph)\n",
      "C:\\Users\\Nur\\AppData\\Local\\Temp\\ipykernel_18180\\1421598768.py:2: FutureWarning: incidence_matrix will return a scipy.sparse array instead of a matrix in Networkx 3.0.\n",
      "  inc = nx.incidence_matrix(graph)\n"
     ]
    }
   ],
   "source": [
    "Adj = nx.adjacency_matrix(graph)\n",
    "inc = nx.incidence_matrix(graph)\n",
    "nodes_length = len(graph.nodes())\n",
    "# print(Adj)"
   ]
  },
  {
   "cell_type": "code",
   "execution_count": 54,
   "metadata": {},
   "outputs": [
    {
     "name": "stdout",
     "output_type": "stream",
     "text": [
      "  (0, 0)\t1.0\n",
      "  (1, 0)\t1.0\n",
      "  (0, 1)\t1.0\n",
      "  (2, 1)\t1.0\n",
      "  (0, 2)\t1.0\n",
      "  (3, 2)\t1.0\n",
      "  (1, 3)\t1.0\n",
      "  (4, 3)\t1.0\n",
      "  (1, 4)\t1.0\n",
      "  (2, 4)\t1.0\n",
      "  (2, 5)\t1.0\n",
      "  (4, 5)\t1.0\n",
      "  (3, 6)\t1.0\n",
      "  (4, 6)\t1.0\n",
      "  (4, 7)\t1.0\n",
      "  (5, 7)\t1.0\n",
      "  (4, 8)\t1.0\n",
      "  (6, 8)\t1.0\n",
      "  (5, 9)\t1.0\n",
      "  (6, 9)\t1.0\n",
      "  (5, 10)\t1.0\n",
      "  (7, 10)\t1.0\n",
      "  (5, 11)\t1.0\n",
      "  (8, 11)\t1.0\n",
      "  (6, 12)\t1.0\n",
      "  (7, 12)\t1.0\n",
      "  (7, 13)\t1.0\n",
      "  (8, 13)\t1.0\n"
     ]
    }
   ],
   "source": [
    "print(inc)"
   ]
  },
  {
   "cell_type": "code",
   "execution_count": 65,
   "metadata": {},
   "outputs": [
    {
     "ename": "IndexError",
     "evalue": "row index (9) out of range",
     "output_type": "error",
     "traceback": [
      "\u001b[1;31m---------------------------------------------------------------------------\u001b[0m",
      "\u001b[1;31mIndexError\u001b[0m                                Traceback (most recent call last)",
      "\u001b[1;32md:\\Projects\\M-Link Algorithm\\test.ipynb Cell 7\u001b[0m in \u001b[0;36m<cell line: 9>\u001b[1;34m()\u001b[0m\n\u001b[0;32m      <a href='vscode-notebook-cell:/d%3A/Projects/M-Link%20Algorithm/test.ipynb#X10sZmlsZQ%3D%3D?line=6'>7</a>\u001b[0m         chrom \u001b[39m=\u001b[39m np\u001b[39m.\u001b[39mappend(chrom,rand)\n\u001b[0;32m      <a href='vscode-notebook-cell:/d%3A/Projects/M-Link%20Algorithm/test.ipynb#X10sZmlsZQ%3D%3D?line=7'>8</a>\u001b[0m     \u001b[39mreturn\u001b[39;00m chrom\n\u001b[1;32m----> <a href='vscode-notebook-cell:/d%3A/Projects/M-Link%20Algorithm/test.ipynb#X10sZmlsZQ%3D%3D?line=8'>9</a>\u001b[0m generate_chrom(\u001b[39m14\u001b[39;49m,inc)\n",
      "\u001b[1;32md:\\Projects\\M-Link Algorithm\\test.ipynb Cell 7\u001b[0m in \u001b[0;36mgenerate_chrom\u001b[1;34m(nodes_length, Adj)\u001b[0m\n\u001b[0;32m      <a href='vscode-notebook-cell:/d%3A/Projects/M-Link%20Algorithm/test.ipynb#X10sZmlsZQ%3D%3D?line=2'>3</a>\u001b[0m \u001b[39mfor\u001b[39;00m x \u001b[39min\u001b[39;00m \u001b[39mrange\u001b[39m(nodes_length):\n\u001b[0;32m      <a href='vscode-notebook-cell:/d%3A/Projects/M-Link%20Algorithm/test.ipynb#X10sZmlsZQ%3D%3D?line=3'>4</a>\u001b[0m     rand \u001b[39m=\u001b[39m np\u001b[39m.\u001b[39mrandom\u001b[39m.\u001b[39mrandint(\u001b[39m0\u001b[39m,nodes_length)\n\u001b[1;32m----> <a href='vscode-notebook-cell:/d%3A/Projects/M-Link%20Algorithm/test.ipynb#X10sZmlsZQ%3D%3D?line=4'>5</a>\u001b[0m     \u001b[39mwhile\u001b[39;00m Adj[x,rand] \u001b[39m!=\u001b[39m \u001b[39m1\u001b[39m:\n\u001b[0;32m      <a href='vscode-notebook-cell:/d%3A/Projects/M-Link%20Algorithm/test.ipynb#X10sZmlsZQ%3D%3D?line=5'>6</a>\u001b[0m         rand \u001b[39m=\u001b[39m np\u001b[39m.\u001b[39mrandom\u001b[39m.\u001b[39mrandint(\u001b[39m0\u001b[39m,nodes_length)\n\u001b[0;32m      <a href='vscode-notebook-cell:/d%3A/Projects/M-Link%20Algorithm/test.ipynb#X10sZmlsZQ%3D%3D?line=6'>7</a>\u001b[0m     chrom \u001b[39m=\u001b[39m np\u001b[39m.\u001b[39mappend(chrom,rand)\n",
      "File \u001b[1;32mc:\\Users\\Nur\\AppData\\Local\\Programs\\Python\\Python310\\lib\\site-packages\\scipy\\sparse\\_index.py:47\u001b[0m, in \u001b[0;36mIndexMixin.__getitem__\u001b[1;34m(self, key)\u001b[0m\n\u001b[0;32m     46\u001b[0m \u001b[39mdef\u001b[39;00m \u001b[39m__getitem__\u001b[39m(\u001b[39mself\u001b[39m, key):\n\u001b[1;32m---> 47\u001b[0m     row, col \u001b[39m=\u001b[39m \u001b[39mself\u001b[39;49m\u001b[39m.\u001b[39;49m_validate_indices(key)\n\u001b[0;32m     49\u001b[0m     \u001b[39m# Dispatch to specialized methods.\u001b[39;00m\n\u001b[0;32m     50\u001b[0m     \u001b[39mif\u001b[39;00m \u001b[39misinstance\u001b[39m(row, INT_TYPES):\n",
      "File \u001b[1;32mc:\\Users\\Nur\\AppData\\Local\\Programs\\Python\\Python310\\lib\\site-packages\\scipy\\sparse\\_index.py:155\u001b[0m, in \u001b[0;36mIndexMixin._validate_indices\u001b[1;34m(self, key)\u001b[0m\n\u001b[0;32m    153\u001b[0m row \u001b[39m=\u001b[39m \u001b[39mint\u001b[39m(row)\n\u001b[0;32m    154\u001b[0m \u001b[39mif\u001b[39;00m row \u001b[39m<\u001b[39m \u001b[39m-\u001b[39mM \u001b[39mor\u001b[39;00m row \u001b[39m>\u001b[39m\u001b[39m=\u001b[39m M:\n\u001b[1;32m--> 155\u001b[0m     \u001b[39mraise\u001b[39;00m \u001b[39mIndexError\u001b[39;00m(\u001b[39m'\u001b[39m\u001b[39mrow index (\u001b[39m\u001b[39m%d\u001b[39;00m\u001b[39m) out of range\u001b[39m\u001b[39m'\u001b[39m \u001b[39m%\u001b[39m row)\n\u001b[0;32m    156\u001b[0m \u001b[39mif\u001b[39;00m row \u001b[39m<\u001b[39m \u001b[39m0\u001b[39m:\n\u001b[0;32m    157\u001b[0m     row \u001b[39m+\u001b[39m\u001b[39m=\u001b[39m M\n",
      "\u001b[1;31mIndexError\u001b[0m: row index (9) out of range"
     ]
    }
   ],
   "source": [
    "def generate_chrom(nodes_length,Adj):\n",
    "    chrom = np.array([],dtype=int)\n",
    "    for x in range(nodes_length):\n",
    "        rand = np.random.randint(0,nodes_length)\n",
    "        while Adj[x,rand] != 1:\n",
    "            rand = np.random.randint(0,nodes_length)\n",
    "        chrom = np.append(chrom,rand)\n",
    "    return chrom\n",
    "generate_chrom(14,inc)"
   ]
  },
  {
   "cell_type": "code",
   "execution_count": null,
   "metadata": {},
   "outputs": [],
   "source": []
  },
  {
   "cell_type": "code",
   "execution_count": null,
   "metadata": {},
   "outputs": [],
   "source": []
  },
  {
   "cell_type": "code",
   "execution_count": 39,
   "metadata": {},
   "outputs": [],
   "source": [
    "\n",
    "\n",
    "def community_detection(graph,population=300,generation=30,r=1.5):\n",
    "    \n",
    "    Adj = nx.adjacency_matrix(graph)\n",
    "    nodes_length = len(graph.nodes())\n",
    "\n",
    "    d = {\"chrom\":[generate_chrom(nodes_length,Adj) for n in range(population)]}\n",
    "    dframe = pd.DataFrame(data= d)\n",
    "    dframe[\"subsets\"] = dframe[\"chrom\"].apply(find_subsets)\n",
    "    dframe[\"community_score\"]=dframe.apply(lambda x: community_score(x[\"chrom\"],x[\"subsets\"],r,Adj),axis=1)\n",
    "    \n",
    "    gen = 0\n",
    "    population_count = population\n",
    "    while gen < generation:\n",
    "        for i in range(int(np.floor(population/10))):\n",
    "            p1 = 0\n",
    "            p2 = 0\n",
    "            elites = dframe.sort_values(\"community_score\",ascending=True)[int(np.floor(population/10)):]\n",
    "            p1 = roulette_selection(elites)\n",
    "            p2 = roulette_selection(elites)\n",
    "            child=uniform_crossover(dframe[\"chrom\"][p1],dframe[\"chrom\"][p2],0.8)\n",
    "            if len(child)==0:\n",
    "                continue\n",
    "            child=mutation(child,Adj,0.2)\n",
    "            child_subsets = find_subsets(child)\n",
    "            child_cs = community_score(child,child_subsets,r,Adj)\n",
    "            dframe.loc[population_count]=[child,child_subsets,child_cs]\n",
    "            population_count += 1\n",
    "        dfsorted = dframe.sort_values(\"community_score\",ascending=False)\n",
    "        to_drop = dfsorted.index[population:]\n",
    "        dframe.drop(to_drop,inplace=True)\n",
    "        gen +=1        \n",
    "    sorted_df = dframe.sort_values(\"community_score\",ascending=False).index[0]\n",
    "    \n",
    "    nodes_subsets = dframe[\"subsets\"][sorted_df]\n",
    "    nodes_list = list(graph.nodes())\n",
    "    result = []\n",
    "    for subs in nodes_subsets:\n",
    "        subset = []\n",
    "        for n in subs:\n",
    "            subset.append(nodes_list[n])\n",
    "        result.append(subset)\n",
    "    return result\n",
    "\n",
    "def generate_chrom(nodes_length,Adj):\n",
    "    chrom = np.array([],dtype=int)\n",
    "    for x in range(nodes_length):\n",
    "        rand = np.random.randint(0,nodes_length)\n",
    "        while Adj[x,rand] != 1:\n",
    "            rand = np.random.randint(0,nodes_length)\n",
    "        chrom = np.append(chrom,rand)\n",
    "    return chrom\n",
    "\n",
    "def merge_subsets(sub):\n",
    "    arr =[]\n",
    "    to_skip=[]\n",
    "    for s in range(len(sub)):\n",
    "        if sub[s] not in to_skip:\n",
    "            new = sub[s]\n",
    "            for x in sub:\n",
    "                if sub[s] & x:\n",
    "                    new = new | x\n",
    "                    to_skip.append(x)\n",
    "            arr.append(new)\n",
    "    return arr\n",
    "\n",
    "def find_subsets(chrom):\n",
    "    sub = [{x,chrom[x]} for x in range(len(chrom))]\n",
    "    result=sub\n",
    "    i=0\n",
    "    while i<len(result):\n",
    "        candidate = merge_subsets(result)\n",
    "        if candidate != result:\n",
    "            result = candidate\n",
    "        else:\n",
    "            break\n",
    "        result=candidate\n",
    "        i+=1\n",
    "    return result\n",
    "\n",
    "def community_score(chrom,subsets,r,Adj):\n",
    "    matrix = Adj.toarray()\n",
    "    CS=0\n",
    "    for s in subsets:\n",
    "        submatrix = np.zeros((len(chrom),len(chrom)),dtype=int)\n",
    "        for i in s:\n",
    "            for j in s:\n",
    "                submatrix[i][j]=matrix[i][j]\n",
    "        M=0\n",
    "        v=0\n",
    "        for row in list(s):\n",
    "            row_mean = np.sum(submatrix[row])/len(s)\n",
    "            v+=np.sum(submatrix[row])\n",
    "            M+=(row_mean**r)/len(s)\n",
    "        CS+=M*v\n",
    "    return CS\n",
    "\n",
    "def roulette_selection(df_elites):\n",
    "    prob = np.random.random_sample()\n",
    "    sum_cs=np.sum(df_elites[\"community_score\"])\n",
    "    x=0\n",
    "    selected = 0\n",
    "    for i in df_elites.index:\n",
    "        x += df_elites[\"community_score\"][i]\n",
    "        X=x/sum_cs\n",
    "        if prob < X:\n",
    "            chosen=i\n",
    "            break\n",
    "    return chosen\n",
    "\n",
    "def uniform_crossover(parent_1,parent_2,crossover_rate):\n",
    "    if np.random.random_sample() < crossover_rate:\n",
    "        length = len(parent_1)\n",
    "        mask = np.random.randint(2, size=length)\n",
    "        child = np.zeros(length,dtype=int)\n",
    "        for i in range(len(mask)):\n",
    "            if mask[i] == 1:\n",
    "                child[i]=parent_1[i]\n",
    "            else:\n",
    "                child[i]=parent_2[i]\n",
    "        return child\n",
    "    else:\n",
    "        return np.array([])\n",
    "\n",
    "def mutation(chrom,Adj,mutation_rate):\n",
    "    if np.random.random_sample() < mutation_rate:\n",
    "        chrom = chrom\n",
    "        neighbor = []\n",
    "        while len(neighbor) < 2:\n",
    "            mutant = np.random.randint(1,len(chrom))\n",
    "            row = Adj[mutant].toarray()[0]\n",
    "            neighbor = [i for i in range(len(row)) if row[i]==1]\n",
    "            if len(neighbor) > 1:\n",
    "                neighbor.remove(chrom[mutant])\n",
    "                to_change=int(np.floor(np.random.random_sample()*(len(neighbor))))\n",
    "                chrom[mutant]=neighbor[to_change]\n",
    "                neighbor.append(chrom[mutant])\n",
    "    return chrom\n"
   ]
  },
  {
   "cell_type": "code",
   "execution_count": 42,
   "metadata": {},
   "outputs": [
    {
     "name": "stderr",
     "output_type": "stream",
     "text": [
      "C:\\Users\\Nur\\AppData\\Local\\Temp\\ipykernel_18180\\4280567609.py:3: FutureWarning: adjacency_matrix will return a scipy.sparse array instead of a matrix in Networkx 3.0.\n",
      "  Adj = nx.adjacency_matrix(graph)\n"
     ]
    }
   ],
   "source": [
    "res = community_detection(graph)"
   ]
  },
  {
   "cell_type": "code",
   "execution_count": 43,
   "metadata": {},
   "outputs": [
    {
     "data": {
      "text/plain": [
       "[[2, 1, 3, 4, 8, 10, 12, 13, 14, 18, 20, 22],\n",
       " [5, 6, 7, 11, 17],\n",
       " [23, 34, 9, 28, 31, 33, 15, 16, 19, 21],\n",
       " [26, 25, 29, 32],\n",
       " [27, 24, 30]]"
      ]
     },
     "execution_count": 43,
     "metadata": {},
     "output_type": "execute_result"
    }
   ],
   "source": [
    "with open(f'{dataset}-test-output.txt','a') as f:\n",
    "    f.write(f'{res}\\n')"
   ]
  }
 ],
 "metadata": {
  "kernelspec": {
   "display_name": "Python 3",
   "language": "python",
   "name": "python3"
  },
  "language_info": {
   "codemirror_mode": {
    "name": "ipython",
    "version": 3
   },
   "file_extension": ".py",
   "mimetype": "text/x-python",
   "name": "python",
   "nbconvert_exporter": "python",
   "pygments_lexer": "ipython3",
   "version": "3.10.9"
  },
  "orig_nbformat": 4,
  "vscode": {
   "interpreter": {
    "hash": "f00f3490a45c41bdc72c89c2e2114567c675efe43a3d604fa5deafdd8d8b35cc"
   }
  }
 },
 "nbformat": 4,
 "nbformat_minor": 2
}
