{
 "cells": [
  {
   "cell_type": "code",
   "execution_count": 118,
   "metadata": {},
   "outputs": [],
   "source": [
    "import numpy as np\n",
    "import networkx as nx\n",
    "import os\n",
    "import matplotlib.pyplot as plt\n",
    "import random"
   ]
  },
  {
   "cell_type": "code",
   "execution_count": 119,
   "metadata": {},
   "outputs": [],
   "source": [
    "# def get_edge_list(file_name):\n",
    "#     with open(file_name) as ifs:\n",
    "#         lines = ifs.readlines()\n",
    "#         edge_list = map(lambda line: map(int, line.strip().split()), filter(lambda ele: '#' not in ele, lines))\n",
    "#     return edge_list\n",
    "\n",
    "def get_edge_list(file_name):\n",
    "    # Open the file and read its contents\n",
    "    with open(file_name) as file:\n",
    "        lines = file.readlines()\n",
    "\n",
    "    # Remove lines that are comments (start with \"#\")\n",
    "    lines = [line for line in lines if '#' not in line]\n",
    "\n",
    "    # Convert each line to a pair of integers\n",
    "    edge_list = []\n",
    "    for line in lines:\n",
    "        edge = tuple(map(int, line.strip().split()))\n",
    "        edge_list.append(edge)\n",
    "    \n",
    "    return edge_list\n",
    "\n",
    "def get_undirected_graph_info(file_name):\n",
    "    my_edge_list = get_edge_list(file_name)\n",
    "    undirected_graph = nx.Graph()\n",
    "    undirected_graph.add_edges_from(my_edge_list)\n",
    "    file_info = file_name.split(os.sep)[-1].split('_')[0]\n",
    "    str_list = [file_info, 'nodes num:' + str(undirected_graph.number_of_nodes()), 'edges num:'\n",
    "                + str(undirected_graph.number_of_edges())]\n",
    "    print (' | '.join(str_list))\n",
    "\n",
    "\n",
    "def get_dir_info(dir_name):\n",
    "    my_walk = os.walk(dir_name)\n",
    "    my_root, sub_root_list, file_list = list(my_walk)[0]\n",
    "    path_list = map(lambda ele: my_root + os.sep + ele, file_list)\n",
    "    for my_path in path_list:\n",
    "        get_undirected_graph_info(my_path)\n"
   ]
  },
  {
   "cell_type": "code",
   "execution_count": 120,
   "metadata": {},
   "outputs": [
    {
     "name": "stdout",
     "output_type": "stream",
     "text": [
      "test.txt | nodes num:9 | edges num:14\n"
     ]
    }
   ],
   "source": [
    "get_undirected_graph_info('test.txt')"
   ]
  },
  {
   "cell_type": "code",
   "execution_count": 121,
   "metadata": {},
   "outputs": [],
   "source": [
    "edgeList = get_edge_list('test.txt')"
   ]
  },
  {
   "cell_type": "code",
   "execution_count": 122,
   "metadata": {},
   "outputs": [
    {
     "name": "stdout",
     "output_type": "stream",
     "text": [
      "[(1, 2), (1, 3), (1, 5), (2, 1), (2, 4), (2, 3), (3, 2), (3, 4), (3, 1), (4, 2), (4, 3), (4, 5), (4, 6), (4, 7), (5, 1), (5, 4), (6, 4), (6, 7), (6, 8), (6, 9), (7, 4), (7, 6), (7, 8), (8, 7), (8, 6), (8, 9)]\n"
     ]
    }
   ],
   "source": [
    "print(edgeList)"
   ]
  },
  {
   "cell_type": "code",
   "execution_count": 123,
   "metadata": {},
   "outputs": [],
   "source": [
    "undirected_graph = nx.Graph()\n",
    "undirected_graph.add_edges_from(edgeList)"
   ]
  },
  {
   "cell_type": "code",
   "execution_count": 205,
   "metadata": {},
   "outputs": [
    {
     "data": {
      "image/png": "[encoded data removed]",
      "text/plain": [
       "<Figure size 432x288 with 1 Axes>"
      ]
     },
     "metadata": {},
     "output_type": "display_data"
    }
   ],
   "source": [
    "\n",
    "nx.draw_networkx(undirected_graph,pos=nx.random_layout(undirected_graph))"
   ]
  },
  {
   "cell_type": "code",
   "execution_count": 175,
   "metadata": {},
   "outputs": [
    {
     "data": {
      "text/plain": [
       "EdgeDataView([(1, 2), (1, 3), (1, 5), (2, 4), (2, 3)])"
      ]
     },
     "execution_count": 175,
     "metadata": {},
     "output_type": "execute_result"
    }
   ],
   "source": [
    "random.choice (list(undirected_graph.edges(1)))\n",
    "undirected_graph.edges((1,2))\n"
   ]
  },
  {
   "cell_type": "code",
   "execution_count": 126,
   "metadata": {},
   "outputs": [],
   "source": [
    "graphEdge = undirected_graph.edges()\n",
    "graphNode = undirected_graph.nodes()"
   ]
  },
  {
   "cell_type": "code",
   "execution_count": 127,
   "metadata": {},
   "outputs": [],
   "source": [
    "number_of_edges=len(graphEdge)"
   ]
  },
  {
   "cell_type": "code",
   "execution_count": 160,
   "metadata": {},
   "outputs": [],
   "source": [
    "initialGene= np.full(number_of_edges, -1)"
   ]
  },
  {
   "cell_type": "code",
   "execution_count": 215,
   "metadata": {},
   "outputs": [
    {
     "data": {
      "text/plain": [
       "[1, 2, 3, 4, 5, 6, 7, 8, 9, 10, 11, 12, 13, 14]"
      ]
     },
     "execution_count": 215,
     "metadata": {},
     "output_type": "execute_result"
    }
   ],
   "source": [
    "locus = [i for i in range(1,number_of_edges+1)]\n",
    "locus"
   ]
  },
  {
   "cell_type": "code",
   "execution_count": 129,
   "metadata": {},
   "outputs": [
    {
     "data": {
      "text/plain": [
       "14"
      ]
     },
     "execution_count": 129,
     "metadata": {},
     "output_type": "execute_result"
    }
   ],
   "source": [
    "len(initialGene)"
   ]
  },
  {
   "cell_type": "code",
   "execution_count": 234,
   "metadata": {},
   "outputs": [
    {
     "data": {
      "text/plain": [
       "{(1, 2): 1,\n",
       " (1, 3): 2,\n",
       " (1, 5): 3,\n",
       " (2, 4): 4,\n",
       " (2, 3): 5,\n",
       " (3, 4): 6,\n",
       " (5, 4): 7,\n",
       " (4, 6): 8,\n",
       " (4, 7): 9,\n",
       " (6, 7): 10,\n",
       " (6, 8): 11,\n",
       " (6, 9): 12,\n",
       " (7, 8): 13,\n",
       " (8, 9): 14}"
      ]
     },
     "execution_count": 234,
     "metadata": {},
     "output_type": "execute_result"
    }
   ],
   "source": [
    "labledEdge = {t: i+1 for i, t in enumerate(graphEdge)}\n",
    "labledEdge"
   ]
  },
  {
   "cell_type": "code",
   "execution_count": 206,
   "metadata": {},
   "outputs": [],
   "source": [
    "def getEdgeLabel(labledEdge,edge):\n",
    "    try:\n",
    "      return labledEdge[edge]\n",
    "    except:\n",
    "      try:\n",
    "        return labledEdge[(edge[1],edge[0])]\n",
    "      except:\n",
    "        print('NO KEY FOUND')\n",
    "    "
   ]
  },
  {
   "cell_type": "code",
   "execution_count": 222,
   "metadata": {},
   "outputs": [
    {
     "data": {
      "text/plain": [
       "(2, 3)"
      ]
     },
     "execution_count": 222,
     "metadata": {},
     "output_type": "execute_result"
    }
   ],
   "source": [
    "def getEdgeValue(labledEdge,value):\n",
    "   return next((k for k, v in labledEdge.items() if v == value), None)\n",
    "\n",
    "getEdgeValue(labledEdge,5)"
   ]
  },
  {
   "cell_type": "code",
   "execution_count": 219,
   "metadata": {},
   "outputs": [
    {
     "name": "stdout",
     "output_type": "stream",
     "text": [
      "[1, 2, 3, 4, 5, 6, 7, 8, 9, 10, 11, 12, 13, 14]\n",
      "[3, 6, 1, 8, 1, 8, 6, 7, 7, 10, 10, 8, 10, 13]\n"
     ]
    }
   ],
   "source": [
    "#make initial communities\n",
    "prevNode : tuple \n",
    "gene = []\n",
    "for  edge,l in labledEdge.items():\n",
    "    connectedEdges = list(undirected_graph.edges(edge))\n",
    "    geneValue = getEdgeLabel(labledEdge,random.choice(connectedEdges))\n",
    "\n",
    "\n",
    "    if(geneValue != None):\n",
    "        gene.append(geneValue)\n",
    "\n",
    "print(locus)\n",
    "print(gene)\n"
   ]
  },
  {
   "cell_type": "code",
   "execution_count": 217,
   "metadata": {},
   "outputs": [
    {
     "data": {
      "image/png": "[encoded data removed]",
      "text/plain": [
       "<Figure size 432x288 with 1 Axes>"
      ]
     },
     "metadata": {},
     "output_type": "display_data"
    }
   ],
   "source": [
    "nx.draw_networkx(undirected_graph,pos=nx.random_layout(undirected_graph))"
   ]
  },
  {
   "cell_type": "code",
   "execution_count": 220,
   "metadata": {},
   "outputs": [
    {
     "name": "stdout",
     "output_type": "stream",
     "text": [
      "[1, 2, 3, 4, 5, 6, 7, 8, 9, 10, 11, 12, 13, 14]\n",
      "[3, 6, 1, 8, 1, 8, 6, 7, 7, 10, 10, 8, 10, 13]\n"
     ]
    }
   ],
   "source": [
    "\n",
    "print(locus)\n",
    "print(gene)"
   ]
  },
  {
   "cell_type": "code",
   "execution_count": 243,
   "metadata": {},
   "outputs": [],
   "source": [
    "#finished but not tested with real gene\n",
    "def calculateFitness(communities: list,labledEdge):\n",
    "    D = 0\n",
    "    E = len(labledEdge)\n",
    "    for i in communities:\n",
    "        community = nx.Graph()\n",
    "        community.add_edges_from([getEdgeValue(labledEdge, j) for j in i])\n",
    "        mc = community.number_of_edges()\n",
    "        nc = community.number_of_nodes()\n",
    "        D += mc * ((mc - (nc-1)) / (((nc-2)*(nc-1))))\n",
    "\n",
    "    return 2*D/E"
   ]
  },
  {
   "cell_type": "code",
   "execution_count": null,
   "metadata": {},
   "outputs": [],
   "source": []
  }
 ],
 "metadata": {
  "kernelspec": {
   "display_name": "Python 3",
   "language": "python",
   "name": "python3"
  },
  "language_info": {
   "codemirror_mode": {
    "name": "ipython",
    "version": 3
   },
   "file_extension": ".py",
   "mimetype": "text/x-python",
   "name": "python",
   "nbconvert_exporter": "python",
   "pygments_lexer": "ipython3",
   "version": "3.10.9"
  },
  "orig_nbformat": 4,
  "vscode": {
   "interpreter": {
    "hash": "f00f3490a45c41bdc72c89c2e2114567c675efe43a3d604fa5deafdd8d8b35cc"
   }
  }
 },
 "nbformat": 4,
 "nbformat_minor": 2
}
