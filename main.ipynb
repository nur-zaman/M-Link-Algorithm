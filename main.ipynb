{
 "cells": [
  {
   "cell_type": "code",
   "execution_count": 202,
   "metadata": {},
   "outputs": [],
   "source": [
    "import numpy as np\n",
    "import networkx as nx\n",
    "import os\n",
    "import matplotlib.pyplot as plt\n",
    "import random as rd\n",
    "import statistics as st"
   ]
  },
  {
   "cell_type": "code",
   "execution_count": 203,
   "metadata": {},
   "outputs": [],
   "source": [
    "dataset = 'test.txt'"
   ]
  },
  {
   "cell_type": "code",
   "execution_count": 204,
   "metadata": {},
   "outputs": [],
   "source": [
    "# def get_edge_list(file_name):\n",
    "#     with open(file_name) as ifs:\n",
    "#         lines = ifs.readlines()\n",
    "#         edge_list = map(lambda line: map(int, line.strip().split()), filter(lambda ele: '#' not in ele, lines))\n",
    "#     return edge_list\n",
    "\n",
    "def get_edge_list(file_name):\n",
    "    # Open the file and read its contents\n",
    "    with open(file_name) as file:\n",
    "        lines = file.readlines()\n",
    "\n",
    "    # Remove lines that are comments (start with \"#\")\n",
    "    lines = [line for line in lines if '#' not in line]\n",
    "\n",
    "    # Convert each line to a pair of integers\n",
    "    edge_list = []\n",
    "    for line in lines:\n",
    "        edge = tuple(map(int, line.strip().split()))\n",
    "        edge_list.append(edge)\n",
    "    \n",
    "    return edge_list\n",
    "\n",
    "def get_undirected_graph_info(file_name):\n",
    "    my_edge_list = get_edge_list(file_name)\n",
    "    undirected_graph = nx.Graph()\n",
    "    undirected_graph.add_edges_from(my_edge_list)\n",
    "    file_info = file_name.split(os.sep)[-1].split('_')[0]\n",
    "    str_list = [file_info, 'nodes num:' + str(undirected_graph.number_of_nodes()), 'edges num:'\n",
    "                + str(undirected_graph.number_of_edges())]\n",
    "    print (' | '.join(str_list))\n",
    "\n",
    "\n",
    "def get_dir_info(dir_name):\n",
    "    my_walk = os.walk(dir_name)\n",
    "    my_root, sub_root_list, file_list = list(my_walk)[0]\n",
    "    path_list = map(lambda ele: my_root + os.sep + ele, file_list)\n",
    "    for my_path in path_list:\n",
    "        get_undirected_graph_info(my_path)\n"
   ]
  },
  {
   "cell_type": "code",
   "execution_count": 205,
   "metadata": {},
   "outputs": [
    {
     "name": "stdout",
     "output_type": "stream",
     "text": [
      "test.txt | nodes num:9 | edges num:14\n"
     ]
    }
   ],
   "source": [
    "get_undirected_graph_info(dataset)"
   ]
  },
  {
   "cell_type": "code",
   "execution_count": 206,
   "metadata": {},
   "outputs": [],
   "source": [
    "edgeList = get_edge_list(dataset)"
   ]
  },
  {
   "cell_type": "code",
   "execution_count": 207,
   "metadata": {},
   "outputs": [],
   "source": [
    "# print(edgeList)"
   ]
  },
  {
   "cell_type": "code",
   "execution_count": 208,
   "metadata": {},
   "outputs": [],
   "source": [
    "undirected_graph = nx.Graph()\n",
    "undirected_graph.add_edges_from(edgeList)"
   ]
  },
  {
   "cell_type": "code",
   "execution_count": 209,
   "metadata": {},
   "outputs": [],
   "source": [
    "\n",
    "# nx.draw_networkx(undirected_graph,pos=nx.random_layout(undirected_graph))"
   ]
  },
  {
   "cell_type": "code",
   "execution_count": 210,
   "metadata": {},
   "outputs": [],
   "source": [
    "# rd.choice (list(undirected_graph.edges(1)))\n",
    "# undirected_graph.edges((1,2))\n"
   ]
  },
  {
   "cell_type": "code",
   "execution_count": 211,
   "metadata": {},
   "outputs": [],
   "source": [
    "graphEdge = undirected_graph.edges()\n",
    "graphNode = undirected_graph.nodes()\n"
   ]
  },
  {
   "cell_type": "code",
   "execution_count": 212,
   "metadata": {},
   "outputs": [
    {
     "name": "stdout",
     "output_type": "stream",
     "text": [
      "9 14\n"
     ]
    }
   ],
   "source": [
    "number_of_edges = len(graphEdge)\n",
    "number_of_nodes = len(graphNode)\n",
    "print(number_of_nodes, number_of_edges)"
   ]
  },
  {
   "cell_type": "code",
   "execution_count": 213,
   "metadata": {},
   "outputs": [],
   "source": [
    "initialGene= np.full(number_of_edges, -1)"
   ]
  },
  {
   "cell_type": "code",
   "execution_count": 214,
   "metadata": {},
   "outputs": [],
   "source": [
    "locus = [i for i in range(1,number_of_edges+1)]"
   ]
  },
  {
   "cell_type": "code",
   "execution_count": 215,
   "metadata": {},
   "outputs": [
    {
     "data": {
      "text/plain": [
       "14"
      ]
     },
     "execution_count": 215,
     "metadata": {},
     "output_type": "execute_result"
    }
   ],
   "source": [
    "len(initialGene)"
   ]
  },
  {
   "cell_type": "code",
   "execution_count": 216,
   "metadata": {},
   "outputs": [],
   "source": [
    "labledEdge = {t: i+1 for i, t in enumerate(graphEdge)}\n",
    "# labledEdge"
   ]
  },
  {
   "cell_type": "code",
   "execution_count": 217,
   "metadata": {},
   "outputs": [],
   "source": [
    "def getEdgeLabel(labledEdge,edge):\n",
    "    try:\n",
    "      return labledEdge[edge]\n",
    "    except:\n",
    "      try:\n",
    "        return labledEdge[(edge[1],edge[0])]\n",
    "      except:\n",
    "        print('NO KEY FOUND')\n",
    "    "
   ]
  },
  {
   "cell_type": "code",
   "execution_count": 218,
   "metadata": {},
   "outputs": [
    {
     "data": {
      "text/plain": [
       "(2, 3)"
      ]
     },
     "execution_count": 218,
     "metadata": {},
     "output_type": "execute_result"
    }
   ],
   "source": [
    "def getEdgeValue(labledEdge,value):\n",
    "   return next((k for k, v in labledEdge.items() if v == value), None)\n",
    "\n",
    "getEdgeValue(labledEdge,5)"
   ]
  },
  {
   "cell_type": "code",
   "execution_count": 219,
   "metadata": {},
   "outputs": [],
   "source": [
    "#make initial communities\n",
    "\n",
    "gene = []\n",
    "for  edge,l in labledEdge.items():\n",
    "    connectedEdges = list(undirected_graph.edges(edge))\n",
    "    geneValue = getEdgeLabel(labledEdge,rd.choice(connectedEdges))\n",
    "\n",
    "\n",
    "    if(geneValue != None):\n",
    "        gene.append(geneValue)\n",
    "\n",
    "# print(locus)\n",
    "# print(gene)\n"
   ]
  },
  {
   "cell_type": "code",
   "execution_count": 220,
   "metadata": {},
   "outputs": [],
   "source": [
    "def drawLayout(labledEdge):\n",
    "    # layout = nx.random_layout(undirected_graph)\n",
    "    layout = nx.circular_layout(undirected_graph)\n",
    "    plt.figure(3,figsize=(12,12)) \n",
    "    nx.draw_networkx(undirected_graph,pos=layout,node_size=500)\n",
    "    nx.draw_networkx_edge_labels(undirected_graph,pos=layout,edge_labels=labledEdge)\n",
    "# drawLayout(labledEdge)"
   ]
  },
  {
   "cell_type": "code",
   "execution_count": 221,
   "metadata": {},
   "outputs": [],
   "source": [
    "# nx.draw_networkx_edge_labels(undirected_graph,pos=nx.random_layout(undirected_graph),edge_labels=labledEdge)"
   ]
  },
  {
   "cell_type": "code",
   "execution_count": 222,
   "metadata": {},
   "outputs": [],
   "source": [
    "#finished but not tested with real gene\n",
    "def calculateFitness(communities: list,undirected_graph):\n",
    "    D = 0\n",
    "    E = undirected_graph.number_of_edges()\n",
    "    for i in communities:\n",
    "        community = undirected_graph.subgraph(i)\n",
    "        mc = community.number_of_edges()\n",
    "        nc = community.number_of_nodes()\n",
    "        if nc>=3:\n",
    "            D += mc * ((mc - (nc-1)) / (((nc-2)*(nc-1))))\n",
    "            # print(D)\n",
    "\n",
    "    return 2*D/E\n",
    "\n",
    "# calculateFitness([[1, 5], [2, 3, 4], [6, 8, 9], [7]],undirected_graph)"
   ]
  },
  {
   "cell_type": "code",
   "execution_count": 223,
   "metadata": {},
   "outputs": [],
   "source": [
    "import random\n",
    "from collections import Counter\n",
    "\n",
    "def most_frequent(lst):\n",
    "    # Count the number of occurrences of each element in the list\n",
    "    count = Counter(lst)\n",
    "\n",
    "    # Get a list of tuples with the elements and their frequencies, sorted by frequency in descending order\n",
    "    most_common = count.most_common()\n",
    "\n",
    "    # Select the most frequent item and, if there are multiple items with the same frequency, choose one at random\n",
    "    selected = None\n",
    "    frequency = 0\n",
    "    for element, freq in most_common:\n",
    "        if freq > frequency:\n",
    "            selected = random.sample([element], 1)[0]\n",
    "            frequency = freq\n",
    "        elif freq == frequency:\n",
    "            selected = random.sample([selected, element], 1)[0]\n",
    "\n",
    "    return selected\n",
    "\n",
    "# Test the function\n",
    "# print(most_frequent([1, 2, 3, 3, 3, 4, 4, 5, 5]))  # 3\n",
    "# print(most_frequent([1, 2, 3, 3, 4, 4, 5, 5]))  # 3 or 5\n",
    "# print(most_frequent([1, 2, 3, 4, 5]))  # 1 or 2 or 3 or 4 or 5\n",
    "\n",
    "# def most_common(List):\n",
    "#     return(st.mode(List))\n",
    "   \n",
    "# List = [2, 1, 2, 2, 1, 3]\n",
    "# print(most_common(List))"
   ]
  },
  {
   "cell_type": "code",
   "execution_count": 224,
   "metadata": {},
   "outputs": [
    {
     "data": {
      "text/plain": [
       "True"
      ]
     },
     "execution_count": 224,
     "metadata": {},
     "output_type": "execute_result"
    }
   ],
   "source": [
    "def has_repetitions(lst):\n",
    "    return len(set(lst)) < len(lst)\n",
    "\n",
    "has_repetitions([1,1,2,2])\n",
    "\n"
   ]
  },
  {
   "cell_type": "code",
   "execution_count": 225,
   "metadata": {},
   "outputs": [
    {
     "data": {
      "text/plain": [
       "[[1, 2, 3], [4, 6, 7, 8, 9], [5]]"
      ]
     },
     "execution_count": 225,
     "metadata": {},
     "output_type": "execute_result"
    }
   ],
   "source": [
    "from collections import defaultdict\n",
    "\n",
    "\n",
    "\n",
    "def createCommunities(x:dict):\n",
    "    groups = defaultdict(list)\n",
    "\n",
    "    # Group the keys based on the values\n",
    "    for key, value in x.items():\n",
    "        groups[value].append(key)\n",
    "\n",
    "    # Get the list of lists with the keys\n",
    "    y = list(groups.values())\n",
    "\n",
    "    return y\n",
    "\n",
    "x = {1: 2, 2: 2, 3: 2, 4: 8, 5: 1, 6: 8, 7: 8, 8: 8, 9: 8}\n",
    "createCommunities(x)"
   ]
  },
  {
   "cell_type": "code",
   "execution_count": 226,
   "metadata": {},
   "outputs": [],
   "source": [
    "#Label Propagation\n",
    "\n",
    "def labelProp_old(undirected_graph):\n",
    "    \n",
    "    graphNode = undirected_graph.nodes()\n",
    "    asList = sorted(list(graphNode))\n",
    "    randomizedList = asList[:]\n",
    "    rd.shuffle(randomizedList)\n",
    "    # print(randomizedList)\n",
    "    labledNodes = {i+1:t  for i, t in enumerate(asList)}\n",
    "    prevLabledNodes = labledNodes\n",
    "    # print(labledNodes)\n",
    "    stop = False\n",
    "    while not stop:\n",
    "        for v in randomizedList:\n",
    "            # v = rd.choice(asList)\n",
    "            # v = 5\n",
    "            neighbors = [i for i in nx.all_neighbors(undirected_graph,v)]\n",
    "            labledNeighbors = [labledNodes[i] for i in nx.all_neighbors(undirected_graph,v)]\n",
    "            # print(neighbors)\n",
    "            # if(has_repetitions(labledNeighbors)):\n",
    "            #     freq = most_frequent(labledNeighbors)\n",
    "            #     labledNodes[v] = freq\n",
    "            # else:\n",
    "            #     freq = rd.choice(labledNeighbors)\n",
    "            #     labledNodes[v] = freq\n",
    "            # print(labledNodes)\n",
    "            freq = most_frequent(labledNeighbors)\n",
    "            labledNodes[v] = freq\n",
    "            \n",
    "            if(prevLabledNodes == labledNodes):\n",
    "                stop = True\n",
    "    return labledNodes\n",
    "# labelProp(undirected_graph)\n",
    "# createCommunities(labelProp(undirected_graph))"
   ]
  },
  {
   "cell_type": "code",
   "execution_count": 227,
   "metadata": {},
   "outputs": [
    {
     "data": {
      "text/plain": [
       "[[1, 2, 3, 4, 5], [8, 9, 6, 7]]"
      ]
     },
     "execution_count": 227,
     "metadata": {},
     "output_type": "execute_result"
    }
   ],
   "source": [
    "from networkx.algorithms import community as cm\n",
    "def labelProp(undirected_graph):\n",
    "    dictList = list(cm.asyn_lpa_communities(undirected_graph))\n",
    "    return [list(i) for i in dictList]\n",
    "labelProp(undirected_graph)"
   ]
  },
  {
   "cell_type": "code",
   "execution_count": 228,
   "metadata": {},
   "outputs": [],
   "source": [
    "# Local Expansion\n",
    "\n",
    "def localExpansion(undirected_graph):\n",
    "    counter = 0\n",
    "    communities = []\n",
    "    graphNode = undirected_graph.nodes()\n",
    "    asList = list(graphNode)\n",
    "    V = len(asList)\n",
    "    tempList = asList[:]\n",
    "    while counter < V:\n",
    "        community = []\n",
    "        seed = rd.choice(tempList)\n",
    "        community.append(seed)\n",
    "        tempList.remove(seed)\n",
    "        counter+=1\n",
    "        naturalCommNodes = list(nx.all_neighbors(undirected_graph,seed))\n",
    "        for i in naturalCommNodes:\n",
    "            # naturalCommNodes.remove(seed)\n",
    "            if i not in tempList:\n",
    "                continue\n",
    "            community.append(i)\n",
    "            try:\n",
    "                tempList.remove(i)\n",
    "            except ValueError:\n",
    "                print('E')\n",
    "            counter+=1\n",
    "        communities.append(community)\n",
    "    return communities\n",
    "        \n",
    "# localExpansion(undirected_graph)"
   ]
  },
  {
   "cell_type": "code",
   "execution_count": 229,
   "metadata": {},
   "outputs": [
    {
     "data": {
      "text/plain": [
       "[(4, 0.4933920733573079),\n",
       " (6, 0.40706047630591524),\n",
       " (7, 0.3584871224114072),\n",
       " (2, 0.324913401601575),\n",
       " (3, 0.324913401601575),\n",
       " (8, 0.29309722985908043),\n",
       " (1, 0.26345729483676417),\n",
       " (5, 0.22732374123127333),\n",
       " (9, 0.2102944623170073)]"
      ]
     },
     "execution_count": 229,
     "metadata": {},
     "output_type": "execute_result"
    }
   ],
   "source": [
    "centrality = nx.eigenvector_centrality(undirected_graph)\n",
    "sorted_centrality = sorted(centrality.items(), key=lambda x: x[1], reverse=True)\n",
    "sorted_centrality[0:11]"
   ]
  },
  {
   "cell_type": "code",
   "execution_count": 230,
   "metadata": {},
   "outputs": [],
   "source": [
    "# Local Expansion\n",
    "\n",
    "def localExpansionWithEigen(undirected_graph):\n",
    "    counter = 0\n",
    "    communities = []\n",
    "    graphNode = undirected_graph.nodes()\n",
    "    asList = list(graphNode)\n",
    "    V = len(asList)\n",
    "    tempList = asList[:]\n",
    "\n",
    "    centrality = nx.eigenvector_centrality(undirected_graph)\n",
    "    sorted_centrality = sorted(centrality.items(), key=lambda x: x[1], reverse=True)\n",
    "\n",
    "    \n",
    "    while counter < V :\n",
    "        community = []\n",
    "        seed = sorted_centrality[0][0]\n",
    "        sorted_centrality.pop(0)\n",
    "        if seed not in tempList:\n",
    "            continue\n",
    "        community.append(seed)\n",
    "        tempList.remove(seed)\n",
    "        counter+=1\n",
    "        naturalCommNodes = list(nx.all_neighbors(undirected_graph,seed))\n",
    "        for i in naturalCommNodes:\n",
    "            # naturalCommNodes.remove(seed)\n",
    "            if i not in tempList:\n",
    "                continue\n",
    "            community.append(i)\n",
    "            tempList.remove(i)\n",
    "            counter+=1\n",
    "        communities.append(community)\n",
    "    return communities\n",
    "        \n",
    "# localExpansionWithEigen(undirected_graph)"
   ]
  },
  {
   "cell_type": "code",
   "execution_count": 231,
   "metadata": {},
   "outputs": [],
   "source": [
    "# Local Expansion\n",
    "\n",
    "def localExpansionWdegree(undirected_graph):\n",
    "    counter = 0\n",
    "    communities = []\n",
    "    graphNode = undirected_graph.nodes()\n",
    "    asList = list(graphNode)\n",
    "    V = len(asList)\n",
    "    tempList = asList[:]\n",
    "    while counter < V:\n",
    "        community = []\n",
    "        seed = rd.choice(tempList)\n",
    "        # print(seed)\n",
    "        community.append(seed)\n",
    "        tempList.remove(seed)\n",
    "        counter+=1\n",
    "        naturalCommNodes = list(nx.all_neighbors(undirected_graph,seed))\n",
    "        for i in naturalCommNodes:\n",
    "            # naturalCommNodes.remove(seed)\n",
    "            if i not in tempList:\n",
    "                continue\n",
    "            community.append(i)\n",
    "            try:\n",
    "                tempList.remove(i)\n",
    "            except ValueError:\n",
    "                print('E')\n",
    "            counter+=1\n",
    "        communities.append(community)\n",
    "    return communities\n",
    "        \n",
    "# localExpansionWdegree(undirected_graph)"
   ]
  },
  {
   "cell_type": "code",
   "execution_count": 232,
   "metadata": {},
   "outputs": [
    {
     "data": {
      "text/plain": [
       "[-1, -1, -1, -1, 'a']"
      ]
     },
     "execution_count": 232,
     "metadata": {},
     "output_type": "execute_result"
    }
   ],
   "source": [
    "g = [-1]*5\n",
    "\n",
    "g[4] = 'a'\n",
    "g"
   ]
  },
  {
   "cell_type": "code",
   "execution_count": 233,
   "metadata": {},
   "outputs": [],
   "source": [
    "def has_common_element(list1, list2):\n",
    "    for element in list1:\n",
    "        if element in list2:\n",
    "            return True\n",
    "    return False"
   ]
  },
  {
   "cell_type": "code",
   "execution_count": 234,
   "metadata": {},
   "outputs": [],
   "source": [
    "# # this takes a list of community and returns a list of locus and gene\n",
    "# def communityToGene(communities:list,number_of_nodes:int,number_of_edges:int,labledEdge:dict):\n",
    "#     locus = [i for i in range(1,number_of_edges+1)]\n",
    "#     gene = [-1] * number_of_edges\n",
    "#     # overlappingEdges = []\n",
    "#     for community in communities:\n",
    "#         edgesAsTuples = list(undirected_graph.edges(community))\n",
    "#         edges=[getEdgeLabel(labledEdge,i) for i in edgesAsTuples]\n",
    "#         # print(edgesAsTuples)\n",
    "#         for n,i in enumerate(edgesAsTuples):\n",
    "#             edgeLabel = getEdgeLabel(labledEdge,i)\n",
    "#             ngEdges = list(undirected_graph.edges(i))\n",
    "#             ngEdges.remove(i)\n",
    "#             filtered_ngEdges = [t for t in ngEdges if t[0] in community and t[1] in community]\n",
    "#             ngEdgesLabeled=[getEdgeLabel(labledEdge,t) for t in filtered_ngEdges]\n",
    "#             # print(ngEdgesLabeled)\n",
    "#             for element in ngEdgesLabeled:\n",
    "#                 if element in edges:\n",
    "#                     if(gene[edgeLabel-1]!=-1 or gene[element-1]== edgeLabel):\n",
    "#                         continue\n",
    "#                     gene[edgeLabel-1] = element\n",
    "#                     edges.remove(element)\n",
    "#                     break\n",
    "#     # for n,i in enumerate(gene):\n",
    "#     #     if i == -1:\n",
    "#     #         l= locus[n]\n",
    "#     #         edge = getEdgeValue(labledEdge,l)\n",
    "#     #         for k in communities:\n",
    "#     #             if edge[0] in k or edge[1] in k:\n",
    "                    \n",
    "\n",
    "            \n",
    "        \n",
    "#     return locus,gene\n",
    "\n",
    "\n",
    "# # locus,gene = [],[]\n",
    "# # locus,gene = communityToGene([[3, 1, 2, 4], [8, 6, 7, 9], [5]],number_of_nodes,number_of_edges,labledEdge)\n",
    "# locus,gene = communityToGene([[1,2,3,4,5], [5,6,7,8,9]],number_of_nodes,number_of_edges,labledEdge)\n",
    "# print((locus))\n",
    "# print((gene))\n",
    "\n",
    "# # locus,gene = communityToGene(localExpansionWithEigen(undirected_graph),number_of_nodes,number_of_edges,labledEdge)\n",
    "# # print((gene)) \n",
    "# # decode_communities(locus,gene)\n",
    "\n"
   ]
  },
  {
   "cell_type": "code",
   "execution_count": 235,
   "metadata": {},
   "outputs": [],
   "source": [
    "def removeEdge(adj_list,i):\n",
    "    for edge in adj_list:\n",
    "        try:\n",
    "            adj_list[edge].remove(i)\n",
    "        except:\n",
    "            pass\n",
    "    return adj_list\n"
   ]
  },
  {
   "cell_type": "code",
   "execution_count": 236,
   "metadata": {},
   "outputs": [],
   "source": [
    "\n",
    "def communityToGene(communities:list,number_of_nodes:int,number_of_edges:int,labledEdge:dict):\n",
    "    locus = [i for i in range(1,number_of_edges+1)]\n",
    "    gene = [-1] * number_of_edges\n",
    "    # overlappingEdges = []\n",
    "    notVisited =set()\n",
    "    for community in communities:\n",
    "        subGraph = undirected_graph.subgraph(community)\n",
    "        subGraphEdges = list(subGraph.edges())\n",
    "        # print(subGraphEdges)\n",
    "        adj_list = defaultdict(set)\n",
    "        adL = defaultdict(set)\n",
    "        for i in subGraphEdges:\n",
    "            nbr = list(subGraph.edges(i))\n",
    "            nbr.remove(i)\n",
    "            for j in nbr:\n",
    "                adj_list[getEdgeLabel(labledEdge,i)].add(getEdgeLabel(labledEdge,j))\n",
    "                adL[getEdgeLabel(labledEdge,i)].add(getEdgeLabel(labledEdge,j))    \n",
    "        old_i = -1\n",
    "\n",
    "        for edge in adj_list:\n",
    "            for i in adj_list[edge]:\n",
    "                if old_i != edge and gene[edge-1] == -1:\n",
    "                    # print(i)\n",
    "                    adj_list = removeEdge(adj_list, i)\n",
    "                    gene[edge-1] = i\n",
    "                    old_i = i\n",
    "                    break\n",
    "                else:\n",
    "                    notVisited.add(edge)\n",
    "            else:\n",
    "                pass\n",
    "        # print(notVisited)\n",
    "        # print(adL)\n",
    "        while notVisited:\n",
    "            value = notVisited.pop()\n",
    "            try:\n",
    "                for i,j in zip(adL[value],adj_list[value]):\n",
    "                    # print(locus[gene.index(value)])\n",
    "                    if j!=None and locus[gene.index(value)] != j:\n",
    "                        gene[value-1]=j\n",
    "                        break\n",
    "                    elif locus[gene.index(value)] != i:\n",
    "                        gene[value-1]=i\n",
    "                        break\n",
    "            except ValueError:\n",
    "                print(\"Ignoring ValueError in communityToGene() for \",value)\n",
    "        for i in range(len(gene)):\n",
    "            if gene[i]==-1:\n",
    "                gene[i]=locus[i]\n",
    "\n",
    "    return locus,gene\n",
    "\n",
    "# [[1, 2, 3, 4, 5], [4, 6, 7, 8, 9], [8, 9, 6]] [[4, 2, 3, 5, 6, 7], [8, 9], [1]]\n",
    "# locus,gene = communityToGene([[1, 2, 3, 4, 5], [4, 6, 7, 8, 9], [8, 9, 6]],number_of_nodes,number_of_edges,labledEdge)\n",
    "# # print((locus))\n",
    "# # print((gene))\n",
    "\n",
    "\n",
    "\n"
   ]
  },
  {
   "cell_type": "code",
   "execution_count": null,
   "metadata": {},
   "outputs": [],
   "source": []
  },
  {
   "cell_type": "code",
   "execution_count": 237,
   "metadata": {},
   "outputs": [],
   "source": [
    "def locusNgeneToTuples(locus:list,gene:list):\n",
    "    pass"
   ]
  },
  {
   "cell_type": "code",
   "execution_count": 238,
   "metadata": {},
   "outputs": [],
   "source": [
    "def crossOver(parent1:list, parent2:list, cp:float):\n",
    "    offspring = [-1]*len(parent1) \n",
    "    for g in range(len(offspring)):\n",
    "        if rd.uniform(0, 1) < cp:\n",
    "            offspring[g] = parent1[g]\n",
    "        else:\n",
    "            offspring[g] = parent2[g]\n",
    "    return offspring\n",
    "\n",
    "# testParent1 = [2, 3, 1, 5, 6, 4, 8, 9, 7, 8, 10, 11, 9, 13]\n",
    "# testParent2 = [5, 1, 1, 6, 2, 7, 4, 9, 10, 8, 12, 14, 11, 11]\n",
    "# crossOver(testParent1,testParent2, 0.5)\n",
    "    "
   ]
  },
  {
   "cell_type": "code",
   "execution_count": 239,
   "metadata": {},
   "outputs": [],
   "source": [
    "# drawLayout(labledEdge)"
   ]
  },
  {
   "cell_type": "code",
   "execution_count": 240,
   "metadata": {},
   "outputs": [
    {
     "name": "stdout",
     "output_type": "stream",
     "text": [
      "Before Mutation ⬇\n",
      "[1, 2, 3, 4, 5, 6, 7, 8, 9, 10, 11, 12, 13, 14]\n",
      "[2, 3, 1, 4, 1, 4, 7, 8, 9, 11, 12, 11, 14, 11]\n",
      "Ignoring ValueError In mutate function for  4\n",
      "Ignoring ValueError In mutate function for  7\n",
      "Ignoring ValueError In mutate function for  8\n",
      "Ignoring ValueError In mutate function for  9\n",
      "[1, 2, 3, 4, 5, 6, 7, 8, 9, 10, 11, 12, 13, 14]\n",
      "[2, 6, 1, 7, 4, 2, 3, 7, 10, 11, 12, 11, 11, 11]\n",
      "After Mutation ⬆\n"
     ]
    }
   ],
   "source": [
    "def mutate(gene:list,mp:float,labledEdge:dict,undirected_graph)->list:\n",
    "    individual = gene[:] \n",
    "    # print(individual)\n",
    "    for g in range(len(individual)):\n",
    "        if rd.uniform(0, 1) < mp:\n",
    "            edge = getEdgeValue(labledEdge,g+1)\n",
    "            # print(edge)\n",
    "            neigEdges = list(undirected_graph.edges(edge))\n",
    "            neigEdgesLabeled = [getEdgeLabel(labledEdge,i) for i in neigEdges]\n",
    "            # oldGene = getEdgeValue( labledEdge ,individual[g])\n",
    "            # print(\"In Mutate\",individual[g])\n",
    "            try:\n",
    "                neigEdgesLabeled.remove(individual[g])\n",
    "                neigEdgesLabeled.remove(g+1)\n",
    "            except ValueError:\n",
    "                print('Ignoring ValueError In mutate function for ',individual[g])\n",
    "            if((neigEdgesLabeled)==0):\n",
    "                continue\n",
    "            mutatedEdge = rd.choice(neigEdgesLabeled)\n",
    "            # print(randomEdge)\n",
    "            # mutatedEdge = getEdgeLabel(labledEdge,randomEdge)\n",
    "            individual[g]= mutatedEdge\n",
    "\n",
    "    return individual\n",
    "\n",
    "\n",
    "print(\"Before Mutation ⬇\")\n",
    "print([1, 2, 3, 4, 5, 6, 7, 8, 9, 10, 11, 12, 13, 14])\n",
    "print([2, 3, 1, 4, 1, 4, 7, 8, 9, 11, 12, 11, 14, 11])\n",
    "mutated = mutate([2, 3, 1, 4, 1, 4, 7, 8, 9, 11, 12, 11, 14, 11],0.5,labledEdge,undirected_graph)\n",
    "print([1, 2, 3, 4, 5, 6, 7, 8, 9, 10, 11, 12, 13, 14])\n",
    "print(mutated)\n",
    "print(\"After Mutation ⬆\")"
   ]
  },
  {
   "cell_type": "code",
   "execution_count": 241,
   "metadata": {},
   "outputs": [],
   "source": [
    "# def localSearch(individual:list,labledEdge:dict,undirected_graph)->list:\n",
    "#     locus, individualEdges = communityToGene(individual)\n",
    "#     for cluster in individual:\n",
    "#         for node in cluster:\n",
    "#             edge = getEdgeValue(labledEdge,g+1)\n",
    "#             # print(edge)\n",
    "#             neigEdges = list(undirected_graph.edges(edge))\n",
    "#             neigEdgesLabeled = [getEdgeLabel(labledEdge,i) for i in neigEdges]\n",
    "#             oldEdge = getEdgeValue( labledEdge ,individual[g])\n",
    "#             # neigEdgesLabeled.remove(individual[g])\n",
    "#             # neigEdgesLabeled.remove(g+1)\n",
    "#             # if((neigEdgesLabeled)==0): continue    \n",
    "#             # mutatedEdge = rd.choice(neigEdgesLabeled)\n",
    "#             # # print(randomEdge)\n",
    "#             # # mutatedEdge = getEdgeLabel(labledEdge,randomEdge)\n",
    "#             # individual[g]= mutatedEdge\n",
    "#             try:\n",
    "#                 neigEdges.remove(oldEdge)\n",
    "#             except KeyError:\n",
    "#                 neigEdges.remove((oldEdge[1],oldEdge[0]))\n",
    "#             for i in neigEdges:\n",
    "#                 pass\n",
    "                \n",
    "                \n"
   ]
  },
  {
   "cell_type": "code",
   "execution_count": 242,
   "metadata": {},
   "outputs": [],
   "source": [
    "# def decode_communities(locus, gene):\n",
    "#     # Initialize an empty list to store the communities of locuss\n",
    "#     communities = []\n",
    "    \n",
    "#     # Initialize a dictionary to store the mapping from locuss to their communities\n",
    "#     locus_to_community = {}\n",
    "#     loc = []\n",
    "#     gen = []\n",
    "#     s = -1\n",
    "#     # Iterate through each locus and its corresponding gene value\n",
    "#     for l,g  in zip(locus, gene):\n",
    "#         if len(loc)==0:\n",
    "#             loc.append(l)\n",
    "#             gene.append(g)\n",
    "#             continue\n",
    "\n",
    "#         # If the locus is not already assigned to a community\n",
    "#         if l not in gene:\n",
    "#             # If the gene value for this locus is also not in the locus_to_community dictionary,\n",
    "#             # this means we have found a new community of locuss\n",
    "#             if g not in loc:\n",
    "#                 # Create a new community and add the current locus to it\n",
    "#                 new_community = [locus,community]\n",
    "#                 locus_to_community[locus] = new_community\n",
    "#                 communities.append(new_community)\n",
    "#                 # print(locus_to_community)\n",
    "#             # Otherwise, the gene value corresponds to another locus that is already in a community,\n",
    "#             # so we add the current locus to that community\n",
    "#             else:\n",
    "#                 loc.append(l)\n",
    "#                 gene.append(g)\n",
    "#         # If the locus is already assigned to a community, we check if it is in the same community\n",
    "#         # as the locus corresponding to its gene value. If it is not, we merge the two communities.\n",
    "#         else:\n",
    "#             # If the gene value corresponds to an locus that is not in the same community,\n",
    "#             # we merge the two communities by adding the locuss in the community of the gene value\n",
    "#             # to the community of the current locus\n",
    "#             if (locus in locus_to_community) and (community in locus_to_community) and (locus_to_community[locus] != locus_to_community[community]):\n",
    "#                 community_to_merge = locus_to_community[community]\n",
    "#                 current_community = locus_to_community[locus]\n",
    "#                 current_community.extend(community_to_merge)\n",
    "#                 for locus_in_community in community_to_merge:\n",
    "#                     locus_to_community[locus_in_community] = current_community\n",
    "#                 # Remove the merged community from the list of communities\n",
    "#                 communities.remove(community_to_merge)\n",
    "    \n",
    "#     # Return the list of communities of locuss\n",
    "#     # print(locus_to_community)\n",
    "#     return communities\n",
    "\n",
    "# locus = [1, 2, 3, 4, 5, 6, 7, 8, 9, 10, 11, 12, 13, 14]\n",
    "# gene =  [2, 3, 6, 1, 4, 7, 5, 11, 10, 12, 12, 9, 14, 11]\n",
    "# communities = decode_communities(locus, gene)\n",
    "# print(communities)\n"
   ]
  },
  {
   "cell_type": "code",
   "execution_count": 243,
   "metadata": {},
   "outputs": [],
   "source": [
    "# from google_play_scraper import app\n",
    "\n",
    "# result = app(\n",
    "#     'com.whatsapp'\n",
    "# )\n",
    "# result['genreId']"
   ]
  },
  {
   "cell_type": "code",
   "execution_count": 244,
   "metadata": {},
   "outputs": [],
   "source": [
    "def generateAgents(undirected_graph):\n",
    "        # Generate a random float between 0 and 1\n",
    "\n",
    "    agents = []\n",
    "    fitness = []\n",
    "    # Call the corresponding function\n",
    "    indi = []\n",
    "    fit = -1\n",
    "    for i in range(7):\n",
    "        x = rd.randint(1, 3)\n",
    "\n",
    "\n",
    "        if x ==1:\n",
    "            indi = localExpansion(undirected_graph)\n",
    "            fit = calculateFitness(indi,undirected_graph)\n",
    "            # print(f'fitness : {fit} | CommunityList : {indi}')\n",
    "        elif x ==2:\n",
    "            # lp = labelProp(undirected_graph)\n",
    "            # indi = createCommunities(lp)\n",
    "            indi = labelProp(undirected_graph)\n",
    "\n",
    "            # print(cmnti)\n",
    "            fit = calculateFitness(indi,undirected_graph)\n",
    "            # print(f'fitness : {fit} | CommunityList : {indi}')\n",
    "        else:\n",
    "            indi = localExpansionWithEigen(undirected_graph)\n",
    "            fit = calculateFitness(indi,undirected_graph)\n",
    "            # print(f'fitness : {fit} | CommunityList : {indi}')\n",
    "        agents.append(indi)\n",
    "        fitness.append(fit)\n",
    "\n",
    "    pairs = zip(fitness, agents)\n",
    "    # Sort the pairs using the values in the first array as the key\n",
    "    sorted_pairs = sorted(pairs, key=lambda x: x[0],reverse=True)\n",
    "\n",
    "    # Unpack the sorted pairs back into two separate arrays\n",
    "    fitness, agents = zip(*sorted_pairs)    \n",
    "    return list(fitness), list(agents)\n",
    "    # return dict(sorted_pairs)\n",
    "\n",
    "# generateAgents(undirected_graph)"
   ]
  },
  {
   "cell_type": "code",
   "execution_count": 245,
   "metadata": {},
   "outputs": [],
   "source": [
    "class Agent:\n",
    "    pocket = None\n",
    "    pocketFitness = None\n",
    "    individuals = None\n",
    "    individualsFitness = None\n",
    "    std = None\n",
    "    \n",
    "    def print_values(self):\n",
    "        print(f'pocket = {self.pocket}')\n",
    "        print(f'pocketFitness = {self.pocketFitness}')\n",
    "        print(f'individuals = {self.individuals}')\n",
    "        print(f'individualsFitness = {self.individualsFitness}')\n",
    "        print(f'std = {self.std}')"
   ]
  },
  {
   "cell_type": "code",
   "execution_count": 246,
   "metadata": {},
   "outputs": [],
   "source": [
    "def calculate_std(agent):\n",
    "    if agent.std == None:\n",
    "        agent.std = st.pstdev(agent.individualsFitness)\n",
    "    return agent.std"
   ]
  },
  {
   "cell_type": "code",
   "execution_count": 247,
   "metadata": {},
   "outputs": [],
   "source": [
    "def lostDiversity(agent):\n",
    "    current_std = st.pstdev(agent.individualsFitness)\n",
    "    if(current_std<= agent.std/2):\n",
    "        return True\n",
    "    else:\n",
    "        return False"
   ]
  },
  {
   "cell_type": "code",
   "execution_count": 248,
   "metadata": {},
   "outputs": [],
   "source": [
    "\n",
    "\n",
    "def generateTreeBase():\n",
    "    treeBase =  []\n",
    "    for n in range(3):\n",
    "        agentPool = []\n",
    "        for i in range(3):\n",
    "            agent = Agent()\n",
    "            agent.individualsFitness,agent.individuals = generateAgents(undirected_graph)\n",
    "            agent.pocket = agent.individuals[0]\n",
    "            agent.pocketFitness = agent.individualsFitness[0]\n",
    "            calculate_std(agent)\n",
    "            agentPool.append(agent)\n",
    "        treeBase.append(agentPool)\n",
    "    return treeBase\n",
    "treeBase = generateTreeBase()\n"
   ]
  },
  {
   "cell_type": "code",
   "execution_count": 249,
   "metadata": {},
   "outputs": [],
   "source": [
    "def sort_and_store(agent):\n",
    "    paired_list = list(zip(agent.individuals, agent.individualsFitness))\n",
    "    sorted_paired_list = sorted(paired_list, key=lambda x: x[1], reverse=True)\n",
    "    agent.individuals, agent.individualsFitness = zip(*sorted_paired_list)\n",
    "\n",
    "    agent.pocketFitness = agent.individualsFitness[0]\n",
    "    agent.pocket = agent.individuals[0]"
   ]
  },
  {
   "cell_type": "code",
   "execution_count": 250,
   "metadata": {},
   "outputs": [],
   "source": [
    "def generateTreeMiddle(treeBase):\n",
    "    treeMiddle = []\n",
    "    for n in treeBase:\n",
    "        agent = Agent()\n",
    "        agent.individuals=[]\n",
    "        agent.individualsFitness = []\n",
    "        for i in n:\n",
    "            agent.individuals.append(i.pocket)\n",
    "            agent.individualsFitness.append(i.pocketFitness)\n",
    "            added = []\n",
    "        while len(added)<4:\n",
    "            supporter = rd.choice(n)\n",
    "            cell =  supporter.individuals.index(rd.choice(supporter.individuals))\n",
    "            if cell not in added:\n",
    "                added.append(cell)\n",
    "                agent.individuals.append(supporter.individuals[cell])\n",
    "                agent.individualsFitness.append(supporter.individualsFitness[cell])\n",
    "        sort_and_store(agent)\n",
    "        calculate_std(agent)\n",
    "        treeMiddle.append(agent)\n",
    "    return treeMiddle\n",
    "\n",
    "treeMiddle = generateTreeMiddle(treeBase)\n",
    "            "
   ]
  },
  {
   "cell_type": "code",
   "execution_count": 251,
   "metadata": {},
   "outputs": [],
   "source": [
    "# x = [[6,7],[1,2,3]]\n",
    "\n",
    "# x[0][]\n"
   ]
  },
  {
   "cell_type": "code",
   "execution_count": 252,
   "metadata": {},
   "outputs": [],
   "source": [
    "def generateTreeTop(treeMiddle):\n",
    "    agent = Agent()\n",
    "    agent.individuals=[]\n",
    "    agent.individualsFitness = []\n",
    "    for i in treeMiddle:\n",
    "        agent.individuals.append(i.pocket)\n",
    "        agent.individualsFitness.append(i.pocketFitness)\n",
    "        added = []\n",
    "    while len(added)<4:\n",
    "        supporter = rd.choice(treeMiddle)\n",
    "        cell =  supporter.individuals.index(rd.choice(supporter.individuals))\n",
    "        if cell not in added:\n",
    "            added.append(cell)\n",
    "            agent.individuals.append(supporter.individuals[cell])\n",
    "            agent.individualsFitness.append(supporter.individualsFitness[cell])\n",
    "    sort_and_store(agent)\n",
    "    treeMiddle.append(agent)\n",
    "    return agent\n",
    "\n",
    "treeTop = generateTreeTop(treeMiddle)"
   ]
  },
  {
   "cell_type": "code",
   "execution_count": 253,
   "metadata": {},
   "outputs": [
    {
     "name": "stdout",
     "output_type": "stream",
     "text": [
      "pocket = [[1, 2, 3, 4, 5], [8, 9, 6, 7]]\n",
      "pocketFitness = 0.4880952380952381\n",
      "individuals = ([[1, 2, 3, 4, 5], [8, 9, 6, 7]], [[1, 2, 3, 4, 5], [8, 9, 6, 7]], [[1, 2, 3, 4, 5], [8, 9, 6, 7]], [[1, 2, 3, 5], [6, 4, 7, 8, 9]], [[5, 1, 4], [3, 2], [6, 7, 8, 9]], [[4, 2, 3, 5, 6, 7], [8, 9], [1]], [[4, 2, 3, 5, 6, 7], [8, 9], [1]])\n",
      "individualsFitness = (0.4880952380952381, 0.4880952380952381, 0.4880952380952381, 0.34523809523809523, 0.23809523809523808, 0.1, 0.1)\n",
      "std = 0.16427550284457307\n",
      "---------------\n",
      "pocket = [[1, 2, 3, 4, 5], [8, 9, 6, 7]]\n",
      "pocketFitness = 0.4880952380952381\n",
      "individuals = ([[1, 2, 3, 4, 5], [8, 9, 6, 7]], [[1, 2, 3, 4, 5], [8, 9, 6, 7]], [[1, 2, 3, 4, 5], [8, 9, 6, 7]], [[1, 2, 3, 4, 5], [8, 9, 6, 7]], [[9, 6, 8], [7, 4], [2, 1, 3], [5]], [[1, 2, 3, 5], [4, 6, 7], [8, 9]], [[4, 2, 3, 5, 6, 7], [8, 9], [1]])\n",
      "individualsFitness = (0.4880952380952381, 0.4880952380952381, 0.4880952380952381, 0.4880952380952381, 0.42857142857142855, 0.3095238095238095, 0.1)\n",
      "std = 0.136294006738555\n",
      "---------------\n",
      "pocket = [[1, 2, 3, 4, 5], [8, 9, 6, 7]]\n",
      "pocketFitness = 0.4880952380952381\n",
      "individuals = ([[1, 2, 3, 4, 5], [8, 9, 6, 7]], [[1, 2, 3, 4, 5], [8, 9, 6, 7]], [[1, 2, 3, 4, 5], [8, 9, 6, 7]], [[7, 4, 6, 8], [3, 1, 2], [9], [5]], [[7, 4, 6, 8], [9], [1, 2, 3, 5]], [[4, 2, 3, 5, 6, 7], [8, 9], [1]], [[4, 2, 3, 5, 6, 7], [8, 9], [1]])\n",
      "individualsFitness = (0.4880952380952381, 0.4880952380952381, 0.4880952380952381, 0.4523809523809524, 0.3333333333333333, 0.1, 0.1)\n",
      "std = 0.16603378380057393\n",
      "---------------\n",
      "pocket = [[1, 2, 3, 4, 5], [8, 9, 6, 7]]\n",
      "pocketFitness = 0.4880952380952381\n",
      "individuals = ([[1, 2, 3, 4, 5], [8, 9, 6, 7]], [[1, 2, 3, 4, 5], [8, 9, 6, 7]], [[1, 2, 3, 4, 5], [8, 9, 6, 7]], [[1, 2, 3, 4, 5], [8, 9, 6, 7]], [[1, 2, 3, 5], [6, 4, 7, 8, 9]], [[7, 4, 6, 8], [9], [1, 2, 3, 5]], [[4, 2, 3, 5, 6, 7], [8, 9], [1]])\n",
      "individualsFitness = (0.4880952380952381, 0.4880952380952381, 0.4880952380952381, 0.4880952380952381, 0.34523809523809523, 0.3333333333333333, 0.1)\n",
      "std = None\n",
      "---------------\n"
     ]
    }
   ],
   "source": [
    "for i in treeMiddle:\n",
    "    i.print_values()\n",
    "    print(\"---------------\")"
   ]
  },
  {
   "cell_type": "code",
   "execution_count": 254,
   "metadata": {},
   "outputs": [
    {
     "name": "stdout",
     "output_type": "stream",
     "text": [
      "pocket = [[1, 2, 3, 4, 5], [8, 9, 6, 7]]\n",
      "pocketFitness = 0.4880952380952381\n",
      "individuals = ([[1, 2, 3, 4, 5], [8, 9, 6, 7]], [[1, 2, 3, 4, 5], [8, 9, 6, 7]], [[1, 2, 3, 4, 5], [8, 9, 6, 7]], [[1, 2, 3, 4, 5], [8, 9, 6, 7]], [[1, 2, 3, 5], [6, 4, 7, 8, 9]], [[7, 4, 6, 8], [9], [1, 2, 3, 5]], [[4, 2, 3, 5, 6, 7], [8, 9], [1]])\n",
      "individualsFitness = (0.4880952380952381, 0.4880952380952381, 0.4880952380952381, 0.4880952380952381, 0.34523809523809523, 0.3333333333333333, 0.1)\n",
      "std = None\n"
     ]
    }
   ],
   "source": [
    "treeTop.print_values()"
   ]
  },
  {
   "cell_type": "code",
   "execution_count": 255,
   "metadata": {},
   "outputs": [],
   "source": [
    "# locus = [1, 2, 3, 4, 5, 6, 7, 8, 9, 10, 11, 12, 13, 14]\n",
    "# gene =  [2, 3, 6, 1, 4, 7, 5, 11, 10, 12, 12, 9, 14, 11]\n",
    "# # communities = decode_communities(locus, gene)\n",
    "# # print(communities)\n",
    "# # [[2,3,6,1],[]]\n",
    "# geneTuple=[]\n",
    "# for u,v in zip(locus,gene):\n",
    "#     geneTuple.append((u,v))\n",
    "# geneTuple\n"
   ]
  },
  {
   "cell_type": "code",
   "execution_count": 256,
   "metadata": {},
   "outputs": [
    {
     "name": "stdout",
     "output_type": "stream",
     "text": [
      "[1, 2, 3, 4, 5, 6, 7, 8, 9, 10, 11, 12, 13, 14]\n",
      "[2, 6, 1, 5, 6, 4, 3, 9, 10, 8, 8, 8, 9, 11]\n"
     ]
    },
    {
     "data": {
      "text/plain": [
       "[[1, 2, 3, 4, 5, 6, 7], [8, 9, 10, 11, 12, 13, 14]]"
      ]
     },
     "execution_count": 256,
     "metadata": {},
     "output_type": "execute_result"
    }
   ],
   "source": [
    "from collections import defaultdict\n",
    "def decode_communities(gene):\n",
    "    locus = [i+1 for i in range(len(gene))]\n",
    "    edges=[]\n",
    "    for u,v in zip(locus,gene):\n",
    "        edges.append((u,v))\n",
    "\n",
    "    clusters = [ ]\n",
    "    adj_list = defaultdict(set)\n",
    "\n",
    "    for u, v in edges:\n",
    "\n",
    "        adj_list[u].add(v)\n",
    "\n",
    "        adj_list[v].add(u)\n",
    "    # adj_list = defaultdict(set,labledEdgeR)\n",
    "    # adj_list = defaultdict(labledEdge)\n",
    "    \n",
    "    visited = set()\n",
    "\n",
    "    for node in adj_list:\n",
    "        if node in visited:\n",
    "            continue\n",
    "        visited.add(node)\n",
    "        cluster = {node}\n",
    "        queue = list(adj_list[node])\n",
    "        while queue:\n",
    "            current = queue.pop(0)\n",
    "            if current in visited:\n",
    "                continue\n",
    "\n",
    "            visited.add(current)\n",
    "\n",
    "            cluster.add(current)\n",
    "\n",
    "            # if len(cluster) >= k:\n",
    "\n",
    "            #     break\n",
    "\n",
    "            for neighbor in adj_list[current]:\n",
    "\n",
    "                if neighbor not in visited:\n",
    "\n",
    "                    queue.append(neighbor)\n",
    "\n",
    "        clusters.append(cluster)\n",
    "    listCluster = []\n",
    "    for i in clusters:\n",
    "        listCluster.append(list(i))\n",
    "    # print(listCluster)\n",
    "\n",
    "\n",
    "\n",
    "    return listCluster\n",
    "locus,gene = communityToGene([[1,2,3,4,5], [4,6,7,8, 9]],number_of_nodes,number_of_edges,labledEdge)\n",
    "print(locus)\n",
    "\n",
    "# gene = [2, 5, 3, 1, 4, 5, 7, 8, 9, 11, 12, 10, 10, 11]\n",
    "print(gene)\n",
    "decode_communities(gene)"
   ]
  },
  {
   "cell_type": "code",
   "execution_count": 257,
   "metadata": {},
   "outputs": [],
   "source": [
    "def geneToCommunityOfNodes(edges):\n",
    "    comm = []\n",
    "    for n in edges:\n",
    "        cluster = set()\n",
    "        for i in n:\n",
    "            edge = getEdgeValue(labledEdge,i)\n",
    "            cluster.add(edge[0])\n",
    "            cluster.add(edge[1])\n",
    "        comm.append(list(cluster))\n",
    "    return comm\n",
    "\n",
    "\n",
    "\n",
    "# geneToCommunityOfNodes([[1, 2, 3, 4, 5, 6, 7], [8, 9, 10, 11, 12, 13, 14]])"
   ]
  },
  {
   "cell_type": "code",
   "execution_count": 258,
   "metadata": {},
   "outputs": [],
   "source": [
    "from collections import defaultdict\n",
    "def decode_communities2(edges):\n",
    "\n",
    "    clusters = [ ]\n",
    "    adj_list = defaultdict(set)\n",
    "\n",
    "    for u, v in edges:\n",
    "\n",
    "        adj_list[u].add(v)\n",
    "\n",
    "        adj_list[v].add(u)\n",
    "    # adj_list = defaultdict(set,labledEdgeR)\n",
    "    # adj_list = defaultdict(labledEdge)\n",
    "    \n",
    "    visited = set()\n",
    "\n",
    "    for node in adj_list:\n",
    "        if node in visited:\n",
    "            continue\n",
    "        visited.add(node)\n",
    "        cluster = {node}\n",
    "        queue = list(adj_list[node])\n",
    "        while queue:\n",
    "            current = queue.pop(0)\n",
    "            if current in visited:\n",
    "                continue\n",
    "\n",
    "            visited.add(current)\n",
    "\n",
    "            cluster.add(current)\n",
    "\n",
    "            # if len(cluster) >= k:\n",
    "\n",
    "            #     break\n",
    "\n",
    "            for neighbor in adj_list[current]:\n",
    "\n",
    "                if neighbor not in visited:\n",
    "\n",
    "                    queue.append(neighbor)\n",
    "\n",
    "        clusters.append(cluster)\n",
    "    listCluster = []\n",
    "    for i in clusters:\n",
    "        listCluster.append(list(i))\n",
    "    # print(listCluster)\n",
    "\n",
    "\n",
    "    # print (adj_list)\n",
    "    return listCluster\n",
    "# locus,gene = communityToGene2([[1,2,3,4,5], [4,6,7,8, 9]],number_of_nodes,number_of_edges,labledEdge)\n",
    "# print(locus)\n",
    "\n",
    "# gene = [2,3,7,6,4,5,3,9,13,11,14,12,10,12]\n",
    "# print(gene)\n",
    "# decode_communities2([(1, 2), (1, 3), (1, 5), (2, 4), (2, 3), (3, 4), (5, 4)])"
   ]
  },
  {
   "cell_type": "code",
   "execution_count": 259,
   "metadata": {},
   "outputs": [],
   "source": [
    "# # print(localExpansionWithEigen(undirected_graph))\n",
    "# l,g = communityToGene(localExpansionWithEigen(undirected_graph),number_of_nodes,number_of_edges,labledEdge)\n",
    "# print(l)\n",
    "# print(g)\n",
    "# geneTuple=[]\n",
    "# for u,v in zip(l,g):\n",
    "#     geneTuple.append((u,v))\n",
    "# # decode_communities(geneTuple)"
   ]
  },
  {
   "cell_type": "code",
   "execution_count": 260,
   "metadata": {},
   "outputs": [],
   "source": [
    "# drawLayout(labledEdge)\n"
   ]
  },
  {
   "cell_type": "code",
   "execution_count": 261,
   "metadata": {},
   "outputs": [],
   "source": [
    "def initializePopulation():\n",
    "    base = generateTreeBase()\n",
    "    middle = generateTreeMiddle(base)\n",
    "    top = generateTreeTop(middle)\n",
    "    return base,middle,top"
   ]
  },
  {
   "cell_type": "code",
   "execution_count": 262,
   "metadata": {},
   "outputs": [],
   "source": [
    "def updatePopulation(mutatedOffspring,base):\n",
    "    x = rd.randint(0,2)\n",
    "    y = rd.randint(0,2)\n",
    "    baseAgent = base[x][y]\n",
    "    # baseAgent.print_values()\n",
    "    baseAgent.individuals = list(baseAgent.individuals)\n",
    "    baseAgent.individuals[-1] = list(mutatedOffspring)\n",
    "    baseAgent.individualsFitness = list(baseAgent.individualsFitness)\n",
    "    baseAgent.individualsFitness[-1] = calculateFitness(mutatedOffspring,undirected_graph)\n",
    "    sort_and_store(baseAgent)\n",
    "    middle = generateTreeMiddle(base)\n",
    "    top = generateTreeTop(middle)\n",
    "    return base,middle,top\n",
    "    "
   ]
  },
  {
   "cell_type": "code",
   "execution_count": 263,
   "metadata": {},
   "outputs": [
    {
     "data": {
      "text/plain": [
       "EdgeDataView([(1, 2), (1, 3), (1, 5), (2, 4), (2, 3)])"
      ]
     },
     "execution_count": 263,
     "metadata": {},
     "output_type": "execute_result"
    }
   ],
   "source": [
    "undirected_graph.edges([1,2])\n"
   ]
  },
  {
   "cell_type": "code",
   "execution_count": 264,
   "metadata": {},
   "outputs": [],
   "source": [
    "def localSearch(mutatedOffspringEdge,mutatedOffspringNode):\n",
    "    \n",
    "    oriFit = calculateFitness(mutatedOffspringNode,undirected_graph)\n",
    "    print(\"original Fitness \",oriFit)\n",
    "    ls = [getEdgeValue(labledEdge,i) for i in mutatedOffspringEdge]  \n",
    "    tempGene = mutatedOffspringEdge[:]\n",
    "    for n,i in enumerate(ls):   \n",
    "        nei =list(undirected_graph.edges(list(getEdgeValue(labledEdge,n+1))))\n",
    "        for j in nei:\n",
    "            if j != i:\n",
    "                tempGene[n] = getEdgeLabel(labledEdge,j)\n",
    "                nodes = geneToCommunityOfNodes(decode_communities(tempGene))\n",
    "                fitness = calculateFitness(nodes,undirected_graph)\n",
    "                if(fitness>oriFit):\n",
    "                    oriFit = fitness\n",
    "                    print(\"New Fitness : \", fitness)\n",
    "                    break\n",
    "    return nodes                \n",
    "                \n",
    "\n",
    "# localSearch([2, 6, 3, 1, 1, 4, 3, 8, 4, 11, 10, 10, 9, 13],[[1, 2, 4, 5, 6, 9, 13, 14], [3, 7], [8], [10, 11, 12]])\n",
    "    "
   ]
  },
  {
   "cell_type": "code",
   "execution_count": 265,
   "metadata": {},
   "outputs": [],
   "source": [
    "def M_Link(limit):\n",
    "    \n",
    "    base,middle,top=initializePopulation()\n",
    "    count = 0\n",
    "    topScore = -1\n",
    "    while count<limit:\n",
    "        parent1 = top.pocket\n",
    "        calculate_std(top)\n",
    "        if not lostDiversity(top):\n",
    "            parent2Agent = rd.choice(middle)\n",
    "        else:\n",
    "            parent2Agent = rd.choice(rd.choice(base))\n",
    "        parent2 = rd.choice(parent2Agent.individuals)\n",
    "        # print('parents')\n",
    "        # print(parent1,parent2)\n",
    "        locus,parent1Edge = communityToGene(parent1,number_of_nodes,number_of_edges,labledEdge)\n",
    "        _,parent2Edge =communityToGene(parent2,number_of_nodes,number_of_edges,labledEdge)\n",
    "        # print(\"parentsEdge\")\n",
    "        # print(parent1Edge,parent2Edge)\n",
    "\n",
    "        offspring = crossOver(parent1Edge,parent2Edge,.5)\n",
    "        # print(\"offspring\")\n",
    "        # print(offspring)\n",
    "        \n",
    "        # \n",
    "        mutatedOffspringEdge= mutate(offspring,.5,labledEdge,undirected_graph)\n",
    "        # print(\"mutatedOffspringEdge\")\n",
    "        # print(mutatedOffspringEdge)\n",
    "        mutatedOffspringEdgeCluster =  decode_communities(mutatedOffspringEdge)\n",
    "        print(\"mutatedOffspringEdgeCluster\")\n",
    "        # print(mutatedOffspringEdgeCluster)\n",
    "        mutatedOffspringNode = geneToCommunityOfNodes(mutatedOffspringEdgeCluster)\n",
    "        # print(mutatedOffspringNode)\n",
    "        localSearchedNodes = localSearch(mutatedOffspringEdge,mutatedOffspringNode)\n",
    "        base, middle,top = updatePopulation(localSearchedNodes,base)\n",
    "        if(topScore<top.pocketFitness):\n",
    "            topScore = top.pocketFitness\n",
    "            count = 0\n",
    "        else:\n",
    "            count+=1\n",
    "        print('*************************************')\n",
    "        print(top.pocket,'|| Fitness:',top.pocketFitness)\n",
    "    return top\n",
    "        \n",
    "    "
   ]
  },
  {
   "cell_type": "code",
   "execution_count": 266,
   "metadata": {},
   "outputs": [
    {
     "name": "stdout",
     "output_type": "stream",
     "text": [
      "Ignoring ValueError In mutate function for  13\n",
      "mutatedOffspringEdgeCluster\n",
      "original Fitness  0.4880952380952381\n",
      "New Fitness :  0.5714285714285714\n",
      "New Fitness :  0.6904761904761905\n",
      "*************************************\n",
      "[[1, 2, 3, 4, 5], [8, 9, 6, 7]] || Fitness: 0.4880952380952381\n",
      "mutatedOffspringEdgeCluster\n",
      "original Fitness  0.39285714285714285\n",
      "New Fitness :  0.40952380952380946\n",
      "New Fitness :  0.47619047619047616\n",
      "*************************************\n",
      "[[1, 2, 3, 4, 5], [8, 9, 6, 7]] || Fitness: 0.4880952380952381\n",
      "Ignoring ValueError In mutate function for  8\n",
      "Ignoring ValueError In mutate function for  9\n",
      "mutatedOffspringEdgeCluster\n",
      "original Fitness  0.38775510204081626\n",
      "New Fitness :  0.6020408163265305\n",
      "New Fitness :  0.719047619047619\n",
      "*************************************\n",
      "[[1, 2, 3], [1, 2, 3, 4, 5, 6, 7, 8], [4, 6], [8, 9, 6]] || Fitness: 0.6326530612244898\n",
      "Ignoring ValueError in communityToGene() for  11\n",
      "Ignoring ValueError In mutate function for  8\n",
      "mutatedOffspringEdgeCluster\n",
      "original Fitness  0.4880952380952381\n",
      "New Fitness :  0.6071428571428571\n",
      "New Fitness :  0.6357142857142858\n",
      "New Fitness :  0.6428571428571429\n",
      "*************************************\n",
      "[[1, 2, 3], [1, 2, 3, 4, 5, 6, 7, 8], [4, 6], [8, 9, 6]] || Fitness: 0.6326530612244898\n",
      "Ignoring ValueError in communityToGene() for  11\n",
      "Ignoring ValueError In mutate function for  9\n",
      "mutatedOffspringEdgeCluster\n",
      "original Fitness  0.5\n",
      "New Fitness :  0.5833333333333333\n",
      "New Fitness :  0.7142857142857143\n",
      "*************************************\n",
      "[[1, 2, 3], [1, 2, 3, 4, 5, 6, 7, 8], [4, 6], [8, 9, 6]] || Fitness: 0.6326530612244898\n",
      "Ignoring ValueError in communityToGene() for  11\n",
      "Ignoring ValueError In mutate function for  12\n",
      "Ignoring ValueError In mutate function for  14\n",
      "mutatedOffspringEdgeCluster\n",
      "original Fitness  0.34013605442176864\n",
      "New Fitness :  0.3537414965986394\n",
      "New Fitness :  0.42857142857142855\n",
      "*************************************\n",
      "[[1, 2, 3], [1, 2, 3, 4, 5, 6, 7, 8], [4, 6], [8, 9, 6]] || Fitness: 0.6326530612244898\n",
      "Ignoring ValueError in communityToGene() for  11\n",
      "mutatedOffspringEdgeCluster\n",
      "original Fitness  0.4880952380952381\n",
      "New Fitness :  0.5476190476190476\n",
      "New Fitness :  0.5833333333333333\n",
      "New Fitness :  0.7142857142857143\n",
      "*************************************\n",
      "[[1, 2, 3], [1, 2, 3, 4, 5, 6, 7, 8], [4, 6], [8, 9, 6]] || Fitness: 0.6326530612244898\n",
      "Ignoring ValueError in communityToGene() for  11\n",
      "mutatedOffspringEdgeCluster\n",
      "original Fitness  0.40238095238095234\n",
      "New Fitness :  0.4183673469387755\n",
      "New Fitness :  0.44761904761904764\n",
      "New Fitness :  0.5571428571428572\n",
      "*************************************\n",
      "[[1, 2, 3], [1, 2, 3, 4, 5, 6, 7, 8], [4, 6], [8, 9, 6]] || Fitness: 0.6326530612244898\n"
     ]
    }
   ],
   "source": [
    "one =M_Link(5)\n"
   ]
  },
  {
   "cell_type": "code",
   "execution_count": 267,
   "metadata": {},
   "outputs": [],
   "source": [
    "with open(f'{dataset}-output.txt','a') as f:\n",
    "    f.write(f'{one.pocketFitness}\\n')\n",
    "    f.write(f'{one.pocket}\\n')\n"
   ]
  },
  {
   "cell_type": "code",
   "execution_count": 268,
   "metadata": {},
   "outputs": [
    {
     "name": "stdout",
     "output_type": "stream",
     "text": [
      "0.6326530612244898\n"
     ]
    }
   ],
   "source": [
    "print(one.pocketFitness)\n",
    "# print(two.pocketFitness)\n",
    "# print(three.pocketFitness)\n",
    "# print(four.pocketFitness)"
   ]
  },
  {
   "cell_type": "code",
   "execution_count": 269,
   "metadata": {},
   "outputs": [
    {
     "name": "stdout",
     "output_type": "stream",
     "text": [
      "[[1, 2, 3], [1, 2, 3, 4, 5, 6, 7, 8], [4, 6], [8, 9, 6]]\n"
     ]
    }
   ],
   "source": [
    "print(one.pocket)\n",
    "# print(two.pocket)\n",
    "# print(three.pocket)\n",
    "# print(four.pocket)"
   ]
  },
  {
   "cell_type": "code",
   "execution_count": 270,
   "metadata": {},
   "outputs": [],
   "source": [
    "# drawLayout(labledEdge)"
   ]
  }
 ],
 "metadata": {
  "kernelspec": {
   "display_name": "Python 3",
   "language": "python",
   "name": "python3"
  },
  "language_info": {
   "codemirror_mode": {
    "name": "ipython",
    "version": 3
   },
   "file_extension": ".py",
   "mimetype": "text/x-python",
   "name": "python",
   "nbconvert_exporter": "python",
   "pygments_lexer": "ipython3",
   "version": "3.10.9"
  },
  "orig_nbformat": 4,
  "vscode": {
   "interpreter": {
    "hash": "f00f3490a45c41bdc72c89c2e2114567c675efe43a3d604fa5deafdd8d8b35cc"
   }
  }
 },
 "nbformat": 4,
 "nbformat_minor": 2
}
