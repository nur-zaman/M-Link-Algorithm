{
 "cells": [
  {
   "cell_type": "code",
   "execution_count": 1,
   "metadata": {},
   "outputs": [],
   "source": [
    "import numpy as np\n",
    "import networkx as nx\n",
    "import os\n",
    "import matplotlib.pyplot as plt\n",
    "import random as rd\n",
    "import statistics as st"
   ]
  },
  {
   "cell_type": "code",
   "execution_count": 2,
   "metadata": {},
   "outputs": [],
   "source": [
    "dataset = 'test.txt'"
   ]
  },
  {
   "cell_type": "code",
   "execution_count": 3,
   "metadata": {},
   "outputs": [],
   "source": [
    "# def get_edge_list(file_name):\n",
    "#     with open(file_name) as ifs:\n",
    "#         lines = ifs.readlines()\n",
    "#         edge_list = map(lambda line: map(int, line.strip().split()), filter(lambda ele: '#' not in ele, lines))\n",
    "#     return edge_list\n",
    "\n",
    "def get_edge_list(file_name):\n",
    "    # Open the file and read its contents\n",
    "    with open(file_name) as file:\n",
    "        lines = file.readlines()\n",
    "\n",
    "    # Remove lines that are comments (start with \"#\")\n",
    "    lines = [line for line in lines if '#' not in line]\n",
    "\n",
    "    # Convert each line to a pair of integers\n",
    "    edge_list = []\n",
    "    for line in lines:\n",
    "        edge = tuple(map(int, line.strip().split()))\n",
    "        edge_list.append(edge)\n",
    "    \n",
    "    return edge_list\n",
    "\n",
    "def get_undirected_graph_info(file_name):\n",
    "    my_edge_list = get_edge_list(file_name)\n",
    "    undirected_graph = nx.Graph()\n",
    "    undirected_graph.add_edges_from(my_edge_list)\n",
    "    file_info = file_name.split(os.sep)[-1].split('_')[0]\n",
    "    str_list = [file_info, 'nodes num:' + str(undirected_graph.number_of_nodes()), 'edges num:'\n",
    "                + str(undirected_graph.number_of_edges())]\n",
    "    print (' | '.join(str_list))\n",
    "\n",
    "\n",
    "def get_dir_info(dir_name):\n",
    "    my_walk = os.walk(dir_name)\n",
    "    my_root, sub_root_list, file_list = list(my_walk)[0]\n",
    "    path_list = map(lambda ele: my_root + os.sep + ele, file_list)\n",
    "    for my_path in path_list:\n",
    "        get_undirected_graph_info(my_path)\n"
   ]
  },
  {
   "cell_type": "code",
   "execution_count": 4,
   "metadata": {},
   "outputs": [
    {
     "name": "stdout",
     "output_type": "stream",
     "text": [
      "test.txt | nodes num:9 | edges num:14\n"
     ]
    }
   ],
   "source": [
    "get_undirected_graph_info(dataset)"
   ]
  },
  {
   "cell_type": "code",
   "execution_count": 5,
   "metadata": {},
   "outputs": [],
   "source": [
    "edgeList = get_edge_list(dataset)"
   ]
  },
  {
   "cell_type": "code",
   "execution_count": 6,
   "metadata": {},
   "outputs": [
    {
     "name": "stdout",
     "output_type": "stream",
     "text": [
      "[(1, 2), (1, 3), (1, 5), (2, 1), (2, 4), (2, 3), (3, 2), (3, 4), (3, 1), (4, 2), (4, 3), (4, 5), (4, 6), (4, 7), (5, 1), (5, 4), (6, 4), (6, 7), (6, 8), (6, 9), (7, 4), (7, 6), (7, 8), (8, 7), (8, 6), (8, 9)]\n"
     ]
    }
   ],
   "source": [
    "print(edgeList)"
   ]
  },
  {
   "cell_type": "code",
   "execution_count": 7,
   "metadata": {},
   "outputs": [],
   "source": [
    "undirected_graph = nx.Graph()\n",
    "undirected_graph.add_edges_from(edgeList)"
   ]
  },
  {
   "cell_type": "code",
   "execution_count": 8,
   "metadata": {},
   "outputs": [
    {
     "data": {
      "image/png": "[encoded data removed]",
      "text/plain": [
       "<Figure size 432x288 with 1 Axes>"
      ]
     },
     "metadata": {},
     "output_type": "display_data"
    }
   ],
   "source": [
    "\n",
    "nx.draw_networkx(undirected_graph,pos=nx.random_layout(undirected_graph))"
   ]
  },
  {
   "cell_type": "code",
   "execution_count": 9,
   "metadata": {},
   "outputs": [
    {
     "data": {
      "text/plain": [
       "EdgeDataView([(1, 2), (1, 3), (1, 5), (2, 4), (2, 3)])"
      ]
     },
     "execution_count": 9,
     "metadata": {},
     "output_type": "execute_result"
    }
   ],
   "source": [
    "rd.choice (list(undirected_graph.edges(1)))\n",
    "undirected_graph.edges((1,2))\n"
   ]
  },
  {
   "cell_type": "code",
   "execution_count": 10,
   "metadata": {},
   "outputs": [],
   "source": [
    "graphEdge = undirected_graph.edges()\n",
    "graphNode = undirected_graph.nodes()"
   ]
  },
  {
   "cell_type": "code",
   "execution_count": 11,
   "metadata": {},
   "outputs": [],
   "source": [
    "number_of_edges = len(graphEdge)\n",
    "number_of_nodes = len(graphNode)"
   ]
  },
  {
   "cell_type": "code",
   "execution_count": 12,
   "metadata": {},
   "outputs": [],
   "source": [
    "initialGene= np.full(number_of_edges, -1)"
   ]
  },
  {
   "cell_type": "code",
   "execution_count": 13,
   "metadata": {},
   "outputs": [
    {
     "data": {
      "text/plain": [
       "[1, 2, 3, 4, 5, 6, 7, 8, 9, 10, 11, 12, 13, 14]"
      ]
     },
     "execution_count": 13,
     "metadata": {},
     "output_type": "execute_result"
    }
   ],
   "source": [
    "locus = [i for i in range(1,number_of_edges+1)]\n",
    "locus"
   ]
  },
  {
   "cell_type": "code",
   "execution_count": 14,
   "metadata": {},
   "outputs": [
    {
     "data": {
      "text/plain": [
       "14"
      ]
     },
     "execution_count": 14,
     "metadata": {},
     "output_type": "execute_result"
    }
   ],
   "source": [
    "len(initialGene)"
   ]
  },
  {
   "cell_type": "code",
   "execution_count": 15,
   "metadata": {},
   "outputs": [
    {
     "data": {
      "text/plain": [
       "{(1, 2): 1,\n",
       " (1, 3): 2,\n",
       " (1, 5): 3,\n",
       " (2, 4): 4,\n",
       " (2, 3): 5,\n",
       " (3, 4): 6,\n",
       " (5, 4): 7,\n",
       " (4, 6): 8,\n",
       " (4, 7): 9,\n",
       " (6, 7): 10,\n",
       " (6, 8): 11,\n",
       " (6, 9): 12,\n",
       " (7, 8): 13,\n",
       " (8, 9): 14}"
      ]
     },
     "execution_count": 15,
     "metadata": {},
     "output_type": "execute_result"
    }
   ],
   "source": [
    "labledEdge = {t: i+1 for i, t in enumerate(graphEdge)}\n",
    "labledEdge"
   ]
  },
  {
   "cell_type": "code",
   "execution_count": null,
   "metadata": {},
   "outputs": [],
   "source": [
    "[1, 2, 3, 4, 5, 6, 7, 8, 9, 10, 11, 12, 13, 14] \n",
    "[2, 1, 7, 5, 4, 8, 6, 9, 13, 8, 10, 11, 9, 12]"
   ]
  },
  {
   "cell_type": "code",
   "execution_count": 16,
   "metadata": {},
   "outputs": [],
   "source": [
    "def getEdgeLabel(labledEdge,edge):\n",
    "    try:\n",
    "      return labledEdge[edge]\n",
    "    except:\n",
    "      try:\n",
    "        return labledEdge[(edge[1],edge[0])]\n",
    "      except:\n",
    "        print('NO KEY FOUND')\n",
    "    "
   ]
  },
  {
   "cell_type": "code",
   "execution_count": 17,
   "metadata": {},
   "outputs": [
    {
     "data": {
      "text/plain": [
       "(2, 3)"
      ]
     },
     "execution_count": 17,
     "metadata": {},
     "output_type": "execute_result"
    }
   ],
   "source": [
    "def getEdgeValue(labledEdge,value):\n",
    "   return next((k for k, v in labledEdge.items() if v == value), None)\n",
    "\n",
    "getEdgeValue(labledEdge,5)"
   ]
  },
  {
   "cell_type": "code",
   "execution_count": 18,
   "metadata": {},
   "outputs": [
    {
     "name": "stdout",
     "output_type": "stream",
     "text": [
      "[1, 2, 3, 4, 5, 6, 7, 8, 9, 10, 11, 12, 13, 14]\n",
      "[2, 5, 7, 8, 6, 5, 9, 7, 10, 10, 8, 8, 11, 13]\n"
     ]
    }
   ],
   "source": [
    "#make initial communities\n",
    "\n",
    "gene = []\n",
    "for  edge,l in labledEdge.items():\n",
    "    connectedEdges = list(undirected_graph.edges(edge))\n",
    "    geneValue = getEdgeLabel(labledEdge,rd.choice(connectedEdges))\n",
    "\n",
    "\n",
    "    if(geneValue != None):\n",
    "        gene.append(geneValue)\n",
    "\n",
    "print(locus)\n",
    "print(gene)\n"
   ]
  },
  {
   "cell_type": "code",
   "execution_count": 19,
   "metadata": {},
   "outputs": [
    {
     "data": {
      "image/png": "[encoded data removed]",
      "text/plain": [
       "<Figure size 432x288 with 1 Axes>"
      ]
     },
     "metadata": {},
     "output_type": "display_data"
    }
   ],
   "source": [
    "nx.draw_networkx(undirected_graph,pos=nx.random_layout(undirected_graph))"
   ]
  },
  {
   "cell_type": "code",
   "execution_count": 20,
   "metadata": {},
   "outputs": [
    {
     "name": "stdout",
     "output_type": "stream",
     "text": [
      "[1, 2, 3, 4, 5, 6, 7, 8, 9, 10, 11, 12, 13, 14]\n",
      "[2, 5, 7, 8, 6, 5, 9, 7, 10, 10, 8, 8, 11, 13]\n"
     ]
    }
   ],
   "source": [
    "\n",
    "print(locus)\n",
    "print(gene)"
   ]
  },
  {
   "cell_type": "code",
   "execution_count": 21,
   "metadata": {},
   "outputs": [
    {
     "data": {
      "text/plain": [
       "-0.03571428571428571"
      ]
     },
     "execution_count": 21,
     "metadata": {},
     "output_type": "execute_result"
    }
   ],
   "source": [
    "#finished but not tested with real gene\n",
    "def calculateFitness(communities: list,labledEdge):\n",
    "    D = 0\n",
    "    E = len(labledEdge)\n",
    "    for i in communities:\n",
    "        community = nx.Graph()\n",
    "        community.add_edges_from([getEdgeValue(labledEdge, j) for j in i])\n",
    "        mc = community.number_of_edges()\n",
    "        nc = community.number_of_nodes()\n",
    "        # print(nc)\n",
    "        if nc>=3:\n",
    "            D += mc * ((mc - (nc-1)) / (((nc-2)*(nc-1))))\n",
    "            # print(D)\n",
    "\n",
    "    return 2*D/E\n",
    "\n",
    "calculateFitness([[1,2,7],[7,8,9]],labledEdge)"
   ]
  },
  {
   "cell_type": "code",
   "execution_count": 22,
   "metadata": {},
   "outputs": [
    {
     "name": "stdout",
     "output_type": "stream",
     "text": [
      "<class 'set'>\n"
     ]
    }
   ],
   "source": [
    "print(type({1,2}))\n"
   ]
  },
  {
   "cell_type": "code",
   "execution_count": 23,
   "metadata": {},
   "outputs": [],
   "source": [
    "def makeCommunities(locus,gene):\n",
    "    communityList=[]\n",
    "    edge1 = locus[0]\n",
    "    edge2 = gene[0]\n",
    "    for i in range(1,len(locus)):\n",
    "        pass\n",
    "\n",
    "        \n",
    "        \n",
    "    "
   ]
  },
  {
   "cell_type": "code",
   "execution_count": 24,
   "metadata": {},
   "outputs": [
    {
     "data": {
      "text/plain": [
       "3"
      ]
     },
     "execution_count": 24,
     "metadata": {},
     "output_type": "execute_result"
    }
   ],
   "source": [
    "def most_frequent(List):\n",
    "    return max(set(List), key = List.count)\n",
    "\n",
    "most_frequent([1,1,2,2,3,3,3])\n",
    "\n",
    "# def most_common(List):\n",
    "#     return(st.mode(List))\n",
    "   \n",
    "# List = [2, 1, 2, 2, 1, 3]\n",
    "# print(most_common(List))"
   ]
  },
  {
   "cell_type": "code",
   "execution_count": 25,
   "metadata": {},
   "outputs": [],
   "source": [
    "def getNodeLabel():\n",
    "    pass"
   ]
  },
  {
   "cell_type": "code",
   "execution_count": 26,
   "metadata": {},
   "outputs": [],
   "source": [
    "def setNodeLabel():\n",
    "    pass"
   ]
  },
  {
   "cell_type": "code",
   "execution_count": 27,
   "metadata": {},
   "outputs": [
    {
     "data": {
      "text/plain": [
       "True"
      ]
     },
     "execution_count": 27,
     "metadata": {},
     "output_type": "execute_result"
    }
   ],
   "source": [
    "def has_repetitions(lst):\n",
    "    return len(set(lst)) < len(lst)\n",
    "\n",
    "has_repetitions([1,1,2,2])\n",
    "\n"
   ]
  },
  {
   "cell_type": "code",
   "execution_count": 28,
   "metadata": {},
   "outputs": [
    {
     "data": {
      "text/plain": [
       "[[1, 2, 3], [4, 6, 7, 8, 9], [5]]"
      ]
     },
     "execution_count": 28,
     "metadata": {},
     "output_type": "execute_result"
    }
   ],
   "source": [
    "from collections import defaultdict\n",
    "\n",
    "\n",
    "\n",
    "def createCommunities(x:dict):\n",
    "    groups = defaultdict(list)\n",
    "\n",
    "    # Group the keys based on the values\n",
    "    for key, value in x.items():\n",
    "        groups[value].append(key)\n",
    "\n",
    "    # Get the list of lists with the keys\n",
    "    y = list(groups.values())\n",
    "\n",
    "    return y\n",
    "\n",
    "x = {1: 2, 2: 2, 3: 2, 4: 8, 5: 1, 6: 8, 7: 8, 8: 8, 9: 8}\n",
    "createCommunities(x)"
   ]
  },
  {
   "cell_type": "code",
   "execution_count": 29,
   "metadata": {},
   "outputs": [
    {
     "data": {
      "text/plain": [
       "{1: 1, 2: 1, 3: 1, 4: 3, 5: 1, 6: 3, 7: 3, 8: 3, 9: 6}"
      ]
     },
     "execution_count": 29,
     "metadata": {},
     "output_type": "execute_result"
    }
   ],
   "source": [
    "#Label Propagation\n",
    "\n",
    "def labelProp(undirected_graph):\n",
    "    \n",
    "    graphNode = undirected_graph.nodes()\n",
    "    asList = sorted(list(graphNode))\n",
    "    randomizedList = asList[:]\n",
    "    rd.shuffle(randomizedList)\n",
    "    # print(randomizedList)\n",
    "    labledNodes = {i+1:t  for i, t in enumerate(asList)}\n",
    "    prevLabledNodes = labledNodes\n",
    "    # print(labledNodes)\n",
    "    stop = False\n",
    "    while not stop:\n",
    "        for v in randomizedList:\n",
    "            # v = rd.choice(asList)\n",
    "            # v = 5\n",
    "            neighbors = [i for i in nx.all_neighbors(undirected_graph,v)]\n",
    "            labledNeighbors = [labledNodes[i] for i in nx.all_neighbors(undirected_graph,v)]\n",
    "            # print(neighbors)\n",
    "            \n",
    "            if(has_repetitions(labledNeighbors)):\n",
    "                freq = most_frequent(labledNeighbors)\n",
    "                labledNodes[v] = freq\n",
    "            else:\n",
    "                freq = rd.choice(labledNeighbors)\n",
    "                labledNodes[v] = freq\n",
    "            \n",
    "            # print(labledNodes)\n",
    "\n",
    "            if(prevLabledNodes == labledNodes):\n",
    "                stop = True\n",
    "    return labledNodes\n",
    "\n",
    "labelProp(undirected_graph)"
   ]
  },
  {
   "cell_type": "code",
   "execution_count": 30,
   "metadata": {},
   "outputs": [
    {
     "data": {
      "text/plain": [
       "[[1, 2, 3, 5], [7, 4, 6, 8], [9]]"
      ]
     },
     "execution_count": 30,
     "metadata": {},
     "output_type": "execute_result"
    }
   ],
   "source": [
    "# Local Expansion\n",
    "\n",
    "def localExpansion(undirected_graph):\n",
    "    counter = 0\n",
    "    communities = []\n",
    "    graphNode = undirected_graph.nodes()\n",
    "    asList = list(graphNode)\n",
    "    V = len(asList)\n",
    "    tempList = asList[:]\n",
    "    while counter < V:\n",
    "        community = []\n",
    "        seed = rd.choice(tempList)\n",
    "        community.append(seed)\n",
    "        tempList.remove(seed)\n",
    "        counter+=1\n",
    "        naturalCommNodes = list(nx.all_neighbors(undirected_graph,seed))\n",
    "        for i in naturalCommNodes:\n",
    "            # naturalCommNodes.remove(seed)\n",
    "            if i not in tempList:\n",
    "                continue\n",
    "            community.append(i)\n",
    "            try:\n",
    "                tempList.remove(i)\n",
    "            except ValueError:\n",
    "                print('E')\n",
    "            counter+=1\n",
    "        communities.append(community)\n",
    "    return communities\n",
    "        \n",
    "localExpansion(undirected_graph)"
   ]
  },
  {
   "cell_type": "code",
   "execution_count": 31,
   "metadata": {},
   "outputs": [
    {
     "data": {
      "text/plain": [
       "[(4, 0.4933920733573079),\n",
       " (6, 0.40706047630591524),\n",
       " (7, 0.3584871224114072),\n",
       " (2, 0.324913401601575),\n",
       " (3, 0.324913401601575),\n",
       " (8, 0.29309722985908043),\n",
       " (1, 0.26345729483676417),\n",
       " (5, 0.22732374123127333),\n",
       " (9, 0.2102944623170073)]"
      ]
     },
     "execution_count": 31,
     "metadata": {},
     "output_type": "execute_result"
    }
   ],
   "source": [
    "centrality = nx.eigenvector_centrality(undirected_graph)\n",
    "sorted_centrality = sorted(centrality.items(), key=lambda x: x[1], reverse=True)\n",
    "sorted_centrality"
   ]
  },
  {
   "cell_type": "code",
   "execution_count": 32,
   "metadata": {},
   "outputs": [
    {
     "data": {
      "text/plain": [
       "[[4, 2, 3, 5, 6, 7], [8, 9], [1]]"
      ]
     },
     "execution_count": 32,
     "metadata": {},
     "output_type": "execute_result"
    }
   ],
   "source": [
    "# Local Expansion\n",
    "\n",
    "def localExpansionWithEigen(undirected_graph):\n",
    "    counter = 0\n",
    "    communities = []\n",
    "    graphNode = undirected_graph.nodes()\n",
    "    asList = list(graphNode)\n",
    "    V = len(asList)\n",
    "    tempList = asList[:]\n",
    "\n",
    "    centrality = nx.eigenvector_centrality(undirected_graph)\n",
    "    sorted_centrality = sorted(centrality.items(), key=lambda x: x[1], reverse=True)\n",
    "\n",
    "    \n",
    "    while counter < V :\n",
    "        community = []\n",
    "        seed = sorted_centrality[0][0]\n",
    "        sorted_centrality.pop(0)\n",
    "        if seed not in tempList:\n",
    "            continue\n",
    "        community.append(seed)\n",
    "        tempList.remove(seed)\n",
    "        counter+=1\n",
    "        naturalCommNodes = list(nx.all_neighbors(undirected_graph,seed))\n",
    "        for i in naturalCommNodes:\n",
    "            # naturalCommNodes.remove(seed)\n",
    "            if i not in tempList:\n",
    "                continue\n",
    "            community.append(i)\n",
    "            tempList.remove(i)\n",
    "            counter+=1\n",
    "        communities.append(community)\n",
    "    return communities\n",
    "        \n",
    "localExpansionWithEigen(undirected_graph)"
   ]
  },
  {
   "cell_type": "code",
   "execution_count": 33,
   "metadata": {},
   "outputs": [
    {
     "name": "stdout",
     "output_type": "stream",
     "text": [
      "fitness : 0.0 | CommunityList : [[6, 4, 7, 8, 9], [5, 1], [3, 2]]\n",
      "fitness : 0.14285714285714285 | CommunityList : [[4, 2, 3, 5, 6, 7], [1], [9, 8]]\n",
      "fitness : 0.0 | CommunityList : [[3, 1, 2, 4], [6, 7, 8, 9], [5]]\n",
      "fitness : 0.0 | CommunityList : [[5, 1, 4], [2, 3], [9, 6, 8], [7]]\n",
      "fitness : 0.0 | CommunityList : [[2, 1, 4, 3], [9, 6, 8], [7], [5]]\n",
      "fitness : 0.0 | CommunityList : [[8, 6, 7, 9], [2, 1, 4, 3], [5]]\n",
      "fitness : 0.0 | CommunityList : [[2, 1, 4, 3], [7, 6, 8], [9], [5]]\n"
     ]
    }
   ],
   "source": [
    "\n",
    "for i in range(7):\n",
    "    le = localExpansion(undirected_graph)\n",
    "    fit = calculateFitness(le,labledEdge)\n",
    "    print(f'fitness : {fit} | CommunityList : {le}')\n",
    "    \n",
    "    "
   ]
  },
  {
   "cell_type": "code",
   "execution_count": 34,
   "metadata": {},
   "outputs": [
    {
     "name": "stdout",
     "output_type": "stream",
     "text": [
      "fitness : 0.0 | CommunityList : [[1, 2, 3, 4], [5], [6, 8, 9], [7]]\n",
      "fitness : 0.05952380952380952 | CommunityList : [[1, 2, 3, 4, 5], [6, 7, 8, 9]]\n",
      "fitness : 0.0 | CommunityList : [[1, 2, 3, 4], [5], [6, 7, 8, 9]]\n",
      "fitness : 0.042857142857142864 | CommunityList : [[1, 5], [2, 3, 4, 6, 7, 9], [8]]\n",
      "fitness : 0.0 | CommunityList : [[1, 5], [2, 3], [4, 6, 7, 8, 9]]\n",
      "fitness : 0.05952380952380952 | CommunityList : [[1, 2, 3, 4, 5], [6, 7, 8, 9]]\n",
      "fitness : 0.0 | CommunityList : [[1, 2, 3], [4, 6, 7, 8, 9], [5]]\n"
     ]
    }
   ],
   "source": [
    "for i in range(7):\n",
    "    lp = labelProp(undirected_graph)\n",
    "    cmnti = createCommunities(lp)\n",
    "    # print(cmnti)\n",
    "    fit = calculateFitness(cmnti,labledEdge)\n",
    "    print(f'fitness : {fit} | CommunityList : {cmnti}')\n",
    "\n"
   ]
  },
  {
   "cell_type": "code",
   "execution_count": 35,
   "metadata": {},
   "outputs": [
    {
     "name": "stdout",
     "output_type": "stream",
     "text": [
      "fitness : 0.14285714285714285 | CommunityList : [[4, 2, 3, 5, 6, 7], [8, 9], [1]]\n",
      "fitness : 0.14285714285714285 | CommunityList : [[4, 2, 3, 5, 6, 7], [8, 9], [1]]\n",
      "fitness : 0.14285714285714285 | CommunityList : [[4, 2, 3, 5, 6, 7], [8, 9], [1]]\n",
      "fitness : 0.14285714285714285 | CommunityList : [[4, 2, 3, 5, 6, 7], [8, 9], [1]]\n",
      "fitness : 0.14285714285714285 | CommunityList : [[4, 2, 3, 5, 6, 7], [8, 9], [1]]\n",
      "fitness : 0.14285714285714285 | CommunityList : [[4, 2, 3, 5, 6, 7], [8, 9], [1]]\n",
      "fitness : 0.14285714285714285 | CommunityList : [[4, 2, 3, 5, 6, 7], [8, 9], [1]]\n"
     ]
    }
   ],
   "source": [
    "for i in range(7):\n",
    "    le = localExpansionWithEigen(undirected_graph)\n",
    "    fit = calculateFitness(le,labledEdge)\n",
    "    print(f'fitness : {fit} | CommunityList : {le}')"
   ]
  },
  {
   "cell_type": "code",
   "execution_count": 36,
   "metadata": {},
   "outputs": [],
   "source": [
    "# undirected_graph.edges([8,9])"
   ]
  },
  {
   "cell_type": "code",
   "execution_count": 37,
   "metadata": {},
   "outputs": [
    {
     "data": {
      "text/plain": [
       "[-1, -1, -1, -1, 'a']"
      ]
     },
     "execution_count": 37,
     "metadata": {},
     "output_type": "execute_result"
    }
   ],
   "source": [
    "g = [-1]*5\n",
    "\n",
    "g[4] = 'a'\n",
    "g"
   ]
  },
  {
   "cell_type": "code",
   "execution_count": 52,
   "metadata": {},
   "outputs": [],
   "source": [
    "def has_common_element(list1, list2):\n",
    "    for element in list1:\n",
    "        if element in list2:\n",
    "            return True\n",
    "    return False"
   ]
  },
  {
   "cell_type": "code",
   "execution_count": 103,
   "metadata": {},
   "outputs": [
    {
     "name": "stdout",
     "output_type": "stream",
     "text": [
      "2 1\n",
      "1 2\n",
      "3 2\n",
      "1 3\n",
      "5 4\n",
      "4 5\n",
      "6 5\n",
      "4 6\n",
      "8 7\n",
      "7 8\n",
      "9 8\n",
      "7 9\n",
      "10 8\n",
      "11 8\n",
      "12 8\n",
      "9 8\n",
      "8 10\n",
      "10 11\n",
      "11 12\n",
      "13 9\n",
      "9 13\n",
      "13 14\n",
      "[1, 2, 3, 4, 5, 6, 7, 8, 9, 10, 11, 12, 13, 14]\n",
      "[2, 3, 1, 5, 6, 4, 8, 9, 7, 8, 10, 11, 9, 13]\n"
     ]
    }
   ],
   "source": [
    "# this takes a list of community and returns a list of locus and gene\n",
    "def communityToGene(communities,number_of_nodes,number_of_edges,labledEdge):\n",
    "    locus = [i for i in range(1,number_of_edges+1)]\n",
    "    gene = [-1] * number_of_edges\n",
    "    # overlappingEdges = []\n",
    "    for community in communities:\n",
    "        edgesAsTuples = list(undirected_graph.edges(community))\n",
    "        edges=[getEdgeLabel(labledEdge,i) for i in edgesAsTuples]\n",
    "        # print(edgesAsTuples)\n",
    "        for n,i in enumerate(edgesAsTuples):\n",
    "            edgeLabel = getEdgeLabel(labledEdge,i)\n",
    "            ngEdges = list(undirected_graph.edges(i))\n",
    "            ngEdges.remove(i)\n",
    "            ngEdgesLabeled=[getEdgeLabel(labledEdge,t) for t in ngEdges]\n",
    "            # print(ngEdgesLabeled)\n",
    "            for element in ngEdgesLabeled:\n",
    "                if element in edges:\n",
    "                    if(gene[edgeLabel-1]!=-1 or gene[element-1]== edgeLabel):\n",
    "                        continue\n",
    "                    else:\n",
    "                        gene[edgeLabel-1] = element\n",
    "                        edges.remove(element)\n",
    "                        break\n",
    "\n",
    "            \n",
    "            \n",
    "            # if(gene[i[0]-1]!= -1 or gene[i[1]-1] != -1):\n",
    "            #     overlappingEdges.append(i)\n",
    "            #     continue\n",
    "            # if(gene[i[0]-1] == -1):\n",
    "            #     # l = locus.index(i[1])\n",
    "            #     gene[i[0]-1] = i[1]\n",
    "            # else:\n",
    "            #     gene[i[1]-1] = i[0]\n",
    "            \n",
    "    # print(overlappingEdges)\n",
    "    return locus,gene\n",
    "\n",
    "\n",
    "locus,gene = [],[]\n",
    "locus,gene = communityToGene([[1,2,3,4,5], [6,7,8, 9]],number_of_nodes,number_of_edges,labledEdge)\n",
    "\n",
    "print(locus)\n",
    "print(gene)\n",
    "\n",
    "        \n",
    "    \n"
   ]
  },
  {
   "cell_type": "code",
   "execution_count": null,
   "metadata": {},
   "outputs": [],
   "source": [
    "def locusNgeneToTuples(locus:list,gene:list):\n",
    "    pass"
   ]
  },
  {
   "cell_type": "code",
   "execution_count": 51,
   "metadata": {},
   "outputs": [
    {
     "data": {
      "text/plain": [
       "[(1, 2), (1, 3), (1, 5), (2, 4), (2, 3)]"
      ]
     },
     "execution_count": 51,
     "metadata": {},
     "output_type": "execute_result"
    }
   ],
   "source": [
    "list(undirected_graph.edges((1, 2)))"
   ]
  },
  {
   "cell_type": "code",
   "execution_count": null,
   "metadata": {},
   "outputs": [],
   "source": []
  }
 ],
 "metadata": {
  "kernelspec": {
   "display_name": "Python 3",
   "language": "python",
   "name": "python3"
  },
  "language_info": {
   "codemirror_mode": {
    "name": "ipython",
    "version": 3
   },
   "file_extension": ".py",
   "mimetype": "text/x-python",
   "name": "python",
   "nbconvert_exporter": "python",
   "pygments_lexer": "ipython3",
   "version": "3.10.9"
  },
  "orig_nbformat": 4,
  "vscode": {
   "interpreter": {
    "hash": "f00f3490a45c41bdc72c89c2e2114567c675efe43a3d604fa5deafdd8d8b35cc"
   }
  }
 },
 "nbformat": 4,
 "nbformat_minor": 2
}
