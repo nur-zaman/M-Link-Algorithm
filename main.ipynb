{
 "cells": [
  {
   "cell_type": "code",
   "execution_count": 84,
   "metadata": {},
   "outputs": [],
   "source": [
    "import numpy as np\n",
    "import networkx as nx\n",
    "import os\n",
    "import matplotlib.pyplot as plt\n",
    "import random as rd\n",
    "import statistics as st"
   ]
  },
  {
   "cell_type": "code",
   "execution_count": 85,
   "metadata": {},
   "outputs": [],
   "source": [
    "dataset = 'data2.txt'"
   ]
  },
  {
   "cell_type": "code",
   "execution_count": 86,
   "metadata": {},
   "outputs": [],
   "source": [
    "# def get_edge_list(file_name):\n",
    "#     with open(file_name) as ifs:\n",
    "#         lines = ifs.readlines()\n",
    "#         edge_list = map(lambda line: map(int, line.strip().split()), filter(lambda ele: '#' not in ele, lines))\n",
    "#     return edge_list\n",
    "\n",
    "def get_edge_list(file_name):\n",
    "    # Open the file and read its contents\n",
    "    with open(file_name) as file:\n",
    "        lines = file.readlines()\n",
    "\n",
    "    # Remove lines that are comments (start with \"#\")\n",
    "    lines = [line for line in lines if '#' not in line]\n",
    "\n",
    "    # Convert each line to a pair of integers\n",
    "    edge_list = []\n",
    "    for line in lines:\n",
    "        edge = tuple(map(int, line.strip().split()))\n",
    "        edge_list.append(edge)\n",
    "    \n",
    "    return edge_list\n",
    "\n",
    "def get_undirected_graph_info(file_name):\n",
    "    my_edge_list = get_edge_list(file_name)\n",
    "    undirected_graph = nx.Graph()\n",
    "    undirected_graph.add_edges_from(my_edge_list)\n",
    "    file_info = file_name.split(os.sep)[-1].split('_')[0]\n",
    "    str_list = [file_info, 'nodes num:' + str(undirected_graph.number_of_nodes()), 'edges num:'\n",
    "                + str(undirected_graph.number_of_edges())]\n",
    "    print (' | '.join(str_list))\n",
    "\n",
    "\n",
    "def get_dir_info(dir_name):\n",
    "    my_walk = os.walk(dir_name)\n",
    "    my_root, sub_root_list, file_list = list(my_walk)[0]\n",
    "    path_list = map(lambda ele: my_root + os.sep + ele, file_list)\n",
    "    for my_path in path_list:\n",
    "        get_undirected_graph_info(my_path)\n"
   ]
  },
  {
   "cell_type": "code",
   "execution_count": 87,
   "metadata": {},
   "outputs": [
    {
     "name": "stdout",
     "output_type": "stream",
     "text": [
      "karate.txt | nodes num:34 | edges num:78\n"
     ]
    }
   ],
   "source": [
    "get_undirected_graph_info(dataset)"
   ]
  },
  {
   "cell_type": "code",
   "execution_count": 88,
   "metadata": {},
   "outputs": [],
   "source": [
    "edgeList = get_edge_list(dataset)"
   ]
  },
  {
   "cell_type": "code",
   "execution_count": 89,
   "metadata": {},
   "outputs": [],
   "source": [
    "# print(edgeList)"
   ]
  },
  {
   "cell_type": "code",
   "execution_count": 90,
   "metadata": {},
   "outputs": [],
   "source": [
    "undirected_graph = nx.Graph()\n",
    "undirected_graph.add_edges_from(edgeList)"
   ]
  },
  {
   "cell_type": "code",
   "execution_count": 91,
   "metadata": {},
   "outputs": [],
   "source": [
    "\n",
    "# nx.draw_networkx(undirected_graph,pos=nx.random_layout(undirected_graph))"
   ]
  },
  {
   "cell_type": "code",
   "execution_count": 92,
   "metadata": {},
   "outputs": [],
   "source": [
    "# rd.choice (list(undirected_graph.edges(1)))\n",
    "# undirected_graph.edges((1,2))\n"
   ]
  },
  {
   "cell_type": "code",
   "execution_count": 93,
   "metadata": {},
   "outputs": [],
   "source": [
    "graphEdge = undirected_graph.edges()\n",
    "graphNode = undirected_graph.nodes()\n"
   ]
  },
  {
   "cell_type": "code",
   "execution_count": 94,
   "metadata": {},
   "outputs": [
    {
     "name": "stdout",
     "output_type": "stream",
     "text": [
      "34 78\n"
     ]
    }
   ],
   "source": [
    "number_of_edges = len(graphEdge)\n",
    "number_of_nodes = len(graphNode)\n",
    "print(number_of_nodes, number_of_edges)"
   ]
  },
  {
   "cell_type": "code",
   "execution_count": 95,
   "metadata": {},
   "outputs": [],
   "source": [
    "initialGene= np.full(number_of_edges, -1)"
   ]
  },
  {
   "cell_type": "code",
   "execution_count": 96,
   "metadata": {},
   "outputs": [],
   "source": [
    "locus = [i for i in range(1,number_of_edges+1)]"
   ]
  },
  {
   "cell_type": "code",
   "execution_count": 97,
   "metadata": {},
   "outputs": [
    {
     "data": {
      "text/plain": [
       "78"
      ]
     },
     "execution_count": 97,
     "metadata": {},
     "output_type": "execute_result"
    }
   ],
   "source": [
    "len(initialGene)"
   ]
  },
  {
   "cell_type": "code",
   "execution_count": 98,
   "metadata": {},
   "outputs": [],
   "source": [
    "labledEdge = {t: i+1 for i, t in enumerate(graphEdge)}\n",
    "# labledEdge"
   ]
  },
  {
   "cell_type": "code",
   "execution_count": 99,
   "metadata": {},
   "outputs": [],
   "source": [
    "def getEdgeLabel(labledEdge,edge):\n",
    "    try:\n",
    "      return labledEdge[edge]\n",
    "    except:\n",
    "      try:\n",
    "        return labledEdge[(edge[1],edge[0])]\n",
    "      except:\n",
    "        print('NO KEY FOUND')\n",
    "    "
   ]
  },
  {
   "cell_type": "code",
   "execution_count": 100,
   "metadata": {},
   "outputs": [
    {
     "data": {
      "text/plain": [
       "(2, 14)"
      ]
     },
     "execution_count": 100,
     "metadata": {},
     "output_type": "execute_result"
    }
   ],
   "source": [
    "def getEdgeValue(labledEdge,value):\n",
    "   return next((k for k, v in labledEdge.items() if v == value), None)\n",
    "\n",
    "getEdgeValue(labledEdge,5)"
   ]
  },
  {
   "cell_type": "code",
   "execution_count": 101,
   "metadata": {},
   "outputs": [],
   "source": [
    "#make initial communities\n",
    "\n",
    "gene = []\n",
    "for  edge,l in labledEdge.items():\n",
    "    connectedEdges = list(undirected_graph.edges(edge))\n",
    "    geneValue = getEdgeLabel(labledEdge,rd.choice(connectedEdges))\n",
    "\n",
    "\n",
    "    if(geneValue != None):\n",
    "        gene.append(geneValue)\n",
    "\n",
    "# print(locus)\n",
    "# print(gene)\n"
   ]
  },
  {
   "cell_type": "code",
   "execution_count": 102,
   "metadata": {},
   "outputs": [],
   "source": [
    "def drawLayout(labledEdge):\n",
    "    # layout = nx.random_layout(undirected_graph)\n",
    "    layout = nx.circular_layout(undirected_graph)\n",
    "    plt.figure(3,figsize=(12,12)) \n",
    "    nx.draw_networkx(undirected_graph,pos=layout,node_size=500)\n",
    "    nx.draw_networkx_edge_labels(undirected_graph,pos=layout,edge_labels=labledEdge)\n",
    "# drawLayout(labledEdge)"
   ]
  },
  {
   "cell_type": "code",
   "execution_count": 103,
   "metadata": {},
   "outputs": [],
   "source": [
    "# nx.draw_networkx_edge_labels(undirected_graph,pos=nx.random_layout(undirected_graph),edge_labels=labledEdge)"
   ]
  },
  {
   "cell_type": "code",
   "execution_count": 104,
   "metadata": {},
   "outputs": [
    {
     "data": {
      "text/plain": [
       "0.038461538461538464"
      ]
     },
     "execution_count": 104,
     "metadata": {},
     "output_type": "execute_result"
    }
   ],
   "source": [
    "#finished but not tested with real gene\n",
    "def calculateFitness(communities: list,undirected_graph):\n",
    "    D = 0\n",
    "    E = undirected_graph.number_of_edges()\n",
    "    for i in communities:\n",
    "        community = undirected_graph.subgraph(i)\n",
    "        mc = community.number_of_edges()\n",
    "        nc = community.number_of_nodes()\n",
    "        if nc>=3:\n",
    "            D += mc * ((mc - (nc-1)) / (((nc-2)*(nc-1))))\n",
    "            # print(D)\n",
    "\n",
    "    return 2*D/E\n",
    "\n",
    "# calculateFitness([[1, 5], [2, 3, 4], [6, 8, 9], [7]],undirected_graph)"
   ]
  },
  {
   "cell_type": "code",
   "execution_count": 105,
   "metadata": {},
   "outputs": [
    {
     "name": "stdout",
     "output_type": "stream",
     "text": [
      "3\n",
      "5\n",
      "5\n"
     ]
    }
   ],
   "source": [
    "import random\n",
    "from collections import Counter\n",
    "\n",
    "def most_frequent(lst):\n",
    "    # Count the number of occurrences of each element in the list\n",
    "    count = Counter(lst)\n",
    "\n",
    "    # Get a list of tuples with the elements and their frequencies, sorted by frequency in descending order\n",
    "    most_common = count.most_common()\n",
    "\n",
    "    # Select the most frequent item and, if there are multiple items with the same frequency, choose one at random\n",
    "    selected = None\n",
    "    frequency = 0\n",
    "    for element, freq in most_common:\n",
    "        if freq > frequency:\n",
    "            selected = random.sample([element], 1)[0]\n",
    "            frequency = freq\n",
    "        elif freq == frequency:\n",
    "            selected = random.sample([selected, element], 1)[0]\n",
    "\n",
    "    return selected\n",
    "\n",
    "# Test the function\n",
    "# print(most_frequent([1, 2, 3, 3, 3, 4, 4, 5, 5]))  # 3\n",
    "# print(most_frequent([1, 2, 3, 3, 4, 4, 5, 5]))  # 3 or 5\n",
    "# print(most_frequent([1, 2, 3, 4, 5]))  # 1 or 2 or 3 or 4 or 5\n",
    "\n",
    "# def most_common(List):\n",
    "#     return(st.mode(List))\n",
    "   \n",
    "# List = [2, 1, 2, 2, 1, 3]\n",
    "# print(most_common(List))"
   ]
  },
  {
   "cell_type": "code",
   "execution_count": 106,
   "metadata": {},
   "outputs": [
    {
     "data": {
      "text/plain": [
       "True"
      ]
     },
     "execution_count": 106,
     "metadata": {},
     "output_type": "execute_result"
    }
   ],
   "source": [
    "def has_repetitions(lst):\n",
    "    return len(set(lst)) < len(lst)\n",
    "\n",
    "has_repetitions([1,1,2,2])\n",
    "\n"
   ]
  },
  {
   "cell_type": "code",
   "execution_count": 107,
   "metadata": {},
   "outputs": [
    {
     "data": {
      "text/plain": [
       "[[1, 2, 3], [4, 6, 7, 8, 9], [5]]"
      ]
     },
     "execution_count": 107,
     "metadata": {},
     "output_type": "execute_result"
    }
   ],
   "source": [
    "from collections import defaultdict\n",
    "\n",
    "\n",
    "\n",
    "def createCommunities(x:dict):\n",
    "    groups = defaultdict(list)\n",
    "\n",
    "    # Group the keys based on the values\n",
    "    for key, value in x.items():\n",
    "        groups[value].append(key)\n",
    "\n",
    "    # Get the list of lists with the keys\n",
    "    y = list(groups.values())\n",
    "\n",
    "    return y\n",
    "\n",
    "x = {1: 2, 2: 2, 3: 2, 4: 8, 5: 1, 6: 8, 7: 8, 8: 8, 9: 8}\n",
    "createCommunities(x)"
   ]
  },
  {
   "cell_type": "code",
   "execution_count": 108,
   "metadata": {},
   "outputs": [
    {
     "data": {
      "text/plain": [
       "[[1, 3, 4, 8, 9, 10, 12, 13, 14, 22, 29],\n",
       " [2, 18, 20],\n",
       " [5],\n",
       " [6, 7, 11, 17],\n",
       " [15, 19, 23, 24, 27, 30, 31, 33, 34],\n",
       " [16, 21],\n",
       " [25, 26, 28, 32]]"
      ]
     },
     "execution_count": 108,
     "metadata": {},
     "output_type": "execute_result"
    }
   ],
   "source": [
    "#Label Propagation\n",
    "\n",
    "def labelProp(undirected_graph):\n",
    "    \n",
    "    graphNode = undirected_graph.nodes()\n",
    "    asList = sorted(list(graphNode))\n",
    "    randomizedList = asList[:]\n",
    "    rd.shuffle(randomizedList)\n",
    "    # print(randomizedList)\n",
    "    labledNodes = {i+1:t  for i, t in enumerate(asList)}\n",
    "    prevLabledNodes = labledNodes\n",
    "    # print(labledNodes)\n",
    "    stop = False\n",
    "    while not stop:\n",
    "        for v in randomizedList:\n",
    "            # v = rd.choice(asList)\n",
    "            # v = 5\n",
    "            neighbors = [i for i in nx.all_neighbors(undirected_graph,v)]\n",
    "            labledNeighbors = [labledNodes[i] for i in nx.all_neighbors(undirected_graph,v)]\n",
    "            # print(neighbors)\n",
    "            # if(has_repetitions(labledNeighbors)):\n",
    "            #     freq = most_frequent(labledNeighbors)\n",
    "            #     labledNodes[v] = freq\n",
    "            # else:\n",
    "            #     freq = rd.choice(labledNeighbors)\n",
    "            #     labledNodes[v] = freq\n",
    "            # print(labledNodes)\n",
    "            freq = most_frequent(labledNeighbors)\n",
    "            labledNodes[v] = freq\n",
    "            \n",
    "            if(prevLabledNodes == labledNodes):\n",
    "                stop = True\n",
    "    return labledNodes\n",
    "\n",
    "createCommunities(labelProp(undirected_graph))"
   ]
  },
  {
   "cell_type": "code",
   "execution_count": 109,
   "metadata": {},
   "outputs": [],
   "source": [
    "# Local Expansion\n",
    "\n",
    "def localExpansion(undirected_graph):\n",
    "    counter = 0\n",
    "    communities = []\n",
    "    graphNode = undirected_graph.nodes()\n",
    "    asList = list(graphNode)\n",
    "    V = len(asList)\n",
    "    tempList = asList[:]\n",
    "    while counter < V:\n",
    "        community = []\n",
    "        seed = rd.choice(tempList)\n",
    "        community.append(seed)\n",
    "        tempList.remove(seed)\n",
    "        counter+=1\n",
    "        naturalCommNodes = list(nx.all_neighbors(undirected_graph,seed))\n",
    "        for i in naturalCommNodes:\n",
    "            # naturalCommNodes.remove(seed)\n",
    "            if i not in tempList:\n",
    "                continue\n",
    "            community.append(i)\n",
    "            try:\n",
    "                tempList.remove(i)\n",
    "            except ValueError:\n",
    "                print('E')\n",
    "            counter+=1\n",
    "        communities.append(community)\n",
    "    return communities\n",
    "        \n",
    "# localExpansion(undirected_graph)"
   ]
  },
  {
   "cell_type": "code",
   "execution_count": 110,
   "metadata": {},
   "outputs": [
    {
     "data": {
      "text/plain": [
       "[(34, 0.37337121301323495),\n",
       " (1, 0.3554834941851943),\n",
       " (3, 0.3171893899684447),\n",
       " (33, 0.30865104773369595),\n",
       " (2, 0.2659538704545024),\n",
       " (9, 0.22740509147166044),\n",
       " (14, 0.22646969838808145),\n",
       " (4, 0.21117407832057056),\n",
       " (32, 0.191036269797917),\n",
       " (31, 0.17476027834493085),\n",
       " (8, 0.17095511498035432)]"
      ]
     },
     "execution_count": 110,
     "metadata": {},
     "output_type": "execute_result"
    }
   ],
   "source": [
    "centrality = nx.eigenvector_centrality(undirected_graph)\n",
    "sorted_centrality = sorted(centrality.items(), key=lambda x: x[1], reverse=True)\n",
    "sorted_centrality[0:11]"
   ]
  },
  {
   "cell_type": "code",
   "execution_count": 111,
   "metadata": {},
   "outputs": [],
   "source": [
    "# Local Expansion\n",
    "\n",
    "def localExpansionWithEigen(undirected_graph):\n",
    "    counter = 0\n",
    "    communities = []\n",
    "    graphNode = undirected_graph.nodes()\n",
    "    asList = list(graphNode)\n",
    "    V = len(asList)\n",
    "    tempList = asList[:]\n",
    "\n",
    "    centrality = nx.eigenvector_centrality(undirected_graph)\n",
    "    sorted_centrality = sorted(centrality.items(), key=lambda x: x[1], reverse=True)\n",
    "\n",
    "    \n",
    "    while counter < V :\n",
    "        community = []\n",
    "        seed = sorted_centrality[0][0]\n",
    "        sorted_centrality.pop(0)\n",
    "        if seed not in tempList:\n",
    "            continue\n",
    "        community.append(seed)\n",
    "        tempList.remove(seed)\n",
    "        counter+=1\n",
    "        naturalCommNodes = list(nx.all_neighbors(undirected_graph,seed))\n",
    "        for i in naturalCommNodes:\n",
    "            # naturalCommNodes.remove(seed)\n",
    "            if i not in tempList:\n",
    "                continue\n",
    "            community.append(i)\n",
    "            tempList.remove(i)\n",
    "            counter+=1\n",
    "        communities.append(community)\n",
    "    return communities\n",
    "        \n",
    "# localExpansionWithEigen(undirected_graph)"
   ]
  },
  {
   "cell_type": "code",
   "execution_count": 112,
   "metadata": {},
   "outputs": [],
   "source": [
    "# Local Expansion\n",
    "\n",
    "def localExpansionWdegree(undirected_graph):\n",
    "    counter = 0\n",
    "    communities = []\n",
    "    graphNode = undirected_graph.nodes()\n",
    "    asList = list(graphNode)\n",
    "    V = len(asList)\n",
    "    tempList = asList[:]\n",
    "    while counter < V:\n",
    "        community = []\n",
    "        seed = rd.choice(tempList)\n",
    "        # print(seed)\n",
    "        community.append(seed)\n",
    "        tempList.remove(seed)\n",
    "        counter+=1\n",
    "        naturalCommNodes = list(nx.all_neighbors(undirected_graph,seed))\n",
    "        for i in naturalCommNodes:\n",
    "            # naturalCommNodes.remove(seed)\n",
    "            if i not in tempList:\n",
    "                continue\n",
    "            community.append(i)\n",
    "            try:\n",
    "                tempList.remove(i)\n",
    "            except ValueError:\n",
    "                # print('E')\n",
    "            counter+=1\n",
    "        communities.append(community)\n",
    "    return communities\n",
    "        \n",
    "# localExpansionWdegree(undirected_graph)"
   ]
  },
  {
   "cell_type": "code",
   "execution_count": 113,
   "metadata": {},
   "outputs": [],
   "source": [
    "\n",
    "for i in range(7):\n",
    "    le = localExpansion(undirected_graph)\n",
    "    fit = calculateFitness(le,undirected_graph)\n",
    "    # print(f'fitness : {fit} | CommunityList : {le}')\n",
    "    \n",
    "    "
   ]
  },
  {
   "cell_type": "code",
   "execution_count": 114,
   "metadata": {},
   "outputs": [],
   "source": [
    "for i in range(7):\n",
    "    lp = labelProp(undirected_graph)\n",
    "    cmnti = createCommunities(lp)\n",
    "    # print(cmnti)\n",
    "    fit = calculateFitness(cmnti,undirected_graph)\n",
    "    # print(f'fitness : {fit} | CommunityList : {cmnti}')\n",
    "\n"
   ]
  },
  {
   "cell_type": "code",
   "execution_count": 115,
   "metadata": {},
   "outputs": [],
   "source": [
    "# for i in range(7):\n",
    "#     le = localExpansionWithEigen(undirected_graph)\n",
    "#     fit = calculateFitness(le,undirected_graph)\n",
    "#     print(f'fitness : {fit} | CommunityList : {le}')"
   ]
  },
  {
   "cell_type": "code",
   "execution_count": 116,
   "metadata": {},
   "outputs": [],
   "source": [
    "# undirected_graph.edges([8,9])"
   ]
  },
  {
   "cell_type": "code",
   "execution_count": 117,
   "metadata": {},
   "outputs": [
    {
     "data": {
      "text/plain": [
       "[-1, -1, -1, -1, 'a']"
      ]
     },
     "execution_count": 117,
     "metadata": {},
     "output_type": "execute_result"
    }
   ],
   "source": [
    "g = [-1]*5\n",
    "\n",
    "g[4] = 'a'\n",
    "g"
   ]
  },
  {
   "cell_type": "code",
   "execution_count": 118,
   "metadata": {},
   "outputs": [],
   "source": [
    "def has_common_element(list1, list2):\n",
    "    for element in list1:\n",
    "        if element in list2:\n",
    "            return True\n",
    "    return False"
   ]
  },
  {
   "cell_type": "code",
   "execution_count": 119,
   "metadata": {},
   "outputs": [],
   "source": [
    "# # this takes a list of community and returns a list of locus and gene\n",
    "# def communityToGene(communities:list,number_of_nodes:int,number_of_edges:int,labledEdge:dict):\n",
    "#     locus = [i for i in range(1,number_of_edges+1)]\n",
    "#     gene = [-1] * number_of_edges\n",
    "#     # overlappingEdges = []\n",
    "#     for community in communities:\n",
    "#         edgesAsTuples = list(undirected_graph.edges(community))\n",
    "#         edges=[getEdgeLabel(labledEdge,i) for i in edgesAsTuples]\n",
    "#         # print(edgesAsTuples)\n",
    "#         for n,i in enumerate(edgesAsTuples):\n",
    "#             edgeLabel = getEdgeLabel(labledEdge,i)\n",
    "#             ngEdges = list(undirected_graph.edges(i))\n",
    "#             ngEdges.remove(i)\n",
    "#             filtered_ngEdges = [t for t in ngEdges if t[0] in community and t[1] in community]\n",
    "#             ngEdgesLabeled=[getEdgeLabel(labledEdge,t) for t in filtered_ngEdges]\n",
    "#             # print(ngEdgesLabeled)\n",
    "#             for element in ngEdgesLabeled:\n",
    "#                 if element in edges:\n",
    "#                     if(gene[edgeLabel-1]!=-1 or gene[element-1]== edgeLabel):\n",
    "#                         continue\n",
    "#                     gene[edgeLabel-1] = element\n",
    "#                     edges.remove(element)\n",
    "#                     break\n",
    "#     # for n,i in enumerate(gene):\n",
    "#     #     if i == -1:\n",
    "#     #         l= locus[n]\n",
    "#     #         edge = getEdgeValue(labledEdge,l)\n",
    "#     #         for k in communities:\n",
    "#     #             if edge[0] in k or edge[1] in k:\n",
    "                    \n",
    "\n",
    "            \n",
    "        \n",
    "#     return locus,gene\n",
    "\n",
    "\n",
    "# # locus,gene = [],[]\n",
    "# # locus,gene = communityToGene([[3, 1, 2, 4], [8, 6, 7, 9], [5]],number_of_nodes,number_of_edges,labledEdge)\n",
    "# locus,gene = communityToGene([[1,2,3,4,5], [5,6,7,8,9]],number_of_nodes,number_of_edges,labledEdge)\n",
    "# print((locus))\n",
    "# print((gene))\n",
    "\n",
    "# # locus,gene = communityToGene(localExpansionWithEigen(undirected_graph),number_of_nodes,number_of_edges,labledEdge)\n",
    "# # print((gene)) \n",
    "# # decode_communities(locus,gene)\n",
    "\n"
   ]
  },
  {
   "cell_type": "code",
   "execution_count": 120,
   "metadata": {},
   "outputs": [],
   "source": [
    "def removeEdge(adj_list,i):\n",
    "    for edge in adj_list:\n",
    "        try:\n",
    "            adj_list[edge].remove(i)\n",
    "        except:\n",
    "            pass\n",
    "    return adj_list\n"
   ]
  },
  {
   "cell_type": "code",
   "execution_count": 121,
   "metadata": {},
   "outputs": [
    {
     "name": "stdout",
     "output_type": "stream",
     "text": [
      "[1, 2, 3, 4, 5, 6, 7, 8, 9, 10, 11, 12, 13, 14, 15, 16, 17, 18, 19, 20, 21, 22, 23, 24, 25, 26, 27, 28, 29, 30, 31, 32, 33, 34, 35, 36, 37, 38, 39, 40, 41, 42, 43, 44, 45, 46, 47, 48, 49, 50, 51, 52, 53, 54, 55, 56, 57, 58, 59, 60, 61, 62, 63, 64, 65, 66, 67, 68, 69, 70, 71, 72, 73, 74, 75, 76, 77, 78]\n",
      "[2, 25, 11, 4, 5, 6, 7, 8, 9, 1, 3, 10, 13, 14, 15, 16, 17, 18, 19, 20, 21, 22, 23, 24, 25, 26, 27, 28, 29, 30, 31, 32, 33, 34, 35, 36, 37, 38, 39, 40, 41, 42, 43, 44, 45, 46, 47, 48, 49, 50, 51, 52, 53, 54, 55, 56, 57, 58, 59, 60, 61, 62, 63, 64, 65, 66, 67, 68, 69, 70, 71, 72, 73, 74, 75, 76, 77, 78]\n"
     ]
    }
   ],
   "source": [
    "\n",
    "def communityToGene(communities:list,number_of_nodes:int,number_of_edges:int,labledEdge:dict):\n",
    "    locus = [i for i in range(1,number_of_edges+1)]\n",
    "    gene = [-1] * number_of_edges\n",
    "    # overlappingEdges = []\n",
    "    notVisited =set()\n",
    "    for community in communities:\n",
    "        subGraph = undirected_graph.subgraph(community)\n",
    "        subGraphEdges = list(subGraph.edges())\n",
    "        # print(subGraphEdges)\n",
    "        adj_list = defaultdict(set)\n",
    "        adL = defaultdict(set)\n",
    "        for i in subGraphEdges:\n",
    "            nbr = list(subGraph.edges(i))\n",
    "            nbr.remove(i)\n",
    "            for j in nbr:\n",
    "                adj_list[getEdgeLabel(labledEdge,i)].add(getEdgeLabel(labledEdge,j))\n",
    "                adL[getEdgeLabel(labledEdge,i)].add(getEdgeLabel(labledEdge,j))    \n",
    "        old_i = -1\n",
    "\n",
    "        for edge in adj_list:\n",
    "            for i in adj_list[edge]:\n",
    "                if old_i != edge and gene[edge-1] == -1:\n",
    "                    # print(i)\n",
    "                    adj_list = removeEdge(adj_list, i)\n",
    "                    gene[edge-1] = i\n",
    "                    old_i = i\n",
    "                    break\n",
    "                else:\n",
    "                    notVisited.add(edge)\n",
    "            else:\n",
    "                pass\n",
    "        # print(notVisited)\n",
    "        # print(adL)\n",
    "        while notVisited:\n",
    "            value = notVisited.pop()\n",
    "            try:\n",
    "                for i,j in zip(adL[value],adj_list[value]):\n",
    "                    # print(locus[gene.index(value)])\n",
    "                    if j!=None and locus[gene.index(value)] != j:\n",
    "                        gene[value-1]=j\n",
    "                        break\n",
    "                    elif locus[gene.index(value)] != i:\n",
    "                        gene[value-1]=i\n",
    "                        break\n",
    "            except ValueError:\n",
    "                print(\"Ignoring ValueError in communityToGene() for \",value)\n",
    "        for i in range(len(gene)):\n",
    "            if gene[i]==-1:\n",
    "                gene[i]=locus[i]\n",
    "\n",
    "    return locus,gene\n",
    "\n",
    "# [[1, 2, 3, 4, 5], [4, 6, 7, 8, 9], [8, 9, 6]] [[4, 2, 3, 5, 6, 7], [8, 9], [1]]\n",
    "# locus,gene = communityToGene([[1, 2, 3, 4, 5], [4, 6, 7, 8, 9], [8, 9, 6]],number_of_nodes,number_of_edges,labledEdge)\n",
    "# # print((locus))\n",
    "# # print((gene))\n",
    "\n",
    "\n",
    "\n"
   ]
  },
  {
   "cell_type": "code",
   "execution_count": null,
   "metadata": {},
   "outputs": [],
   "source": []
  },
  {
   "cell_type": "code",
   "execution_count": 122,
   "metadata": {},
   "outputs": [],
   "source": [
    "def locusNgeneToTuples(locus:list,gene:list):\n",
    "    pass"
   ]
  },
  {
   "cell_type": "code",
   "execution_count": 123,
   "metadata": {},
   "outputs": [],
   "source": [
    "def crossOver(parent1:list, parent2:list, cp:float):\n",
    "    offspring = [-1]*len(parent1) \n",
    "    for g in range(len(offspring)):\n",
    "        if rd.uniform(0, 1) < cp:\n",
    "            offspring[g] = parent1[g]\n",
    "        else:\n",
    "            offspring[g] = parent2[g]\n",
    "    return offspring\n",
    "\n",
    "# testParent1 = [2, 3, 1, 5, 6, 4, 8, 9, 7, 8, 10, 11, 9, 13]\n",
    "# testParent2 = [5, 1, 1, 6, 2, 7, 4, 9, 10, 8, 12, 14, 11, 11]\n",
    "# crossOver(testParent1,testParent2, 0.5)\n",
    "    "
   ]
  },
  {
   "cell_type": "code",
   "execution_count": 124,
   "metadata": {},
   "outputs": [],
   "source": [
    "# drawLayout(labledEdge)"
   ]
  },
  {
   "cell_type": "code",
   "execution_count": 125,
   "metadata": {},
   "outputs": [
    {
     "name": "stdout",
     "output_type": "stream",
     "text": [
      "Before Mutation ⬇\n",
      "[1, 2, 3, 4, 5, 6, 7, 8, 9, 10, 11, 12, 13, 14]\n",
      "[2, 3, 1, 4, 1, 4, 7, 8, 9, 11, 12, 11, 14, 11]\n",
      "Ignoring ValueError In mutate function for  4\n",
      "Ignoring ValueError In mutate function for  8\n",
      "Ignoring ValueError In mutate function for  9\n",
      "[1, 2, 3, 4, 5, 6, 7, 8, 9, 10, 11, 12, 13, 14]\n",
      "[2, 7, 25, 1, 29, 4, 7, 4, 7, 30, 24, 20, 19, 16]\n",
      "After Mutation ⬆\n"
     ]
    }
   ],
   "source": [
    "def mutate(gene:list,mp:float,labledEdge:dict,undirected_graph)->list:\n",
    "    individual = gene[:] \n",
    "    # print(individual)\n",
    "    for g in range(len(individual)):\n",
    "        if rd.uniform(0, 1) < mp:\n",
    "            edge = getEdgeValue(labledEdge,g+1)\n",
    "            # print(edge)\n",
    "            neigEdges = list(undirected_graph.edges(edge))\n",
    "            neigEdgesLabeled = [getEdgeLabel(labledEdge,i) for i in neigEdges]\n",
    "            # oldGene = getEdgeValue( labledEdge ,individual[g])\n",
    "            # print(\"In Mutate\",individual[g])\n",
    "            try:\n",
    "                neigEdgesLabeled.remove(individual[g])\n",
    "                neigEdgesLabeled.remove(g+1)\n",
    "            except ValueError:\n",
    "                print('Ignoring ValueError In mutate function for ',individual[g])\n",
    "            if((neigEdgesLabeled)==0):\n",
    "                continue\n",
    "            mutatedEdge = rd.choice(neigEdgesLabeled)\n",
    "            # print(randomEdge)\n",
    "            # mutatedEdge = getEdgeLabel(labledEdge,randomEdge)\n",
    "            individual[g]= mutatedEdge\n",
    "\n",
    "    return individual\n",
    "\n",
    "\n",
    "print(\"Before Mutation ⬇\")\n",
    "print([1, 2, 3, 4, 5, 6, 7, 8, 9, 10, 11, 12, 13, 14])\n",
    "print([2, 3, 1, 4, 1, 4, 7, 8, 9, 11, 12, 11, 14, 11])\n",
    "mutated = mutate([2, 3, 1, 4, 1, 4, 7, 8, 9, 11, 12, 11, 14, 11],0.5,labledEdge,undirected_graph)\n",
    "print([1, 2, 3, 4, 5, 6, 7, 8, 9, 10, 11, 12, 13, 14])\n",
    "print(mutated)\n",
    "print(\"After Mutation ⬆\")"
   ]
  },
  {
   "cell_type": "code",
   "execution_count": 126,
   "metadata": {},
   "outputs": [],
   "source": [
    "# def localSearch(individual:list,labledEdge:dict,undirected_graph)->list:\n",
    "#     locus, individualEdges = communityToGene(individual)\n",
    "#     for cluster in individual:\n",
    "#         for node in cluster:\n",
    "#             edge = getEdgeValue(labledEdge,g+1)\n",
    "#             # print(edge)\n",
    "#             neigEdges = list(undirected_graph.edges(edge))\n",
    "#             neigEdgesLabeled = [getEdgeLabel(labledEdge,i) for i in neigEdges]\n",
    "#             oldEdge = getEdgeValue( labledEdge ,individual[g])\n",
    "#             # neigEdgesLabeled.remove(individual[g])\n",
    "#             # neigEdgesLabeled.remove(g+1)\n",
    "#             # if((neigEdgesLabeled)==0): continue    \n",
    "#             # mutatedEdge = rd.choice(neigEdgesLabeled)\n",
    "#             # # print(randomEdge)\n",
    "#             # # mutatedEdge = getEdgeLabel(labledEdge,randomEdge)\n",
    "#             # individual[g]= mutatedEdge\n",
    "#             try:\n",
    "#                 neigEdges.remove(oldEdge)\n",
    "#             except KeyError:\n",
    "#                 neigEdges.remove((oldEdge[1],oldEdge[0]))\n",
    "#             for i in neigEdges:\n",
    "#                 pass\n",
    "                \n",
    "                \n"
   ]
  },
  {
   "cell_type": "code",
   "execution_count": 127,
   "metadata": {},
   "outputs": [],
   "source": [
    "# def decode_communities(locus, gene):\n",
    "#     # Initialize an empty list to store the communities of locuss\n",
    "#     communities = []\n",
    "    \n",
    "#     # Initialize a dictionary to store the mapping from locuss to their communities\n",
    "#     locus_to_community = {}\n",
    "#     loc = []\n",
    "#     gen = []\n",
    "#     s = -1\n",
    "#     # Iterate through each locus and its corresponding gene value\n",
    "#     for l,g  in zip(locus, gene):\n",
    "#         if len(loc)==0:\n",
    "#             loc.append(l)\n",
    "#             gene.append(g)\n",
    "#             continue\n",
    "\n",
    "#         # If the locus is not already assigned to a community\n",
    "#         if l not in gene:\n",
    "#             # If the gene value for this locus is also not in the locus_to_community dictionary,\n",
    "#             # this means we have found a new community of locuss\n",
    "#             if g not in loc:\n",
    "#                 # Create a new community and add the current locus to it\n",
    "#                 new_community = [locus,community]\n",
    "#                 locus_to_community[locus] = new_community\n",
    "#                 communities.append(new_community)\n",
    "#                 # print(locus_to_community)\n",
    "#             # Otherwise, the gene value corresponds to another locus that is already in a community,\n",
    "#             # so we add the current locus to that community\n",
    "#             else:\n",
    "#                 loc.append(l)\n",
    "#                 gene.append(g)\n",
    "#         # If the locus is already assigned to a community, we check if it is in the same community\n",
    "#         # as the locus corresponding to its gene value. If it is not, we merge the two communities.\n",
    "#         else:\n",
    "#             # If the gene value corresponds to an locus that is not in the same community,\n",
    "#             # we merge the two communities by adding the locuss in the community of the gene value\n",
    "#             # to the community of the current locus\n",
    "#             if (locus in locus_to_community) and (community in locus_to_community) and (locus_to_community[locus] != locus_to_community[community]):\n",
    "#                 community_to_merge = locus_to_community[community]\n",
    "#                 current_community = locus_to_community[locus]\n",
    "#                 current_community.extend(community_to_merge)\n",
    "#                 for locus_in_community in community_to_merge:\n",
    "#                     locus_to_community[locus_in_community] = current_community\n",
    "#                 # Remove the merged community from the list of communities\n",
    "#                 communities.remove(community_to_merge)\n",
    "    \n",
    "#     # Return the list of communities of locuss\n",
    "#     # print(locus_to_community)\n",
    "#     return communities\n",
    "\n",
    "# locus = [1, 2, 3, 4, 5, 6, 7, 8, 9, 10, 11, 12, 13, 14]\n",
    "# gene =  [2, 3, 6, 1, 4, 7, 5, 11, 10, 12, 12, 9, 14, 11]\n",
    "# communities = decode_communities(locus, gene)\n",
    "# print(communities)\n"
   ]
  },
  {
   "cell_type": "code",
   "execution_count": 128,
   "metadata": {},
   "outputs": [],
   "source": [
    "# from google_play_scraper import app\n",
    "\n",
    "# result = app(\n",
    "#     'com.whatsapp'\n",
    "# )\n",
    "# result['genreId']"
   ]
  },
  {
   "cell_type": "code",
   "execution_count": 129,
   "metadata": {},
   "outputs": [],
   "source": [
    "def generateAgents(undirected_graph):\n",
    "        # Generate a random float between 0 and 1\n",
    "\n",
    "    agents = []\n",
    "    fitness = []\n",
    "    # Call the corresponding function\n",
    "    indi = []\n",
    "    fit = -1\n",
    "    for i in range(7):\n",
    "        x = rd.randint(1, 3)\n",
    "\n",
    "\n",
    "        if x ==1:\n",
    "            indi = localExpansion(undirected_graph)\n",
    "            fit = calculateFitness(indi,undirected_graph)\n",
    "            # print(f'fitness : {fit} | CommunityList : {indi}')\n",
    "        elif x ==2:\n",
    "            lp = labelProp(undirected_graph)\n",
    "            indi = createCommunities(lp)\n",
    "            # print(cmnti)\n",
    "            fit = calculateFitness(indi,undirected_graph)\n",
    "            # print(f'fitness : {fit} | CommunityList : {indi}')\n",
    "        else:\n",
    "            indi = localExpansionWithEigen(undirected_graph)\n",
    "            fit = calculateFitness(indi,undirected_graph)\n",
    "            # print(f'fitness : {fit} | CommunityList : {indi}')\n",
    "        agents.append(indi)\n",
    "        fitness.append(fit)\n",
    "\n",
    "    pairs = zip(fitness, agents)\n",
    "    # Sort the pairs using the values in the first array as the key\n",
    "    sorted_pairs = sorted(pairs, key=lambda x: x[0],reverse=True)\n",
    "\n",
    "    # Unpack the sorted pairs back into two separate arrays\n",
    "    fitness, agents = zip(*sorted_pairs)    \n",
    "    return list(fitness), list(agents)\n",
    "    # return dict(sorted_pairs)\n",
    "\n",
    "# generateAgents(undirected_graph)"
   ]
  },
  {
   "cell_type": "code",
   "execution_count": 130,
   "metadata": {},
   "outputs": [],
   "source": [
    "class Agent:\n",
    "    pocket = None\n",
    "    pocketFitness = None\n",
    "    individuals = None\n",
    "    individualsFitness = None\n",
    "    std = None\n",
    "    \n",
    "    def print_values(self):\n",
    "        print(f'pocket = {self.pocket}')\n",
    "        print(f'pocketFitness = {self.pocketFitness}')\n",
    "        print(f'individuals = {self.individuals}')\n",
    "        print(f'individualsFitness = {self.individualsFitness}')\n",
    "        print(f'std = {self.std}')"
   ]
  },
  {
   "cell_type": "code",
   "execution_count": 131,
   "metadata": {},
   "outputs": [],
   "source": [
    "def calculate_std(agent):\n",
    "    if agent.std == None:\n",
    "        agent.std = st.pstdev(agent.individualsFitness)\n",
    "    return agent.std"
   ]
  },
  {
   "cell_type": "code",
   "execution_count": 132,
   "metadata": {},
   "outputs": [],
   "source": [
    "def lostDiversity(agent):\n",
    "    current_std = st.pstdev(agent.individualsFitness)\n",
    "    if(current_std<= agent.std/2):\n",
    "        return True\n",
    "    else:\n",
    "        return False"
   ]
  },
  {
   "cell_type": "code",
   "execution_count": 133,
   "metadata": {},
   "outputs": [],
   "source": [
    "\n",
    "\n",
    "def generateTreeBase():\n",
    "    treeBase =  []\n",
    "    for n in range(3):\n",
    "        agentPool = []\n",
    "        for i in range(3):\n",
    "            agent = Agent()\n",
    "            agent.individualsFitness,agent.individuals = generateAgents(undirected_graph)\n",
    "            agent.pocket = agent.individuals[0]\n",
    "            agent.pocketFitness = agent.individualsFitness[0]\n",
    "            calculate_std(agent)\n",
    "            agentPool.append(agent)\n",
    "        treeBase.append(agentPool)\n",
    "    return treeBase\n",
    "treeBase = generateTreeBase()\n"
   ]
  },
  {
   "cell_type": "code",
   "execution_count": 134,
   "metadata": {},
   "outputs": [],
   "source": [
    "def sort_and_store(agent):\n",
    "    paired_list = list(zip(agent.individuals, agent.individualsFitness))\n",
    "    sorted_paired_list = sorted(paired_list, key=lambda x: x[1], reverse=True)\n",
    "    agent.individuals, agent.individualsFitness = zip(*sorted_paired_list)\n",
    "\n",
    "    agent.pocketFitness = agent.individualsFitness[0]\n",
    "    agent.pocket = agent.individuals[0]"
   ]
  },
  {
   "cell_type": "code",
   "execution_count": 135,
   "metadata": {},
   "outputs": [],
   "source": [
    "def generateTreeMiddle(treeBase):\n",
    "    treeMiddle = []\n",
    "    for n in treeBase:\n",
    "        agent = Agent()\n",
    "        agent.individuals=[]\n",
    "        agent.individualsFitness = []\n",
    "        for i in n:\n",
    "            agent.individuals.append(i.pocket)\n",
    "            agent.individualsFitness.append(i.pocketFitness)\n",
    "            added = []\n",
    "        while len(added)<4:\n",
    "            supporter = rd.choice(n)\n",
    "            cell =  supporter.individuals.index(rd.choice(supporter.individuals))\n",
    "            if cell not in added:\n",
    "                added.append(cell)\n",
    "                agent.individuals.append(supporter.individuals[cell])\n",
    "                agent.individualsFitness.append(supporter.individualsFitness[cell])\n",
    "        sort_and_store(agent)\n",
    "        calculate_std(agent)\n",
    "        treeMiddle.append(agent)\n",
    "    return treeMiddle\n",
    "\n",
    "treeMiddle = generateTreeMiddle(treeBase)\n",
    "            "
   ]
  },
  {
   "cell_type": "code",
   "execution_count": 136,
   "metadata": {},
   "outputs": [],
   "source": [
    "# x = [[6,7],[1,2,3]]\n",
    "\n",
    "# x[0][]\n"
   ]
  },
  {
   "cell_type": "code",
   "execution_count": 137,
   "metadata": {},
   "outputs": [],
   "source": [
    "def generateTreeTop(treeMiddle):\n",
    "    agent = Agent()\n",
    "    agent.individuals=[]\n",
    "    agent.individualsFitness = []\n",
    "    for i in treeMiddle:\n",
    "        agent.individuals.append(i.pocket)\n",
    "        agent.individualsFitness.append(i.pocketFitness)\n",
    "        added = []\n",
    "    while len(added)<4:\n",
    "        supporter = rd.choice(treeMiddle)\n",
    "        cell =  supporter.individuals.index(rd.choice(supporter.individuals))\n",
    "        if cell not in added:\n",
    "            added.append(cell)\n",
    "            agent.individuals.append(supporter.individuals[cell])\n",
    "            agent.individualsFitness.append(supporter.individualsFitness[cell])\n",
    "    sort_and_store(agent)\n",
    "    treeMiddle.append(agent)\n",
    "    return agent\n",
    "\n",
    "treeTop = generateTreeTop(treeMiddle)"
   ]
  },
  {
   "cell_type": "code",
   "execution_count": 138,
   "metadata": {},
   "outputs": [
    {
     "name": "stdout",
     "output_type": "stream",
     "text": [
      "pocket = [[30, 24, 27, 33, 34], [26, 25, 32], [17, 6, 7], [10, 3], [16], [28], [4, 1, 2, 8, 13, 14], [12], [29], [9, 31], [5, 11], [19], [15], [23], [22], [21], [18], [20]]\n",
      "pocketFitness = 0.22991452991452987\n",
      "individuals = ([[30, 24, 27, 33, 34], [26, 25, 32], [17, 6, 7], [10, 3], [16], [28], [4, 1, 2, 8, 13, 14], [12], [29], [9, 31], [5, 11], [19], [15], [23], [22], [21], [18], [20]], [[30, 24, 27, 33, 34], [26, 25, 32], [17, 6, 7], [10, 3], [16], [28], [4, 1, 2, 8, 13, 14], [12], [29], [9, 31], [5, 11], [19], [15], [23], [22], [21], [18], [20]], [[19, 33, 34], [21], [3, 1, 2, 4, 8, 9, 10, 14, 28, 29], [6, 7, 11, 17], [22], [31], [5], [25, 26, 32], [27, 30], [15], [16], [24], [12], [13], [18], [23], [20]], [[33, 3, 9, 15, 16, 19, 21, 23, 24, 30, 31, 32, 34], [7, 1, 5, 6, 17], [14, 2, 4], [11], [20], [10], [8], [29], [12], [27], [22], [28, 25], [13], [26], [18]], [[34, 9, 10, 14, 15, 16, 19, 20, 21, 23, 24, 27, 28, 29, 30, 31, 32, 33], [1, 2, 3, 4, 5, 6, 7, 8, 11, 12, 13, 18, 22], [26, 25], [17]], [[1, 3, 8, 10, 14, 18, 22, 29], [2], [4, 13], [5, 11], [6, 7], [9, 15, 16, 19, 20, 21, 23, 24, 27, 30, 31, 33, 34], [12], [17], [25, 26, 32], [28]], [[1, 3, 4, 8, 9, 10, 14, 15, 16, 19, 20, 21, 23, 24, 25, 27, 28, 30, 33, 34], [2, 18, 22, 31], [5, 11, 12, 13], [6, 7, 17], [26], [29], [32]])\n",
      "individualsFitness = (0.22991452991452987, 0.22991452991452987, 0.1616809116809117, 0.14646464646464646, 0.10838018190959367, 0.10539460539460539, 0.09754086069875544)\n",
      "std = 0.052471568400437846\n",
      "---------------\n",
      "pocket = [[4, 1, 2, 3, 8, 13, 14], [17, 6, 7], [27, 30, 34], [28, 24, 25], [20], [11, 5], [26, 32], [21, 33], [9, 31], [18], [19], [12], [29], [22], [23], [10], [15], [16]]\n",
      "pocketFitness = 0.21367521367521364\n",
      "individuals = ([[4, 1, 2, 3, 8, 13, 14], [17, 6, 7], [27, 30, 34], [28, 24, 25], [20], [11, 5], [26, 32], [21, 33], [9, 31], [18], [19], [12], [29], [22], [23], [10], [15], [16]], [[3, 1, 2, 4, 8, 9, 10, 14, 28, 29, 33], [30, 24, 27, 34], [17, 6, 7], [31], [20], [5, 11], [15], [21], [18], [26, 25, 32], [22], [13], [23], [12], [16], [19]], [[1, 2, 3, 4, 5, 6, 7, 8, 11, 12, 13, 14, 22], [9, 10, 15, 16, 19, 20, 21, 23, 24, 28, 29, 30, 31, 33, 34], [17], [18], [25, 26, 32], [27]], [[1, 2, 4, 8, 12, 13, 14, 18], [3, 10], [5, 11], [6, 17], [7], [9, 15, 16, 19, 20, 21, 23, 24, 25, 26, 27, 29, 30, 31, 32, 33, 34], [22], [28]], [[34, 9, 10, 14, 15, 16, 19, 20, 21, 23, 24, 27, 28, 29, 30, 31, 32, 33], [1, 2, 3, 4, 5, 6, 7, 8, 11, 12, 13, 18, 22], [26, 25], [17]], [[3, 1, 2, 4, 8, 9, 10, 14, 28, 29, 33], [19, 34], [22], [30, 24, 27], [25, 26, 32], [23], [12], [16], [20], [18], [21], [31], [11, 5, 6], [17, 7], [15], [13]], [[23, 33, 34], [19], [1, 2, 3, 4, 5, 6, 7, 8, 9, 11, 12, 13, 14, 18, 20, 22, 32], [16], [15], [29], [31], [24, 26, 28, 30], [25], [17], [10], [21], [27]])\n",
      "individualsFitness = (0.21367521367521364, 0.18547008547008545, 0.16108891108891107, 0.11452991452991454, 0.10838018190959367, 0.10427350427350426, 0.10384615384615384)\n",
      "std = 0.04166911141079777\n",
      "---------------\n",
      "pocket = [[21, 33, 34], [4, 1, 2, 3, 8, 13, 14], [10], [28, 24, 25], [22], [15], [26, 32], [30, 27], [18], [19], [17, 6, 7], [9, 31], [29], [11, 5], [20], [23], [16], [12]]\n",
      "pocketFitness = 0.21367521367521364\n",
      "individuals = ([[21, 33, 34], [4, 1, 2, 3, 8, 13, 14], [10], [28, 24, 25], [22], [15], [26, 32], [30, 27], [18], [19], [17, 6, 7], [9, 31], [29], [11, 5], [20], [23], [16], [12]], [[1, 2, 3, 4, 8, 12, 13, 14, 20, 22], [5, 11], [6, 7, 17], [9, 10, 16, 19, 21, 23, 24, 28, 29, 30, 31, 32, 33, 34], [15], [18], [25], [26], [27]], [[1, 2, 4, 8, 13, 14, 22], [3, 9, 10, 15, 16, 19, 21, 23, 24, 27, 28, 30, 33, 34], [5, 11], [6, 7, 17], [12, 18], [20, 26, 29, 31, 32], [25]], [[23, 33, 34], [2, 1, 3, 4, 8, 14, 18, 20, 22, 31], [12], [28, 24, 25], [6, 7, 11, 17], [19], [26, 32], [21], [27, 30], [10], [16], [29], [9], [15], [5], [13]], [[34, 9, 10, 14, 15, 16, 19, 20, 21, 23, 24, 27, 28, 29, 30, 31, 32, 33], [1, 2, 3, 4, 5, 6, 7, 8, 11, 12, 13, 18, 22], [26, 25], [17]], [[6, 1, 7, 11, 17], [21, 33, 34], [28, 3, 24, 25], [16], [5], [9, 31], [20, 2], [15], [19], [14, 4], [18], [22], [27, 30], [10], [32, 26, 29], [13], [12], [8], [23]], [[32, 1, 25, 26, 29, 33, 34], [15], [12], [21], [22, 2], [31, 9], [5, 7, 11], [28, 3, 24], [17, 6], [16], [18], [23], [20], [8, 4], [19], [30, 27], [14], [10], [13]])\n",
      "individualsFitness = (0.21367521367521364, 0.18376068376068375, 0.1698224852071006, 0.1452991452991453, 0.10838018190959367, 0.08333333333333333, 0.023076923076923078)\n",
      "std = 0.06064697876629319\n",
      "---------------\n",
      "pocket = [[30, 24, 27, 33, 34], [26, 25, 32], [17, 6, 7], [10, 3], [16], [28], [4, 1, 2, 8, 13, 14], [12], [29], [9, 31], [5, 11], [19], [15], [23], [22], [21], [18], [20]]\n",
      "pocketFitness = 0.22991452991452987\n",
      "individuals = ([[30, 24, 27, 33, 34], [26, 25, 32], [17, 6, 7], [10, 3], [16], [28], [4, 1, 2, 8, 13, 14], [12], [29], [9, 31], [5, 11], [19], [15], [23], [22], [21], [18], [20]], [[4, 1, 2, 3, 8, 13, 14], [17, 6, 7], [27, 30, 34], [28, 24, 25], [20], [11, 5], [26, 32], [21, 33], [9, 31], [18], [19], [12], [29], [22], [23], [10], [15], [16]], [[21, 33, 34], [4, 1, 2, 3, 8, 13, 14], [10], [28, 24, 25], [22], [15], [26, 32], [30, 27], [18], [19], [17, 6, 7], [9, 31], [29], [11, 5], [20], [23], [16], [12]], [[3, 1, 2, 4, 8, 9, 10, 14, 28, 29, 33], [30, 24, 27, 34], [17, 6, 7], [31], [20], [5, 11], [15], [21], [18], [26, 25, 32], [22], [13], [23], [12], [16], [19]], [[1, 2, 4, 8, 13, 14, 22], [3, 9, 10, 15, 16, 19, 21, 23, 24, 27, 28, 30, 33, 34], [5, 11], [6, 7, 17], [12, 18], [20, 26, 29, 31, 32], [25]], [[3, 1, 2, 4, 8, 9, 10, 14, 28, 29, 33], [19, 34], [22], [30, 24, 27], [25, 26, 32], [23], [12], [16], [20], [18], [21], [31], [11, 5, 6], [17, 7], [15], [13]], [[32, 1, 25, 26, 29, 33, 34], [15], [12], [21], [22, 2], [31, 9], [5, 7, 11], [28, 3, 24], [17, 6], [16], [18], [23], [20], [8, 4], [19], [30, 27], [14], [10], [13]])\n",
      "individualsFitness = (0.22991452991452987, 0.21367521367521364, 0.21367521367521364, 0.18547008547008545, 0.1698224852071006, 0.10427350427350426, 0.023076923076923078)\n",
      "std = None\n",
      "---------------\n"
     ]
    }
   ],
   "source": [
    "for i in treeMiddle:\n",
    "    i.print_values()\n",
    "    print(\"---------------\")"
   ]
  },
  {
   "cell_type": "code",
   "execution_count": 139,
   "metadata": {},
   "outputs": [
    {
     "name": "stdout",
     "output_type": "stream",
     "text": [
      "pocket = [[30, 24, 27, 33, 34], [26, 25, 32], [17, 6, 7], [10, 3], [16], [28], [4, 1, 2, 8, 13, 14], [12], [29], [9, 31], [5, 11], [19], [15], [23], [22], [21], [18], [20]]\n",
      "pocketFitness = 0.22991452991452987\n",
      "individuals = ([[30, 24, 27, 33, 34], [26, 25, 32], [17, 6, 7], [10, 3], [16], [28], [4, 1, 2, 8, 13, 14], [12], [29], [9, 31], [5, 11], [19], [15], [23], [22], [21], [18], [20]], [[4, 1, 2, 3, 8, 13, 14], [17, 6, 7], [27, 30, 34], [28, 24, 25], [20], [11, 5], [26, 32], [21, 33], [9, 31], [18], [19], [12], [29], [22], [23], [10], [15], [16]], [[21, 33, 34], [4, 1, 2, 3, 8, 13, 14], [10], [28, 24, 25], [22], [15], [26, 32], [30, 27], [18], [19], [17, 6, 7], [9, 31], [29], [11, 5], [20], [23], [16], [12]], [[3, 1, 2, 4, 8, 9, 10, 14, 28, 29, 33], [30, 24, 27, 34], [17, 6, 7], [31], [20], [5, 11], [15], [21], [18], [26, 25, 32], [22], [13], [23], [12], [16], [19]], [[1, 2, 4, 8, 13, 14, 22], [3, 9, 10, 15, 16, 19, 21, 23, 24, 27, 28, 30, 33, 34], [5, 11], [6, 7, 17], [12, 18], [20, 26, 29, 31, 32], [25]], [[3, 1, 2, 4, 8, 9, 10, 14, 28, 29, 33], [19, 34], [22], [30, 24, 27], [25, 26, 32], [23], [12], [16], [20], [18], [21], [31], [11, 5, 6], [17, 7], [15], [13]], [[32, 1, 25, 26, 29, 33, 34], [15], [12], [21], [22, 2], [31, 9], [5, 7, 11], [28, 3, 24], [17, 6], [16], [18], [23], [20], [8, 4], [19], [30, 27], [14], [10], [13]])\n",
      "individualsFitness = (0.22991452991452987, 0.21367521367521364, 0.21367521367521364, 0.18547008547008545, 0.1698224852071006, 0.10427350427350426, 0.023076923076923078)\n",
      "std = None\n"
     ]
    }
   ],
   "source": [
    "treeTop.print_values()"
   ]
  },
  {
   "cell_type": "code",
   "execution_count": 140,
   "metadata": {},
   "outputs": [],
   "source": [
    "# locus = [1, 2, 3, 4, 5, 6, 7, 8, 9, 10, 11, 12, 13, 14]\n",
    "# gene =  [2, 3, 6, 1, 4, 7, 5, 11, 10, 12, 12, 9, 14, 11]\n",
    "# # communities = decode_communities(locus, gene)\n",
    "# # print(communities)\n",
    "# # [[2,3,6,1],[]]\n",
    "# geneTuple=[]\n",
    "# for u,v in zip(locus,gene):\n",
    "#     geneTuple.append((u,v))\n",
    "# geneTuple\n"
   ]
  },
  {
   "cell_type": "code",
   "execution_count": 141,
   "metadata": {},
   "outputs": [
    {
     "name": "stdout",
     "output_type": "stream",
     "text": [
      "[1, 2, 3, 4, 5, 6, 7, 8, 9, 10, 11, 12, 13, 14, 15, 16, 17, 18, 19, 20, 21, 22, 23, 24, 25, 26, 27, 28, 29, 30, 31, 32, 33, 34, 35, 36, 37, 38, 39, 40, 41, 42, 43, 44, 45, 46, 47, 48, 49, 50, 51, 52, 53, 54, 55, 56, 57, 58, 59, 60, 61, 62, 63, 64, 65, 66, 67, 68, 69, 70, 71, 72, 73, 74, 75, 76, 77, 78]\n",
      "[2, 25, 11, 4, 5, 6, 7, 8, 9, 1, 3, 10, 13, 14, 15, 16, 17, 18, 19, 20, 21, 22, 23, 24, 25, 26, 27, 28, 29, 30, 31, 32, 33, 34, 35, 36, 37, 38, 39, 40, 41, 42, 43, 44, 45, 46, 47, 48, 49, 50, 51, 52, 53, 54, 55, 56, 57, 58, 59, 60, 61, 62, 63, 64, 65, 66, 67, 68, 69, 70, 71, 72, 73, 74, 75, 76, 77, 78]\n"
     ]
    },
    {
     "data": {
      "text/plain": [
       "[[1, 2, 10, 12, 25],\n",
       " [11, 3],\n",
       " [4],\n",
       " [5],\n",
       " [6],\n",
       " [7],\n",
       " [8],\n",
       " [9],\n",
       " [13],\n",
       " [14],\n",
       " [15],\n",
       " [16],\n",
       " [17],\n",
       " [18],\n",
       " [19],\n",
       " [20],\n",
       " [21],\n",
       " [22],\n",
       " [23],\n",
       " [24],\n",
       " [26],\n",
       " [27],\n",
       " [28],\n",
       " [29],\n",
       " [30],\n",
       " [31],\n",
       " [32],\n",
       " [33],\n",
       " [34],\n",
       " [35],\n",
       " [36],\n",
       " [37],\n",
       " [38],\n",
       " [39],\n",
       " [40],\n",
       " [41],\n",
       " [42],\n",
       " [43],\n",
       " [44],\n",
       " [45],\n",
       " [46],\n",
       " [47],\n",
       " [48],\n",
       " [49],\n",
       " [50],\n",
       " [51],\n",
       " [52],\n",
       " [53],\n",
       " [54],\n",
       " [55],\n",
       " [56],\n",
       " [57],\n",
       " [58],\n",
       " [59],\n",
       " [60],\n",
       " [61],\n",
       " [62],\n",
       " [63],\n",
       " [64],\n",
       " [65],\n",
       " [66],\n",
       " [67],\n",
       " [68],\n",
       " [69],\n",
       " [70],\n",
       " [71],\n",
       " [72],\n",
       " [73],\n",
       " [74],\n",
       " [75],\n",
       " [76],\n",
       " [77],\n",
       " [78]]"
      ]
     },
     "execution_count": 141,
     "metadata": {},
     "output_type": "execute_result"
    }
   ],
   "source": [
    "from collections import defaultdict\n",
    "def decode_communities(gene):\n",
    "    locus = [i+1 for i in range(len(gene))]\n",
    "    edges=[]\n",
    "    for u,v in zip(locus,gene):\n",
    "        edges.append((u,v))\n",
    "\n",
    "    clusters = [ ]\n",
    "    adj_list = defaultdict(set)\n",
    "\n",
    "    for u, v in edges:\n",
    "\n",
    "        adj_list[u].add(v)\n",
    "\n",
    "        adj_list[v].add(u)\n",
    "    # adj_list = defaultdict(set,labledEdgeR)\n",
    "    # adj_list = defaultdict(labledEdge)\n",
    "    \n",
    "    visited = set()\n",
    "\n",
    "    for node in adj_list:\n",
    "        if node in visited:\n",
    "            continue\n",
    "        visited.add(node)\n",
    "        cluster = {node}\n",
    "        queue = list(adj_list[node])\n",
    "        while queue:\n",
    "            current = queue.pop(0)\n",
    "            if current in visited:\n",
    "                continue\n",
    "\n",
    "            visited.add(current)\n",
    "\n",
    "            cluster.add(current)\n",
    "\n",
    "            # if len(cluster) >= k:\n",
    "\n",
    "            #     break\n",
    "\n",
    "            for neighbor in adj_list[current]:\n",
    "\n",
    "                if neighbor not in visited:\n",
    "\n",
    "                    queue.append(neighbor)\n",
    "\n",
    "        clusters.append(cluster)\n",
    "    listCluster = []\n",
    "    for i in clusters:\n",
    "        listCluster.append(list(i))\n",
    "    # print(listCluster)\n",
    "\n",
    "\n",
    "\n",
    "    return listCluster\n",
    "locus,gene = communityToGene([[1,2,3,4,5], [4,6,7,8, 9]],number_of_nodes,number_of_edges,labledEdge)\n",
    "print(locus)\n",
    "\n",
    "# gene = [2, 5, 3, 1, 4, 5, 7, 8, 9, 11, 12, 10, 10, 11]\n",
    "print(gene)\n",
    "decode_communities(gene)"
   ]
  },
  {
   "cell_type": "code",
   "execution_count": 142,
   "metadata": {},
   "outputs": [],
   "source": [
    "def geneToCommunityOfNodes(edges):\n",
    "    comm = []\n",
    "    for n in edges:\n",
    "        cluster = set()\n",
    "        for i in n:\n",
    "            edge = getEdgeValue(labledEdge,i)\n",
    "            cluster.add(edge[0])\n",
    "            cluster.add(edge[1])\n",
    "        comm.append(list(cluster))\n",
    "    return comm\n",
    "\n",
    "\n",
    "\n",
    "# geneToCommunityOfNodes([[1, 2, 3, 4, 5, 6, 7], [8, 9, 10, 11, 12, 13, 14]])"
   ]
  },
  {
   "cell_type": "code",
   "execution_count": 143,
   "metadata": {},
   "outputs": [],
   "source": [
    "from collections import defaultdict\n",
    "def decode_communities2(edges):\n",
    "\n",
    "    clusters = [ ]\n",
    "    adj_list = defaultdict(set)\n",
    "\n",
    "    for u, v in edges:\n",
    "\n",
    "        adj_list[u].add(v)\n",
    "\n",
    "        adj_list[v].add(u)\n",
    "    # adj_list = defaultdict(set,labledEdgeR)\n",
    "    # adj_list = defaultdict(labledEdge)\n",
    "    \n",
    "    visited = set()\n",
    "\n",
    "    for node in adj_list:\n",
    "        if node in visited:\n",
    "            continue\n",
    "        visited.add(node)\n",
    "        cluster = {node}\n",
    "        queue = list(adj_list[node])\n",
    "        while queue:\n",
    "            current = queue.pop(0)\n",
    "            if current in visited:\n",
    "                continue\n",
    "\n",
    "            visited.add(current)\n",
    "\n",
    "            cluster.add(current)\n",
    "\n",
    "            # if len(cluster) >= k:\n",
    "\n",
    "            #     break\n",
    "\n",
    "            for neighbor in adj_list[current]:\n",
    "\n",
    "                if neighbor not in visited:\n",
    "\n",
    "                    queue.append(neighbor)\n",
    "\n",
    "        clusters.append(cluster)\n",
    "    listCluster = []\n",
    "    for i in clusters:\n",
    "        listCluster.append(list(i))\n",
    "    # print(listCluster)\n",
    "\n",
    "\n",
    "    # print (adj_list)\n",
    "    return listCluster\n",
    "# locus,gene = communityToGene2([[1,2,3,4,5], [4,6,7,8, 9]],number_of_nodes,number_of_edges,labledEdge)\n",
    "# print(locus)\n",
    "\n",
    "# gene = [2,3,7,6,4,5,3,9,13,11,14,12,10,12]\n",
    "# print(gene)\n",
    "# decode_communities2([(1, 2), (1, 3), (1, 5), (2, 4), (2, 3), (3, 4), (5, 4)])"
   ]
  },
  {
   "cell_type": "code",
   "execution_count": 144,
   "metadata": {},
   "outputs": [],
   "source": [
    "# # print(localExpansionWithEigen(undirected_graph))\n",
    "# l,g = communityToGene(localExpansionWithEigen(undirected_graph),number_of_nodes,number_of_edges,labledEdge)\n",
    "# print(l)\n",
    "# print(g)\n",
    "# geneTuple=[]\n",
    "# for u,v in zip(l,g):\n",
    "#     geneTuple.append((u,v))\n",
    "# # decode_communities(geneTuple)"
   ]
  },
  {
   "cell_type": "code",
   "execution_count": 145,
   "metadata": {},
   "outputs": [],
   "source": [
    "# drawLayout(labledEdge)\n"
   ]
  },
  {
   "cell_type": "code",
   "execution_count": 146,
   "metadata": {},
   "outputs": [],
   "source": [
    "def initializePopulation():\n",
    "    base = generateTreeBase()\n",
    "    middle = generateTreeMiddle(base)\n",
    "    top = generateTreeTop(middle)\n",
    "    return base,middle,top"
   ]
  },
  {
   "cell_type": "code",
   "execution_count": 147,
   "metadata": {},
   "outputs": [],
   "source": [
    "def updatePopulation(mutatedOffspring,base):\n",
    "    x = rd.randint(0,2)\n",
    "    y = rd.randint(0,2)\n",
    "    baseAgent = base[x][y]\n",
    "    # baseAgent.print_values()\n",
    "    baseAgent.individuals = list(baseAgent.individuals)\n",
    "    baseAgent.individuals[-1] = list(mutatedOffspring)\n",
    "    baseAgent.individualsFitness = list(baseAgent.individualsFitness)\n",
    "    baseAgent.individualsFitness[-1] = calculateFitness(mutatedOffspring,undirected_graph)\n",
    "    sort_and_store(baseAgent)\n",
    "    middle = generateTreeMiddle(base)\n",
    "    top = generateTreeTop(middle)\n",
    "    return base,middle,top\n",
    "    "
   ]
  },
  {
   "cell_type": "code",
   "execution_count": 148,
   "metadata": {},
   "outputs": [
    {
     "data": {
      "text/plain": [
       "EdgeDataView([(1, 2), (1, 3), (1, 4), (1, 5), (1, 6), (1, 7), (1, 8), (1, 9), (1, 11), (1, 12), (1, 13), (1, 14), (1, 18), (1, 20), (1, 22), (1, 32), (2, 3), (2, 4), (2, 8), (2, 14), (2, 18), (2, 20), (2, 22), (2, 31)])"
      ]
     },
     "execution_count": 148,
     "metadata": {},
     "output_type": "execute_result"
    }
   ],
   "source": [
    "undirected_graph.edges([1,2])\n"
   ]
  },
  {
   "cell_type": "code",
   "execution_count": 149,
   "metadata": {},
   "outputs": [
    {
     "name": "stdout",
     "output_type": "stream",
     "text": [
      "original Fitness  0.026862026862026857\n",
      "New Fitness :  0.06517094017094016\n",
      "New Fitness :  0.07173382173382173\n",
      "New Fitness :  0.0933048433048433\n",
      "New Fitness :  0.12606837606837606\n",
      "New Fitness :  0.13888888888888887\n",
      "New Fitness :  0.14194139194139194\n",
      "New Fitness :  0.14407814407814407\n",
      "New Fitness :  0.14621489621489622\n",
      "New Fitness :  0.15421245421245422\n",
      "New Fitness :  0.18498168498168496\n",
      "New Fitness :  0.20711233211233213\n",
      "New Fitness :  0.23888888888888887\n"
     ]
    },
    {
     "data": {
      "text/plain": [
       "[[1, 2, 4, 5, 18, 22, 31],\n",
       " [1, 2, 3, 8, 14],\n",
       " [1, 2, 20, 14],\n",
       " [1, 4, 14],\n",
       " [1, 6],\n",
       " [17, 1, 7]]"
      ]
     },
     "execution_count": 149,
     "metadata": {},
     "output_type": "execute_result"
    }
   ],
   "source": [
    "def localSearch(mutatedOffspringEdge,mutatedOffspringNode):\n",
    "    \n",
    "    oriFit = calculateFitness(mutatedOffspringNode,undirected_graph)\n",
    "    print(\"original Fitness \",oriFit)\n",
    "    ls = [getEdgeValue(labledEdge,i) for i in mutatedOffspringEdge]  \n",
    "    tempGene = mutatedOffspringEdge[:]\n",
    "    for n,i in enumerate(ls):   \n",
    "        nei =list(undirected_graph.edges(list(getEdgeValue(labledEdge,n+1))))\n",
    "        for j in nei:\n",
    "            if j != i:\n",
    "                tempGene[n] = getEdgeLabel(labledEdge,j)\n",
    "                nodes = geneToCommunityOfNodes(decode_communities(tempGene))\n",
    "                fitness = calculateFitness(nodes,undirected_graph)\n",
    "                if(fitness>oriFit):\n",
    "                    oriFit = fitness\n",
    "                    print(\"New Fitness : \", fitness)\n",
    "                    break\n",
    "    return nodes                \n",
    "                \n",
    "\n",
    "# localSearch([2, 6, 3, 1, 1, 4, 3, 8, 4, 11, 10, 10, 9, 13],[[1, 2, 4, 5, 6, 9, 13, 14], [3, 7], [8], [10, 11, 12]])\n",
    "    "
   ]
  },
  {
   "cell_type": "code",
   "execution_count": 150,
   "metadata": {},
   "outputs": [],
   "source": [
    "def M_Link(limit):\n",
    "    \n",
    "    base,middle,top=initializePopulation()\n",
    "    count = 0\n",
    "    topScore = -1\n",
    "    while count<limit:\n",
    "        parent1 = top.pocket\n",
    "        calculate_std(top)\n",
    "        if not lostDiversity(top):\n",
    "            parent2Agent = rd.choice(middle)\n",
    "        else:\n",
    "            parent2Agent = rd.choice(rd.choice(base))\n",
    "        parent2 = rd.choice(parent2Agent.individuals)\n",
    "        # print('parents')\n",
    "        # print(parent1,parent2)\n",
    "        locus,parent1Edge = communityToGene(parent1,number_of_nodes,number_of_edges,labledEdge)\n",
    "        _,parent2Edge =communityToGene(parent2,number_of_nodes,number_of_edges,labledEdge)\n",
    "        # print(\"parentsEdge\")\n",
    "        # print(parent1Edge,parent2Edge)\n",
    "\n",
    "        offspring = crossOver(parent1Edge,parent2Edge,.5)\n",
    "        # print(\"offspring\")\n",
    "        # print(offspring)\n",
    "        \n",
    "        # \n",
    "        mutatedOffspringEdge= mutate(offspring,.5,labledEdge,undirected_graph)\n",
    "        # print(\"mutatedOffspringEdge\")\n",
    "        # print(mutatedOffspringEdge)\n",
    "        mutatedOffspringEdgeCluster =  decode_communities(mutatedOffspringEdge)\n",
    "        print(\"mutatedOffspringEdgeCluster\")\n",
    "        # print(mutatedOffspringEdgeCluster)\n",
    "        mutatedOffspringNode = geneToCommunityOfNodes(mutatedOffspringEdgeCluster)\n",
    "        # print(mutatedOffspringNode)\n",
    "        localSearchedNodes = localSearch(mutatedOffspringEdge,mutatedOffspringNode)\n",
    "        base, middle,top = updatePopulation(localSearchedNodes,base)\n",
    "        if(topScore<top.pocketFitness):\n",
    "            topScore = top.pocketFitness\n",
    "            count = 0\n",
    "        else:\n",
    "            count+=1\n",
    "        print('*************************************')\n",
    "        print(top.pocket,'|| Fitness:',top.pocketFitness)\n",
    "    return top\n",
    "        \n",
    "    "
   ]
  },
  {
   "cell_type": "code",
   "execution_count": 151,
   "metadata": {},
   "outputs": [
    {
     "name": "stdout",
     "output_type": "stream",
     "text": [
      "Ignoring ValueError In mutate function for  6\n",
      "Ignoring ValueError In mutate function for  10\n",
      "Ignoring ValueError In mutate function for  13\n",
      "Ignoring ValueError In mutate function for  25\n",
      "Ignoring ValueError In mutate function for  26\n",
      "Ignoring ValueError In mutate function for  28\n",
      "Ignoring ValueError In mutate function for  35\n",
      "Ignoring ValueError In mutate function for  37\n",
      "Ignoring ValueError In mutate function for  45\n",
      "Ignoring ValueError In mutate function for  46\n",
      "Ignoring ValueError In mutate function for  47\n",
      "Ignoring ValueError In mutate function for  49\n",
      "Ignoring ValueError In mutate function for  55\n",
      "Ignoring ValueError In mutate function for  66\n",
      "Ignoring ValueError In mutate function for  67\n",
      "Ignoring ValueError In mutate function for  74\n",
      "mutatedOffspringEdge\n",
      "[17, 2, 3, 4, 5, 21, 9, 23, 9, 27, 1, 12, 19, 14, 33, 16, 17, 24, 34, 35, 6, 19, 15, 24, 26, 10, 32, 29, 25, 30, 31, 32, 25, 33, 29, 36, 36, 36, 39, 41, 14, 42, 71, 44, 77, 76, 76, 48, 55, 56, 52, 62, 64, 59, 30, 56, 46, 56, 44, 61, 70, 57, 65, 65, 64, 67, 47, 64, 64, 64, 73, 64, 65, 45, 65, 76, 65, 62]\n",
      "mutatedOffspringEdgeCluster\n",
      "[[1, 11, 17], [2], [3], [4], [5], [21, 6], [9, 7], [32, 33, 34, 35, 8, 10, 13, 15, 19, 20, 22, 23, 25, 26, 27, 28, 29], [12], [40, 41, 14], [16], [24, 18], [49, 30, 55], [31], [36, 37, 38], [39], [42], [64, 65, 68, 69, 70, 71, 72, 73, 74, 43, 75, 77, 45, 53, 60, 61, 63], [59, 44, 54], [66, 67, 76, 46, 47, 78, 51, 52, 57, 62], [48], [56, 50, 58]]\n",
      "original Fitness  0.29901579901579894\n",
      "New Fitness :  0.32038332038332035\n",
      "New Fitness :  0.3588448588448588\n",
      "New Fitness :  0.3973063973063973\n",
      "New Fitness :  0.4101269101269101\n",
      "New Fitness :  0.4434602434602435\n",
      "New Fitness :  0.4477337477337478\n",
      "New Fitness :  0.45329229175383023\n",
      "New Fitness :  0.4798238798238799\n",
      "New Fitness :  0.48196063196063194\n",
      "New Fitness :  0.4840973840973841\n",
      "New Fitness :  0.49497539497539506\n",
      "New Fitness :  0.5142061642061643\n",
      "New Fitness :  0.5173807673807674\n",
      "New Fitness :  0.5205775705775706\n",
      "New Fitness :  0.528930328930329\n",
      "New Fitness :  0.530950530950531\n",
      "New Fitness :  0.5375679875679877\n",
      "New Fitness :  0.582012432012432\n",
      "New Fitness :  0.5845765345765346\n",
      "New Fitness :  0.6102175602175602\n",
      "New Fitness :  0.622030747030747\n",
      "New Fitness :  0.6407018907018908\n",
      "New Fitness :  0.6535224035224036\n",
      "*************************************\n",
      "[[1, 2, 3, 4, 8, 14], [1, 2, 4, 14, 18, 20], [1, 2, 12, 22, 31], [1, 3, 8, 9, 14], [1, 5, 6, 7, 11], [1, 3, 4, 13], [1, 3, 4, 9, 10, 14, 15, 16, 19, 20, 21, 23, 24, 25, 26, 27, 28, 29, 30, 31, 32, 33, 34], [8, 3, 4], [17, 5, 6, 7]] || Fitness: 0.52994782994783\n",
      "Ignoring ValueError in communityToGene() for  26\n",
      "Ignoring ValueError in communityToGene() for  29\n",
      "Ignoring ValueError in communityToGene() for  25\n",
      "Ignoring ValueError in communityToGene() for  22\n",
      "Ignoring ValueError in communityToGene() for  27\n",
      "Ignoring ValueError in communityToGene() for  29\n",
      "Ignoring ValueError in communityToGene() for  26\n",
      "Ignoring ValueError in communityToGene() for  25\n",
      "Ignoring ValueError in communityToGene() for  33\n",
      "Ignoring ValueError in communityToGene() for  26\n",
      "Ignoring ValueError in communityToGene() for  29\n",
      "Ignoring ValueError in communityToGene() for  25\n",
      "Ignoring ValueError in communityToGene() for  22\n",
      "Ignoring ValueError in communityToGene() for  27\n",
      "Ignoring ValueError in communityToGene() for  29\n",
      "Ignoring ValueError in communityToGene() for  26\n",
      "Ignoring ValueError in communityToGene() for  25\n",
      "Ignoring ValueError in communityToGene() for  33\n",
      "mutatedOffspringEdge\n",
      "[5, 10, 7, 1, 1, 1, 1, 1, 8, 13, 35, 15, 12, 18, 16, 10, 21, 1, 10, 13, 1, 13, 8, 1, 32, 15, 28, 32, 20, 32, 32, 68, 11, 25, 11, 41, 17, 40, 17, 41, 14, 64, 61, 46, 75, 45, 77, 51, 50, 48, 48, 60, 64, 44, 49, 24, 44, 66, 76, 62, 32, 65, 65, 65, 63, 61, 24, 71, 32, 69, 32, 68, 78, 65, 65, 65, 65, 62]\n",
      "mutatedOffspringEdgeCluster\n",
      "[[1, 3, 4, 5, 6, 7, 8, 9, 14, 17, 18, 21, 23, 24, 36, 37, 38, 39, 40, 41, 56, 67], [2, 10, 12, 13, 15, 16, 19, 20, 22, 26, 29], [33, 11, 35], [32, 34, 66, 68, 69, 70, 71, 72, 43, 25, 58, 27, 28, 61, 30, 31], [42, 44, 45, 46, 47, 52, 53, 54, 57, 59, 60, 62, 63, 64, 65, 73, 74, 75, 76, 77, 78], [48, 49, 50, 51, 55]]\n",
      "original Fitness  0.20282195389661453\n",
      "New Fitness :  0.2240537240537241\n",
      "New Fitness :  0.22796092796092798\n",
      "New Fitness :  0.24698897968128739\n",
      "New Fitness :  0.2481285808208885\n",
      "New Fitness :  0.26648348211815703\n",
      "New Fitness :  0.27164969533390587\n",
      "New Fitness :  0.3891812865497076\n",
      "New Fitness :  0.3922402159244264\n",
      "New Fitness :  0.3926680073738897\n",
      "New Fitness :  0.3974358974358974\n",
      "*************************************\n",
      "[[1, 2, 3, 4, 8, 14], [1, 2, 4, 14, 18, 20], [1, 2, 12, 22, 31], [1, 3, 8, 9, 14], [1, 5, 6, 7, 11], [1, 3, 4, 13], [1, 3, 4, 9, 10, 14, 15, 16, 19, 20, 21, 23, 24, 25, 26, 27, 28, 29, 30, 31, 32, 33, 34], [8, 3, 4], [17, 5, 6, 7]] || Fitness: 0.52994782994783\n",
      "Ignoring ValueError in communityToGene() for  26\n",
      "Ignoring ValueError in communityToGene() for  29\n",
      "Ignoring ValueError in communityToGene() for  25\n",
      "Ignoring ValueError in communityToGene() for  22\n",
      "Ignoring ValueError in communityToGene() for  27\n",
      "Ignoring ValueError in communityToGene() for  29\n",
      "Ignoring ValueError in communityToGene() for  26\n",
      "Ignoring ValueError in communityToGene() for  25\n",
      "Ignoring ValueError in communityToGene() for  33\n",
      "Ignoring ValueError In mutate function for  11\n",
      "Ignoring ValueError In mutate function for  14\n",
      "Ignoring ValueError In mutate function for  17\n",
      "Ignoring ValueError In mutate function for  25\n",
      "Ignoring ValueError In mutate function for  26\n",
      "Ignoring ValueError In mutate function for  28\n",
      "Ignoring ValueError In mutate function for  33\n",
      "Ignoring ValueError In mutate function for  34\n",
      "Ignoring ValueError In mutate function for  45\n",
      "Ignoring ValueError In mutate function for  66\n",
      "Ignoring ValueError In mutate function for  67\n",
      "mutatedOffspringEdge\n",
      "[8, 3, 35, 5, 4, 2, 7, 1, 9, 32, 13, 19, 13, 18, 26, 15, 37, 1, 19, 20, 23, 12, 8, 24, 29, 25, 2, 30, 20, 28, 31, 73, 15, 11, 35, 12, 17, 39, 17, 38, 14, 64, 32, 16, 62, 74, 63, 49, 55, 56, 52, 60, 71, 75, 49, 50, 44, 66, 59, 61, 32, 74, 65, 65, 73, 70, 50, 43, 66, 64, 68, 68, 46, 46, 74, 75, 67, 65]\n",
      "mutatedOffspringEdgeCluster\n",
      "[[1, 8, 41, 14, 18, 21, 23], [2, 3, 35, 6, 27], [4, 5], [7], [9], [10, 32, 42, 43, 45, 46, 47, 51, 52, 53, 54, 58, 60, 61, 62, 63, 64, 65, 66, 68, 69, 70, 71, 72, 73, 74, 75, 76, 78], [34, 11, 13], [19, 12, 36, 22], [33, 44, 15, 16, 20, 25, 26, 29, 57], [37, 38, 39, 40, 17], [24], [28, 30], [31], [48, 49, 55], [56, 50, 67, 77], [59]]\n",
      "original Fitness  0.31473555684082\n",
      "New Fitness :  0.31900906111432425\n",
      "New Fitness :  0.330730672835936\n",
      "New Fitness :  0.33500417710944025\n",
      "New Fitness :  0.33897243107769415\n",
      "New Fitness :  0.34082428292954603\n",
      "New Fitness :  0.3794180965233596\n",
      "New Fitness :  0.38170747381273695\n",
      "New Fitness :  0.38938566879743347\n",
      "New Fitness :  0.39579592520768986\n",
      "New Fitness :  0.40477028418204886\n",
      "New Fitness :  0.43703246644423116\n",
      "New Fitness :  0.4559912854030502\n",
      "New Fitness :  0.462828892240657\n",
      "New Fitness :  0.46430820641346965\n",
      "New Fitness :  0.5147355568408201\n",
      "*************************************\n",
      "[[1, 2, 3, 4, 8, 14], [1, 2, 4, 14, 18, 20], [1, 2, 12, 22, 31], [1, 3, 8, 9, 14], [1, 5, 6, 7, 11], [1, 3, 4, 13], [1, 3, 4, 9, 10, 14, 15, 16, 19, 20, 21, 23, 24, 25, 26, 27, 28, 29, 30, 31, 32, 33, 34], [8, 3, 4], [17, 5, 6, 7]] || Fitness: 0.52994782994783\n",
      "Ignoring ValueError in communityToGene() for  26\n",
      "Ignoring ValueError in communityToGene() for  29\n",
      "Ignoring ValueError in communityToGene() for  25\n",
      "Ignoring ValueError in communityToGene() for  22\n",
      "Ignoring ValueError in communityToGene() for  27\n",
      "Ignoring ValueError in communityToGene() for  29\n",
      "Ignoring ValueError in communityToGene() for  26\n",
      "Ignoring ValueError in communityToGene() for  25\n",
      "Ignoring ValueError in communityToGene() for  33\n",
      "Ignoring ValueError In mutate function for  7\n",
      "Ignoring ValueError In mutate function for  8\n",
      "Ignoring ValueError In mutate function for  14\n",
      "Ignoring ValueError In mutate function for  17\n",
      "Ignoring ValueError In mutate function for  28\n",
      "Ignoring ValueError In mutate function for  34\n",
      "Ignoring ValueError In mutate function for  35\n",
      "Ignoring ValueError In mutate function for  37\n",
      "Ignoring ValueError In mutate function for  55\n",
      "mutatedOffspringEdge\n",
      "[4, 3, 1, 2, 1, 21, 8, 2, 9, 10, 35, 12, 38, 13, 16, 10, 20, 23, 10, 19, 22, 13, 8, 21, 33, 26, 44, 27, 20, 27, 31, 53, 11, 19, 33, 14, 12, 36, 17, 41, 38, 64, 61, 62, 45, 65, 47, 50, 50, 58, 52, 53, 43, 65, 30, 50, 46, 56, 44, 52, 32, 65, 62, 70, 64, 58, 24, 32, 43, 72, 43, 32, 32, 62, 65, 57, 54, 65]\n",
      "mutatedOffspringEdgeCluster\n",
      "[[1, 2, 3, 4, 5, 7, 8, 18, 23], [67, 36, 6, 38, 40, 41, 13, 14, 21, 22, 24], [9], [34, 39, 10, 15, 16, 17, 19, 20, 29], [33, 11, 35, 25], [12, 37], [26], [27, 28, 30, 32, 42, 43, 44, 46, 51, 52, 53, 54, 55, 57, 59, 60, 61, 62, 63, 64, 65, 68, 69, 70, 71, 72, 73, 74, 75, 76, 77, 78], [31], [45], [47], [66, 48, 49, 50, 56, 58]]\n",
      "original Fitness  0.3983085541909071\n",
      "New Fitness :  0.417982017982018\n",
      "New Fitness :  0.42137590078766546\n",
      "New Fitness :  0.4232277526395173\n",
      "New Fitness :  0.4289773579247263\n",
      "New Fitness :  0.4324636377267956\n",
      "New Fitness :  0.44101726160549687\n",
      "New Fitness :  0.45811127869951396\n",
      "New Fitness :  0.4589659795542148\n",
      "New Fitness :  0.4640941846824199\n",
      "New Fitness :  0.5273420479302832\n",
      "*************************************\n",
      "[[1, 2, 3, 4, 8, 14], [1, 2, 4, 14, 18, 20], [1, 2, 12, 22, 31], [1, 3, 8, 9, 14], [1, 5, 6, 7, 11], [1, 3, 4, 13], [1, 3, 4, 9, 10, 14, 15, 16, 19, 20, 21, 23, 24, 25, 26, 27, 28, 29, 30, 31, 32, 33, 34], [8, 3, 4], [17, 5, 6, 7]] || Fitness: 0.52994782994783\n",
      "Ignoring ValueError in communityToGene() for  26\n",
      "Ignoring ValueError in communityToGene() for  29\n",
      "Ignoring ValueError in communityToGene() for  25\n",
      "Ignoring ValueError in communityToGene() for  22\n",
      "Ignoring ValueError in communityToGene() for  27\n",
      "Ignoring ValueError in communityToGene() for  29\n",
      "Ignoring ValueError in communityToGene() for  26\n",
      "Ignoring ValueError in communityToGene() for  25\n",
      "Ignoring ValueError in communityToGene() for  33\n",
      "Ignoring ValueError In mutate function for  13\n",
      "Ignoring ValueError In mutate function for  38\n",
      "Ignoring ValueError In mutate function for  39\n",
      "Ignoring ValueError In mutate function for  40\n",
      "Ignoring ValueError In mutate function for  44\n",
      "Ignoring ValueError In mutate function for  48\n",
      "Ignoring ValueError In mutate function for  56\n",
      "Ignoring ValueError In mutate function for  58\n",
      "Ignoring ValueError In mutate function for  64\n",
      "Ignoring ValueError In mutate function for  66\n",
      "Ignoring ValueError In mutate function for  67\n",
      "mutatedOffspringEdge\n",
      "[2, 3, 3, 1, 5, 1, 9, 8, 7, 17, 20, 12, 19, 14, 16, 43, 17, 14, 10, 35, 6, 7, 13, 66, 28, 25, 16, 32, 20, 32, 30, 69, 11, 11, 34, 36, 17, 39, 17, 38, 14, 64, 43, 63, 65, 63, 65, 51, 56, 48, 51, 48, 69, 44, 51, 55, 65, 50, 75, 61, 60, 73, 73, 71, 65, 64, 47, 71, 71, 32, 69, 69, 71, 44, 69, 78, 65, 65]\n",
      "mutatedOffspringEdgeCluster\n",
      "[[1, 2, 3, 4, 6, 21], [5], [9, 22, 7], [8], [37, 38, 39, 40, 10, 13, 17, 19, 23], [33, 34, 35, 11, 20, 29], [12], [41, 18, 14], [16, 43, 27, 15], [24, 25, 26, 28, 30, 31, 32, 42, 44, 46, 53, 54, 59, 62, 63, 64, 66, 68, 69, 70, 71, 72, 73, 74, 75], [36], [65, 67, 76, 77, 45, 78, 47, 57], [48, 49, 50, 51, 52, 55, 56, 58], [60, 61]]\n",
      "original Fitness  0.3833381530749952\n",
      "New Fitness :  0.3841575091575092\n",
      "New Fitness :  0.39270451770451775\n",
      "New Fitness :  0.39527065527065525\n",
      "New Fitness :  0.4059544159544159\n",
      "New Fitness :  0.431919006919007\n",
      "New Fitness :  0.4320716320716321\n",
      "New Fitness :  0.4351940457203614\n",
      "New Fitness :  0.44182843697013735\n",
      "New Fitness :  0.4529583327154177\n",
      "New Fitness :  0.45531780101915853\n",
      "New Fitness :  0.4661471426177309\n",
      "New Fitness :  0.4679235796882855\n",
      "New Fitness :  0.4988247863247863\n",
      "New Fitness :  0.5082264957264957\n",
      "New Fitness :  0.5672008547008547\n",
      "New Fitness :  0.5842948717948718\n",
      "*************************************\n",
      "[[1, 2, 3, 4, 8, 14], [1, 2, 4, 14, 18, 20], [1, 2, 12, 22, 31], [1, 3, 8, 9, 14], [1, 5, 6, 7, 11], [1, 3, 4, 13], [1, 3, 4, 9, 10, 14, 15, 16, 19, 20, 21, 23, 24, 25, 26, 27, 28, 29, 30, 31, 32, 33, 34], [8, 3, 4], [17, 5, 6, 7]] || Fitness: 0.52994782994783\n",
      "Ignoring ValueError in communityToGene() for  26\n",
      "Ignoring ValueError in communityToGene() for  29\n",
      "Ignoring ValueError in communityToGene() for  25\n",
      "Ignoring ValueError in communityToGene() for  22\n",
      "Ignoring ValueError in communityToGene() for  27\n",
      "Ignoring ValueError in communityToGene() for  29\n",
      "Ignoring ValueError in communityToGene() for  26\n",
      "Ignoring ValueError in communityToGene() for  25\n",
      "Ignoring ValueError in communityToGene() for  33\n",
      "Ignoring ValueError In mutate function for  3\n",
      "Ignoring ValueError In mutate function for  12\n",
      "Ignoring ValueError In mutate function for  14\n",
      "Ignoring ValueError In mutate function for  23\n",
      "Ignoring ValueError In mutate function for  32\n",
      "Ignoring ValueError In mutate function for  42\n",
      "Ignoring ValueError In mutate function for  43\n",
      "Ignoring ValueError In mutate function for  67\n",
      "Ignoring ValueError In mutate function for  70\n",
      "Ignoring ValueError In mutate function for  76\n",
      "mutatedOffspringEdge\n",
      "[15, 6, 4, 5, 5, 21, 22, 23, 9, 32, 21, 14, 38, 38, 23, 21, 37, 11, 11, 12, 22, 7, 1, 66, 32, 32, 27, 32, 20, 32, 27, 31, 26, 35, 25, 41, 17, 40, 17, 40, 38, 43, 70, 54, 65, 35, 44, 51, 55, 24, 55, 51, 69, 52, 56, 67, 63, 59, 59, 52, 52, 44, 73, 64, 73, 66, 59, 69, 73, 43, 70, 32, 69, 74, 65, 67, 74, 45]\n",
      "mutatedOffspringEdgeCluster\n",
      "[[8, 1, 15, 23], [2, 6, 7, 11, 16, 18, 19, 21, 22], [3, 4, 5], [9], [32, 33, 34, 35, 72, 10, 46, 25, 26, 27, 28, 30, 31], [36, 38, 40, 41, 12, 13, 14, 20, 29], [17, 37, 39], [24, 66, 50], [42, 43, 70, 71], [67, 44, 76, 47, 48, 49, 51, 52, 54, 55, 56, 58, 59, 60, 61, 62], [65, 68, 69, 73, 75, 45, 78, 53, 57, 63], [64], [74, 77]]\n",
      "original Fitness  0.3798562548562548\n",
      "New Fitness :  0.383000333000333\n",
      "New Fitness :  0.4744810744810745\n",
      "New Fitness :  0.4822859058153176\n",
      "New Fitness :  0.48377325289089995\n",
      "New Fitness :  0.493011563599799\n",
      "New Fitness :  0.5076191782074135\n",
      "New Fitness :  0.5077700077700078\n",
      "New Fitness :  0.5094488844488846\n",
      "New Fitness :  0.5511155511155512\n",
      "New Fitness :  0.5746198246198247\n",
      "New Fitness :  0.5874403374403376\n",
      "New Fitness :  0.6023976023976025\n",
      "New Fitness :  0.6143227143227145\n",
      "New Fitness :  0.6149801765186381\n",
      "*************************************\n",
      "[[1, 2, 3, 4, 8, 14], [1, 2, 4, 14, 18, 20], [1, 2, 12, 22, 31], [1, 3, 8, 9, 14], [1, 5, 6, 7, 11], [1, 3, 4, 13], [1, 3, 4, 9, 10, 14, 15, 16, 19, 20, 21, 23, 24, 25, 26, 27, 28, 29, 30, 31, 32, 33, 34], [8, 3, 4], [17, 5, 6, 7]] || Fitness: 0.52994782994783\n"
     ]
    }
   ],
   "source": [
    "one =M_Link(5)\n"
   ]
  },
  {
   "cell_type": "code",
   "execution_count": 158,
   "metadata": {},
   "outputs": [],
   "source": [
    "with open(f'{dataset}-output.txt','a') as f:\n",
    "    f.write(f'{one.pocketFitness}\\n')\n",
    "    f.write(f'{one.pocket}\\n')\n"
   ]
  },
  {
   "cell_type": "code",
   "execution_count": 153,
   "metadata": {},
   "outputs": [
    {
     "name": "stdout",
     "output_type": "stream",
     "text": [
      "0.52994782994783\n"
     ]
    }
   ],
   "source": [
    "print(one.pocketFitness)\n",
    "# print(two.pocketFitness)\n",
    "# print(three.pocketFitness)\n",
    "# print(four.pocketFitness)"
   ]
  },
  {
   "cell_type": "code",
   "execution_count": 154,
   "metadata": {},
   "outputs": [
    {
     "name": "stdout",
     "output_type": "stream",
     "text": [
      "[[1, 2, 3, 4, 8, 14], [1, 2, 4, 14, 18, 20], [1, 2, 12, 22, 31], [1, 3, 8, 9, 14], [1, 5, 6, 7, 11], [1, 3, 4, 13], [1, 3, 4, 9, 10, 14, 15, 16, 19, 20, 21, 23, 24, 25, 26, 27, 28, 29, 30, 31, 32, 33, 34], [8, 3, 4], [17, 5, 6, 7]]\n"
     ]
    }
   ],
   "source": [
    "print(one.pocket)\n",
    "# print(two.pocket)\n",
    "# print(three.pocket)\n",
    "# print(four.pocket)"
   ]
  },
  {
   "cell_type": "code",
   "execution_count": null,
   "metadata": {},
   "outputs": [
    {
     "data": {
      "image/png": "[encoded data removed]",
      "text/plain": [
       "<Figure size 864x864 with 1 Axes>"
      ]
     },
     "metadata": {},
     "output_type": "display_data"
    }
   ],
   "source": [
    "# drawLayout(labledEdge)"
   ]
  }
 ],
 "metadata": {
  "kernelspec": {
   "display_name": "Python 3",
   "language": "python",
   "name": "python3"
  },
  "language_info": {
   "codemirror_mode": {
    "name": "ipython",
    "version": 3
   },
   "file_extension": ".py",
   "mimetype": "text/x-python",
   "name": "python",
   "nbconvert_exporter": "python",
   "pygments_lexer": "ipython3",
   "version": "3.10.9"
  },
  "orig_nbformat": 4,
  "vscode": {
   "interpreter": {
    "hash": "f00f3490a45c41bdc72c89c2e2114567c675efe43a3d604fa5deafdd8d8b35cc"
   }
  }
 },
 "nbformat": 4,
 "nbformat_minor": 2
}
